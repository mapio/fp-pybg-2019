{
 "cells": [
  {
   "cell_type": "code",
   "execution_count": 1,
   "metadata": {},
   "outputs": [],
   "source": [
    "url = 'http://www.asst-pg23.it/upload/Bandi/avcpLegge190_ASSTPG23_2018_1.xml'\n",
    "\n",
    "from urllib.request import urlopen\n",
    "\n",
    "with urlopen(url) as inf:\n",
    "    data = inf.read()"
   ]
  },
  {
   "cell_type": "code",
   "execution_count": 6,
   "metadata": {},
   "outputs": [],
   "source": [
    "from lxml import etree\n",
    "\n",
    "tree = etree.fromstring(data)"
   ]
  },
  {
   "cell_type": "code",
   "execution_count": 41,
   "metadata": {},
   "outputs": [],
   "source": [
    "lotti = []\n",
    "\n",
    "for lotto in tree.xpath('//data/lotto'):\n",
    "    lotto_dict = {\n",
    "        'importoAggiudicazione': float(lotto.xpath('importoAggiudicazione')[0].text),\n",
    "        'cig': lotto.xpath('cig')[0].text\n",
    "    }\n",
    "    aggiudicatari = []\n",
    "    for agg in lotto.xpath('aggiudicatari/aggiudicatario'):\n",
    "        try:\n",
    "            cf = agg.xpath('codiceFiscale')[0].text\n",
    "        except IndexError:\n",
    "            cf = None\n",
    "        aggiudicatari.append(\n",
    "            {\n",
    "                'codiceFiscale': cf,\n",
    "                'ragioneSociale': agg.xpath('ragioneSociale')[0].text}\n",
    "        )\n",
    "    lotto_dict['aggiudicatari'] = aggiudicatari\n",
    "    lotti.append(lotto_dict)"
   ]
  },
  {
   "cell_type": "code",
   "execution_count": null,
   "metadata": {},
   "outputs": [],
   "source": [
    "for idx, lotto in enumerate(lotti):\n",
    "    if len(lotto['aggiudicatari']) > 3: \n",
    "        print(idx)"
   ]
  },
  {
   "cell_type": "code",
   "execution_count": 49,
   "metadata": {},
   "outputs": [
    {
     "data": {
      "text/plain": [
       "{'importoAggiudicazione': 39900.0,\n",
       " 'cig': 'ZD524CCFD9',\n",
       " 'aggiudicatari': [{'codiceFiscale': '00726860158',\n",
       "   'ragioneSociale': 'DENTSPLY ITALIA SRL'},\n",
       "  {'codiceFiscale': '93517310152', 'ragioneSociale': 'HOLLISTER SPA'},\n",
       "  {'codiceFiscale': '00674840152', 'ragioneSociale': 'B BRAUN MILANO  SPA'},\n",
       "  {'codiceFiscale': '06324460150', 'ragioneSociale': 'TELEFLEX MEDICAL SRL'}]}"
      ]
     },
     "execution_count": 49,
     "metadata": {},
     "output_type": "execute_result"
    }
   ],
   "source": [
    "lotti[855]        "
   ]
  },
  {
   "cell_type": "code",
   "execution_count": null,
   "metadata": {
    "scrolled": false
   },
   "outputs": [],
   "source": [
    "from IPython.display import HTML\n",
    "\n",
    "header = '<table class=\"table\"><tr><th>cig<th>importoAggiudicazione<th>codiceFiscale<th>ragioneSociale'\n",
    "\n",
    "table = []\n",
    "for lotto in lotti:\n",
    "    prima_riga = True\n",
    "    aggiudicatari = lotto['aggiudicatari']\n",
    "    rows = []\n",
    "    for aggiudicatario in aggiudicatari:\n",
    "        if prima_riga: \n",
    "            prima_riga = False\n",
    "            row = f\"\"\"\n",
    "                <td rowspan=\"{len(aggiudicatari)}\">{lotto['cig']}\n",
    "                <td rowspan=\"{len(aggiudicatari)}\">{lotto['importoAggiudicazione']}\n",
    "            \"\"\"\n",
    "        else:\n",
    "            row = ''\n",
    "        row += f\"\"\"\n",
    "            <td>{aggiudicatario['codiceFiscale']}\n",
    "            <td>{aggiudicatario['ragioneSociale']}\n",
    "        \"\"\"\n",
    "        rows.append(row)\n",
    "    table.append('<tr>' + '<tr>'.join(rows))\n",
    "\n",
    "html = header + ''.join(table) + '</table>'\n",
    "HTML(html)"
   ]
  },
  {
   "cell_type": "code",
   "execution_count": 82,
   "metadata": {},
   "outputs": [],
   "source": [
    "title = 'Bandi'\n",
    "\n",
    "with open('bandi.html', 'w') as ouf: ouf.write(f\"\"\"\n",
    "<!doctype html>\n",
    "<html>\n",
    "    <head>\n",
    "        <meta charset=\"utf-8\">\n",
    "        <title>{title}</title>\n",
    "            <script src=\"sorttable.js\"></script>\n",
    "        <link rel=\"stylesheet\" href=\"https://maxcdn.bootstrapcdn.com/bootstrap/4.0.0-beta/css/bootstrap.min.css\" integrity=\"sha384-/Y6pD6FV/Vv2HJnA6t+vslU6fwYXjCFtcEpHbNJ0lyAFsXTsjBbfaDjzALeQsN6M\" crossorigin=\"anonymous\">\n",
    "        <style>\n",
    "            body {{\n",
    "                    padding-top: 2rem;\n",
    "                    padding-bottom: 2rem;\n",
    "                }}\n",
    "        </style>\n",
    "    </head>\n",
    "    <body>{html}\n",
    "    </body>\n",
    "</html>\n",
    "\"\"\")"
   ]
  }
 ],
 "metadata": {
  "kernelspec": {
   "display_name": "Python 3",
   "language": "python",
   "name": "python3"
  },
  "language_info": {
   "codemirror_mode": {
    "name": "ipython",
    "version": 3
   },
   "file_extension": ".py",
   "mimetype": "text/x-python",
   "name": "python",
   "nbconvert_exporter": "python",
   "pygments_lexer": "ipython3",
   "version": "3.7.4"
  }
 },
 "nbformat": 4,
 "nbformat_minor": 2
}
