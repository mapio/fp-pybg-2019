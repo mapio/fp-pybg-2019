{
 "cells": [
  {
   "cell_type": "markdown",
   "metadata": {},
   "source": [
    "# Reperire i dati\n",
    "\n",
    "Usando [Requests](https://requests.kennethreitz.org/)."
   ]
  },
  {
   "cell_type": "code",
   "execution_count": 1,
   "metadata": {},
   "outputs": [],
   "source": [
    "import requests"
   ]
  },
  {
   "cell_type": "code",
   "execution_count": 34,
   "metadata": {},
   "outputs": [
    {
     "data": {
      "text/plain": [
       "{'q': 'ospedale', 'start_date': '10/10/2019', 'end_date': '17/10/2019'}"
      ]
     },
     "execution_count": 34,
     "metadata": {},
     "output_type": "execute_result"
    }
   ],
   "source": [
    "import datetime\n",
    "\n",
    "today = datetime.date.today()\n",
    "one_week_ago = today - datetime.timedelta(weeks = 1)\n",
    "\n",
    "params = {\n",
    "    'q': 'ospedale',\n",
    "    'start_date': one_week_ago.strftime('%d/%m/%Y'),\n",
    "    'end_date': today.strftime('%d/%m/%Y')\n",
    "}\n",
    "params"
   ]
  },
  {
   "cell_type": "code",
   "execution_count": 39,
   "metadata": {},
   "outputs": [
    {
     "data": {
      "text/plain": [
       "'\\n\\n\\n\\n\\n\\n\\n\\n\\n    <!doctype html>\\n    \\n    <html xmlns:fb=\"https://www.facebook.com/2008/fbml\" xml:lang=\"'"
      ]
     },
     "execution_count": 39,
     "metadata": {},
     "output_type": "execute_result"
    }
   ],
   "source": [
    "resp = requests.get('https://www.ecodibergamo.it/ricerca/', params = params)\n",
    "resp.text[:100]"
   ]
  },
  {
   "cell_type": "markdown",
   "metadata": {},
   "source": [
    "# Estrarre informazioni\n",
    "\n",
    "Usando [lxml]((https://lxml.de/)."
   ]
  },
  {
   "cell_type": "code",
   "execution_count": 49,
   "metadata": {},
   "outputs": [],
   "source": [
    "from lxml import html\n",
    "\n",
    "tree = html.fromstring(resp.content)"
   ]
  },
  {
   "cell_type": "code",
   "execution_count": 69,
   "metadata": {},
   "outputs": [
    {
     "name": "stdout",
     "output_type": "stream",
     "text": [
      "Frana terreno in un cantiere edile Bergamo, ferito operaio 23enne\n",
      "Tecnologia e dati : la sanità che cambia chiede più informatici\n",
      "Morti sul lavoro,  emergenza bergamasca Nomi e storie delle vittime del 2019\n",
      "Il cancro non si ferma davanti ai controlli «Ma dalla mia famiglia tanto coraggio»\n",
      "Elicottero in volo due volte in poche ore Presolana, soccorsi tre escursionisti\n"
     ]
    }
   ],
   "source": [
    "for elem in tree.xpath('//article/header/h2/a'):\n",
    "    text = ' '.join(map(lambda _: _.strip(), elem.itertext())).strip()\n",
    "    print(text)"
   ]
  }
 ],
 "metadata": {
  "kernelspec": {
   "display_name": "Python 3",
   "language": "python",
   "name": "python3"
  },
  "language_info": {
   "codemirror_mode": {
    "name": "ipython",
    "version": 3
   },
   "file_extension": ".py",
   "mimetype": "text/x-python",
   "name": "python",
   "nbconvert_exporter": "python",
   "pygments_lexer": "ipython3",
   "version": "3.7.4"
  }
 },
 "nbformat": 4,
 "nbformat_minor": 2
}
