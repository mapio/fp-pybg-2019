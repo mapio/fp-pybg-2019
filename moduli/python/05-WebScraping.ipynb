{
 "cells": [
  {
   "cell_type": "markdown",
   "metadata": {},
   "source": [
    "# Reperire i dati\n",
    "\n",
    "Usando [Requests](https://requests.kennethreitz.org/)."
   ]
  },
  {
   "cell_type": "code",
   "execution_count": 1,
   "metadata": {},
   "outputs": [],
   "source": [
    "import requests"
   ]
  },
  {
   "cell_type": "code",
   "execution_count": 2,
   "metadata": {},
   "outputs": [
    {
     "data": {
      "text/plain": [
       "{'q': 'ospedale', 'start_date': '18/10/2019', 'end_date': '25/10/2019'}"
      ]
     },
     "execution_count": 2,
     "metadata": {},
     "output_type": "execute_result"
    }
   ],
   "source": [
    "import datetime\n",
    "\n",
    "today = datetime.date.today()\n",
    "one_week_ago = today - datetime.timedelta(weeks = 1)\n",
    "\n",
    "params = {\n",
    "    'q': 'ospedale',\n",
    "    'start_date': one_week_ago.strftime('%d/%m/%Y'),\n",
    "    'end_date': today.strftime('%d/%m/%Y')\n",
    "}\n",
    "params"
   ]
  },
  {
   "cell_type": "code",
   "execution_count": 3,
   "metadata": {},
   "outputs": [
    {
     "data": {
      "text/plain": [
       "'\\n\\n\\n\\n\\n\\n\\n\\n\\n    <!doctype html>\\n    \\n    <html xmlns:fb=\"https://www.facebook.com/2008/fbml\" xml:lang=\"'"
      ]
     },
     "execution_count": 3,
     "metadata": {},
     "output_type": "execute_result"
    }
   ],
   "source": [
    "resp = requests.get(\n",
    "    'https://www.ecodibergamo.it/ricerca/', \n",
    "    params = params\n",
    ")\n",
    "resp.text[:100]"
   ]
  },
  {
   "cell_type": "markdown",
   "metadata": {},
   "source": [
    "# Estrarre informazioni\n",
    "\n",
    "Usando [lxml](https://lxml.de/)."
   ]
  },
  {
   "cell_type": "code",
   "execution_count": 4,
   "metadata": {},
   "outputs": [],
   "source": [
    "from lxml import html\n",
    "\n",
    "tree = html.fromstring(resp.content)"
   ]
  },
  {
   "cell_type": "code",
   "execution_count": 5,
   "metadata": {},
   "outputs": [
    {
     "data": {
      "text/plain": [
       "'Una notte insonne vale due vite Due maxi interventi in Cardiochirurgia'"
      ]
     },
     "execution_count": 5,
     "metadata": {},
     "output_type": "execute_result"
    }
   ],
   "source": [
    "# /html/body/div[6]/div[3]/article/header/h2/ax\n",
    "\n",
    "res = list(tree.xpath('//article/header/h2/a'))\n",
    "elem = res[1]\n",
    "\n",
    "' '.join(map(lambda t: t.strip(), elem.itertext()))"
   ]
  },
  {
   "cell_type": "code",
   "execution_count": 6,
   "metadata": {},
   "outputs": [
    {
     "name": "stdout",
     "output_type": "stream",
     "text": [
      "Si sente male mentre è al lavoro Muore 46enne di Dalmine\n",
      "Una notte insonne vale due vite Due maxi interventi in Cardiochirurgia\n",
      "Verdellino, investito un pedone Grave un uomo di 40 anni\n",
      "Schianto tra un camion e un furgone Traffico in tilt sulla  tangenziale Sud\n"
     ]
    }
   ],
   "source": [
    "for elem in tree.xpath('//article/header/h2/a'):\n",
    "    text = ' '.join(map(lambda _: _.strip(), elem.itertext())).strip()\n",
    "    print(text)"
   ]
  },
  {
   "cell_type": "markdown",
   "metadata": {},
   "source": [
    "Usando [Requests-HTML](https://requests-html.kennethreitz.org/)…"
   ]
  },
  {
   "cell_type": "code",
   "execution_count": 7,
   "metadata": {},
   "outputs": [],
   "source": [
    "from requests_html import HTMLSession\n",
    "\n",
    "session = HTMLSession()\n",
    "\n",
    "library_url = 'https://docs.python.org/3/library/'\n",
    "\n",
    "res = session.get(library_url)"
   ]
  },
  {
   "cell_type": "code",
   "execution_count": 8,
   "metadata": {},
   "outputs": [
    {
     "data": {
      "text/plain": [
       "['https://docs.python.org/3/library/test.html#module-test.support',\n",
       " 'https://docs.python.org/3/library/language.html',\n",
       " 'https://docs.python.org/3/library/secrets.html',\n",
       " 'https://docs.python.org/3/library/undoc.html#platform-specific-modules',\n",
       " 'https://docs.python.org/3/library/gettext.html',\n",
       " 'https://docs.python.org/3/library/internet.html',\n",
       " 'https://docs.python.org/3/library/contextvars.html#context-variables',\n",
       " 'https://docs.python.org/3/library/filecmp.html',\n",
       " 'https://docs.python.org/3/library/tracemalloc.html',\n",
       " 'https://docs.python.org/3/library/urllib.robotparser.html']"
      ]
     },
     "execution_count": 8,
     "metadata": {},
     "output_type": "execute_result"
    }
   ],
   "source": [
    "list(res.html.absolute_links)[:10]"
   ]
  },
  {
   "cell_type": "code",
   "execution_count": 9,
   "metadata": {},
   "outputs": [
    {
     "data": {
      "text/plain": [
       "[<Element 'a' class=('reference', 'internal') href='intro.html'>,\n",
       " <Element 'a' class=('reference', 'internal') href='functions.html'>,\n",
       " <Element 'a' class=('reference', 'internal') href='constants.html'>,\n",
       " <Element 'a' class=('reference', 'internal') href='stdtypes.html'>,\n",
       " <Element 'a' class=('reference', 'internal') href='exceptions.html'>,\n",
       " <Element 'a' class=('reference', 'internal') href='text.html'>,\n",
       " <Element 'a' class=('reference', 'internal') href='binary.html'>,\n",
       " <Element 'a' class=('reference', 'internal') href='datatypes.html'>,\n",
       " <Element 'a' class=('reference', 'internal') href='numeric.html'>,\n",
       " <Element 'a' class=('reference', 'internal') href='functional.html'>,\n",
       " <Element 'a' class=('reference', 'internal') href='filesys.html'>,\n",
       " <Element 'a' class=('reference', 'internal') href='persistence.html'>,\n",
       " <Element 'a' class=('reference', 'internal') href='archiving.html'>,\n",
       " <Element 'a' class=('reference', 'internal') href='fileformats.html'>,\n",
       " <Element 'a' class=('reference', 'internal') href='crypto.html'>,\n",
       " <Element 'a' class=('reference', 'internal') href='allos.html'>,\n",
       " <Element 'a' class=('reference', 'internal') href='concurrency.html'>,\n",
       " <Element 'a' class=('reference', 'internal') href='contextvars.html'>,\n",
       " <Element 'a' class=('reference', 'internal') href='ipc.html'>,\n",
       " <Element 'a' class=('reference', 'internal') href='netdata.html'>,\n",
       " <Element 'a' class=('reference', 'internal') href='markup.html'>,\n",
       " <Element 'a' class=('reference', 'internal') href='internet.html'>,\n",
       " <Element 'a' class=('reference', 'internal') href='mm.html'>,\n",
       " <Element 'a' class=('reference', 'internal') href='i18n.html'>,\n",
       " <Element 'a' class=('reference', 'internal') href='frameworks.html'>,\n",
       " <Element 'a' class=('reference', 'internal') href='tk.html'>,\n",
       " <Element 'a' class=('reference', 'internal') href='development.html'>,\n",
       " <Element 'a' class=('reference', 'internal') href='debug.html'>,\n",
       " <Element 'a' class=('reference', 'internal') href='distribution.html'>,\n",
       " <Element 'a' class=('reference', 'internal') href='python.html'>,\n",
       " <Element 'a' class=('reference', 'internal') href='custominterp.html'>,\n",
       " <Element 'a' class=('reference', 'internal') href='modules.html'>,\n",
       " <Element 'a' class=('reference', 'internal') href='language.html'>,\n",
       " <Element 'a' class=('reference', 'internal') href='misc.html'>,\n",
       " <Element 'a' class=('reference', 'internal') href='windows.html'>,\n",
       " <Element 'a' class=('reference', 'internal') href='unix.html'>,\n",
       " <Element 'a' class=('reference', 'internal') href='superseded.html'>,\n",
       " <Element 'a' class=('reference', 'internal') href='undoc.html'>]"
      ]
     },
     "execution_count": 9,
     "metadata": {},
     "output_type": "execute_result"
    }
   ],
   "source": [
    "# li.toctree-l1:nth-child(4) > a:nth-child(1)\n",
    "\n",
    "list(res.html.find('li.toctree-l1 > a'))"
   ]
  },
  {
   "cell_type": "code",
   "execution_count": 10,
   "metadata": {
    "scrolled": false
   },
   "outputs": [
    {
     "data": {
      "text/plain": [
       "[('Introduction', 'intro.html'),\n",
       " ('Built-in Functions', 'functions.html'),\n",
       " ('Built-in Constants', 'constants.html'),\n",
       " ('Built-in Types', 'stdtypes.html'),\n",
       " ('Built-in Exceptions', 'exceptions.html'),\n",
       " ('Text Processing Services', 'text.html'),\n",
       " ('Binary Data Services', 'binary.html'),\n",
       " ('Data Types', 'datatypes.html'),\n",
       " ('Numeric and Mathematical Modules', 'numeric.html'),\n",
       " ('Functional Programming Modules', 'functional.html'),\n",
       " ('File and Directory Access', 'filesys.html'),\n",
       " ('Data Persistence', 'persistence.html'),\n",
       " ('Data Compression and Archiving', 'archiving.html'),\n",
       " ('File Formats', 'fileformats.html'),\n",
       " ('Cryptographic Services', 'crypto.html'),\n",
       " ('Generic Operating System Services', 'allos.html'),\n",
       " ('Concurrent Execution', 'concurrency.html'),\n",
       " ('contextvars — Context Variables', 'contextvars.html'),\n",
       " ('Networking and Interprocess Communication', 'ipc.html'),\n",
       " ('Internet Data Handling', 'netdata.html'),\n",
       " ('Structured Markup Processing Tools', 'markup.html'),\n",
       " ('Internet Protocols and Support', 'internet.html'),\n",
       " ('Multimedia Services', 'mm.html'),\n",
       " ('Internationalization', 'i18n.html'),\n",
       " ('Program Frameworks', 'frameworks.html'),\n",
       " ('Graphical User Interfaces with Tk', 'tk.html'),\n",
       " ('Development Tools', 'development.html'),\n",
       " ('Debugging and Profiling', 'debug.html'),\n",
       " ('Software Packaging and Distribution', 'distribution.html'),\n",
       " ('Python Runtime Services', 'python.html'),\n",
       " ('Custom Python Interpreters', 'custominterp.html'),\n",
       " ('Importing Modules', 'modules.html'),\n",
       " ('Python Language Services', 'language.html'),\n",
       " ('Miscellaneous Services', 'misc.html'),\n",
       " ('MS Windows Specific Services', 'windows.html'),\n",
       " ('Unix Specific Services', 'unix.html'),\n",
       " ('Superseded Modules', 'superseded.html'),\n",
       " ('Undocumented Modules', 'undoc.html')]"
      ]
     },
     "execution_count": 10,
     "metadata": {},
     "output_type": "execute_result"
    }
   ],
   "source": [
    "titles = [\n",
    "    (li.text, li.attrs['href']) \n",
    "        for li in res.html.find('li.toctree-l1 > a')\n",
    "]\n",
    "titles"
   ]
  },
  {
   "cell_type": "code",
   "execution_count": 11,
   "metadata": {},
   "outputs": [
    {
     "data": {
      "text/html": [
       "<ul><li><a target=\"_blank\" href=\"https://docs.python.org/3/library/intro.html\">Introduction</a><li><a target=\"_blank\" href=\"https://docs.python.org/3/library/functions.html\">Built-in Functions</a><li><a target=\"_blank\" href=\"https://docs.python.org/3/library/constants.html\">Built-in Constants</a><li><a target=\"_blank\" href=\"https://docs.python.org/3/library/stdtypes.html\">Built-in Types</a><li><a target=\"_blank\" href=\"https://docs.python.org/3/library/exceptions.html\">Built-in Exceptions</a><li><a target=\"_blank\" href=\"https://docs.python.org/3/library/text.html\">Text Processing Services</a><li><a target=\"_blank\" href=\"https://docs.python.org/3/library/binary.html\">Binary Data Services</a><li><a target=\"_blank\" href=\"https://docs.python.org/3/library/datatypes.html\">Data Types</a><li><a target=\"_blank\" href=\"https://docs.python.org/3/library/numeric.html\">Numeric and Mathematical Modules</a><li><a target=\"_blank\" href=\"https://docs.python.org/3/library/functional.html\">Functional Programming Modules</a><li><a target=\"_blank\" href=\"https://docs.python.org/3/library/filesys.html\">File and Directory Access</a><li><a target=\"_blank\" href=\"https://docs.python.org/3/library/persistence.html\">Data Persistence</a><li><a target=\"_blank\" href=\"https://docs.python.org/3/library/archiving.html\">Data Compression and Archiving</a><li><a target=\"_blank\" href=\"https://docs.python.org/3/library/fileformats.html\">File Formats</a><li><a target=\"_blank\" href=\"https://docs.python.org/3/library/crypto.html\">Cryptographic Services</a><li><a target=\"_blank\" href=\"https://docs.python.org/3/library/allos.html\">Generic Operating System Services</a><li><a target=\"_blank\" href=\"https://docs.python.org/3/library/concurrency.html\">Concurrent Execution</a><li><a target=\"_blank\" href=\"https://docs.python.org/3/library/contextvars.html\">contextvars — Context Variables</a><li><a target=\"_blank\" href=\"https://docs.python.org/3/library/ipc.html\">Networking and Interprocess Communication</a><li><a target=\"_blank\" href=\"https://docs.python.org/3/library/netdata.html\">Internet Data Handling</a><li><a target=\"_blank\" href=\"https://docs.python.org/3/library/markup.html\">Structured Markup Processing Tools</a><li><a target=\"_blank\" href=\"https://docs.python.org/3/library/internet.html\">Internet Protocols and Support</a><li><a target=\"_blank\" href=\"https://docs.python.org/3/library/mm.html\">Multimedia Services</a><li><a target=\"_blank\" href=\"https://docs.python.org/3/library/i18n.html\">Internationalization</a><li><a target=\"_blank\" href=\"https://docs.python.org/3/library/frameworks.html\">Program Frameworks</a><li><a target=\"_blank\" href=\"https://docs.python.org/3/library/tk.html\">Graphical User Interfaces with Tk</a><li><a target=\"_blank\" href=\"https://docs.python.org/3/library/development.html\">Development Tools</a><li><a target=\"_blank\" href=\"https://docs.python.org/3/library/debug.html\">Debugging and Profiling</a><li><a target=\"_blank\" href=\"https://docs.python.org/3/library/distribution.html\">Software Packaging and Distribution</a><li><a target=\"_blank\" href=\"https://docs.python.org/3/library/python.html\">Python Runtime Services</a><li><a target=\"_blank\" href=\"https://docs.python.org/3/library/custominterp.html\">Custom Python Interpreters</a><li><a target=\"_blank\" href=\"https://docs.python.org/3/library/modules.html\">Importing Modules</a><li><a target=\"_blank\" href=\"https://docs.python.org/3/library/language.html\">Python Language Services</a><li><a target=\"_blank\" href=\"https://docs.python.org/3/library/misc.html\">Miscellaneous Services</a><li><a target=\"_blank\" href=\"https://docs.python.org/3/library/windows.html\">MS Windows Specific Services</a><li><a target=\"_blank\" href=\"https://docs.python.org/3/library/unix.html\">Unix Specific Services</a><li><a target=\"_blank\" href=\"https://docs.python.org/3/library/superseded.html\">Superseded Modules</a><li><a target=\"_blank\" href=\"https://docs.python.org/3/library/undoc.html\">Undocumented Modules</a></ul>"
      ],
      "text/plain": [
       "<IPython.core.display.HTML object>"
      ]
     },
     "execution_count": 11,
     "metadata": {},
     "output_type": "execute_result"
    }
   ],
   "source": [
    "from IPython.display import HTML\n",
    "\n",
    "lis = '<li>'.join(\n",
    "    f'<a target=\"_blank\" href=\"{library_url}{link}\">{title}</a>' \n",
    "for title, link in titles)\n",
    "\n",
    "HTML(f'<ul><li>{lis}</ul>')"
   ]
  },
  {
   "cell_type": "markdown",
   "metadata": {},
   "source": [
    "# Intermezzo, display avanzato\n",
    "\n",
    "Da [IPython.display](https://ipython.readthedocs.io/en/stable/api/generated/IPython.display.html#module-IPython.display)…"
   ]
  },
  {
   "cell_type": "code",
   "execution_count": 12,
   "metadata": {},
   "outputs": [
    {
     "data": {
      "image/jpeg": "[encoded data removed]",
      "text/html": [
       "\n",
       "        <iframe\n",
       "            width=\"400\"\n",
       "            height=\"300\"\n",
       "            src=\"https://www.youtube.com/embed/g0kgLNmrHx4\"\n",
       "            frameborder=\"0\"\n",
       "            allowfullscreen\n",
       "        ></iframe>\n",
       "        "
      ],
      "text/plain": [
       "<IPython.lib.display.YouTubeVideo at 0x10ec2c190>"
      ]
     },
     "execution_count": 12,
     "metadata": {},
     "output_type": "execute_result"
    }
   ],
   "source": [
    "from IPython.display import YouTubeVideo\n",
    "\n",
    "YouTubeVideo('g0kgLNmrHx4')"
   ]
  },
  {
   "cell_type": "code",
   "execution_count": 13,
   "metadata": {},
   "outputs": [
    {
     "data": {
      "text/html": [
       "\n",
       "                <audio  controls=\"controls\" >\n",
       "                    <source src=\"https://file-examples.com/wp-content/uploads/2017/11/file_example_MP3_700KB.mp3\" type=\"audio/mpeg\" />\n",
       "                    Your browser does not support the audio element.\n",
       "                </audio>\n",
       "              "
      ],
      "text/plain": [
       "<IPython.lib.display.Audio object>"
      ]
     },
     "execution_count": 13,
     "metadata": {},
     "output_type": "execute_result"
    }
   ],
   "source": [
    "from IPython.display import Audio\n",
    "\n",
    "Audio(url = 'https://file-examples.com/wp-content/uploads/2017/11/file_example_MP3_700KB.mp3')"
   ]
  },
  {
   "cell_type": "code",
   "execution_count": 14,
   "metadata": {},
   "outputs": [
    {
     "data": {
      "text/html": [
       "<style>.output_html .hll { background-color: #ffffcc }\n",
       ".output_html  { background: #f8f8f8; }\n",
       ".output_html .c { color: #408080; font-style: italic } /* Comment */\n",
       ".output_html .err { border: 1px solid #FF0000 } /* Error */\n",
       ".output_html .k { color: #008000; font-weight: bold } /* Keyword */\n",
       ".output_html .o { color: #666666 } /* Operator */\n",
       ".output_html .ch { color: #408080; font-style: italic } /* Comment.Hashbang */\n",
       ".output_html .cm { color: #408080; font-style: italic } /* Comment.Multiline */\n",
       ".output_html .cp { color: #BC7A00 } /* Comment.Preproc */\n",
       ".output_html .cpf { color: #408080; font-style: italic } /* Comment.PreprocFile */\n",
       ".output_html .c1 { color: #408080; font-style: italic } /* Comment.Single */\n",
       ".output_html .cs { color: #408080; font-style: italic } /* Comment.Special */\n",
       ".output_html .gd { color: #A00000 } /* Generic.Deleted */\n",
       ".output_html .ge { font-style: italic } /* Generic.Emph */\n",
       ".output_html .gr { color: #FF0000 } /* Generic.Error */\n",
       ".output_html .gh { color: #000080; font-weight: bold } /* Generic.Heading */\n",
       ".output_html .gi { color: #00A000 } /* Generic.Inserted */\n",
       ".output_html .go { color: #888888 } /* Generic.Output */\n",
       ".output_html .gp { color: #000080; font-weight: bold } /* Generic.Prompt */\n",
       ".output_html .gs { font-weight: bold } /* Generic.Strong */\n",
       ".output_html .gu { color: #800080; font-weight: bold } /* Generic.Subheading */\n",
       ".output_html .gt { color: #0044DD } /* Generic.Traceback */\n",
       ".output_html .kc { color: #008000; font-weight: bold } /* Keyword.Constant */\n",
       ".output_html .kd { color: #008000; font-weight: bold } /* Keyword.Declaration */\n",
       ".output_html .kn { color: #008000; font-weight: bold } /* Keyword.Namespace */\n",
       ".output_html .kp { color: #008000 } /* Keyword.Pseudo */\n",
       ".output_html .kr { color: #008000; font-weight: bold } /* Keyword.Reserved */\n",
       ".output_html .kt { color: #B00040 } /* Keyword.Type */\n",
       ".output_html .m { color: #666666 } /* Literal.Number */\n",
       ".output_html .s { color: #BA2121 } /* Literal.String */\n",
       ".output_html .na { color: #7D9029 } /* Name.Attribute */\n",
       ".output_html .nb { color: #008000 } /* Name.Builtin */\n",
       ".output_html .nc { color: #0000FF; font-weight: bold } /* Name.Class */\n",
       ".output_html .no { color: #880000 } /* Name.Constant */\n",
       ".output_html .nd { color: #AA22FF } /* Name.Decorator */\n",
       ".output_html .ni { color: #999999; font-weight: bold } /* Name.Entity */\n",
       ".output_html .ne { color: #D2413A; font-weight: bold } /* Name.Exception */\n",
       ".output_html .nf { color: #0000FF } /* Name.Function */\n",
       ".output_html .nl { color: #A0A000 } /* Name.Label */\n",
       ".output_html .nn { color: #0000FF; font-weight: bold } /* Name.Namespace */\n",
       ".output_html .nt { color: #008000; font-weight: bold } /* Name.Tag */\n",
       ".output_html .nv { color: #19177C } /* Name.Variable */\n",
       ".output_html .ow { color: #AA22FF; font-weight: bold } /* Operator.Word */\n",
       ".output_html .w { color: #bbbbbb } /* Text.Whitespace */\n",
       ".output_html .mb { color: #666666 } /* Literal.Number.Bin */\n",
       ".output_html .mf { color: #666666 } /* Literal.Number.Float */\n",
       ".output_html .mh { color: #666666 } /* Literal.Number.Hex */\n",
       ".output_html .mi { color: #666666 } /* Literal.Number.Integer */\n",
       ".output_html .mo { color: #666666 } /* Literal.Number.Oct */\n",
       ".output_html .sa { color: #BA2121 } /* Literal.String.Affix */\n",
       ".output_html .sb { color: #BA2121 } /* Literal.String.Backtick */\n",
       ".output_html .sc { color: #BA2121 } /* Literal.String.Char */\n",
       ".output_html .dl { color: #BA2121 } /* Literal.String.Delimiter */\n",
       ".output_html .sd { color: #BA2121; font-style: italic } /* Literal.String.Doc */\n",
       ".output_html .s2 { color: #BA2121 } /* Literal.String.Double */\n",
       ".output_html .se { color: #BB6622; font-weight: bold } /* Literal.String.Escape */\n",
       ".output_html .sh { color: #BA2121 } /* Literal.String.Heredoc */\n",
       ".output_html .si { color: #BB6688; font-weight: bold } /* Literal.String.Interpol */\n",
       ".output_html .sx { color: #008000 } /* Literal.String.Other */\n",
       ".output_html .sr { color: #BB6688 } /* Literal.String.Regex */\n",
       ".output_html .s1 { color: #BA2121 } /* Literal.String.Single */\n",
       ".output_html .ss { color: #19177C } /* Literal.String.Symbol */\n",
       ".output_html .bp { color: #008000 } /* Name.Builtin.Pseudo */\n",
       ".output_html .fm { color: #0000FF } /* Name.Function.Magic */\n",
       ".output_html .vc { color: #19177C } /* Name.Variable.Class */\n",
       ".output_html .vg { color: #19177C } /* Name.Variable.Global */\n",
       ".output_html .vi { color: #19177C } /* Name.Variable.Instance */\n",
       ".output_html .vm { color: #19177C } /* Name.Variable.Magic */\n",
       ".output_html .il { color: #666666 } /* Literal.Number.Integer.Long */</style><div class=\"highlight\"><pre><span></span>#<span class=\"k\">include</span> <span class=\"o\">&lt;</span><span class=\"nv\">stdio</span>.<span class=\"nv\">h</span><span class=\"o\">&gt;</span>\n",
       "\n",
       "<span class=\"nv\">int</span> <span class=\"nv\">main</span><span class=\"ss\">(</span><span class=\"nv\">void</span><span class=\"ss\">)</span> {\n",
       "    <span class=\"nv\">printf</span><span class=\"ss\">(</span><span class=\"s2\">&quot;</span><span class=\"s\">Hello, world!</span><span class=\"s2\">&quot;</span><span class=\"ss\">)</span><span class=\"c1\">;</span>\n",
       "    <span class=\"k\">return</span> <span class=\"mi\">0</span><span class=\"c1\">;</span>\n",
       "}\n",
       "</pre></div>\n"
      ],
      "text/latex": [
       "\\begin{Verbatim}[commandchars=\\\\\\{\\}]\n",
       "\\PYZsh{}\\PY{k}{include} \\PY{o}{\\PYZlt{}}\\PY{n+nv}{stdio}.\\PY{n+nv}{h}\\PY{o}{\\PYZgt{}}\n",
       "\n",
       "\\PY{n+nv}{int} \\PY{n+nv}{main}\\PY{l+s+ss}{(}\\PY{n+nv}{void}\\PY{l+s+ss}{)} \\PYZob{}\n",
       "    \\PY{n+nv}{printf}\\PY{l+s+ss}{(}\\PY{l+s+s2}{\\PYZdq{}}\\PY{l+s}{H}\\PY{l+s}{e}\\PY{l+s}{l}\\PY{l+s}{l}\\PY{l+s}{o}\\PY{l+s}{,}\\PY{l+s}{ }\\PY{l+s}{w}\\PY{l+s}{o}\\PY{l+s}{r}\\PY{l+s}{l}\\PY{l+s}{d}\\PY{l+s}{!}\\PY{l+s+s2}{\\PYZdq{}}\\PY{l+s+ss}{)}\\PY{c+c1}{;}\n",
       "    \\PY{k}{return} \\PY{l+m+mi}{0}\\PY{c+c1}{;}\n",
       "\\PYZcb{}\n",
       "\\end{Verbatim}\n"
      ],
      "text/plain": [
       "\n",
       "#include <stdio.h>\n",
       "\n",
       "int main(void) {\n",
       "    printf(\"Hello, world!\");\n",
       "    return 0;\n",
       "}"
      ]
     },
     "execution_count": 14,
     "metadata": {},
     "output_type": "execute_result"
    }
   ],
   "source": [
    "from IPython.display import Code\n",
    "\n",
    "Code(\"\"\"\n",
    "#include <stdio.h>\n",
    "\n",
    "int main(void) {\n",
    "    printf(\"Hello, world!\");\n",
    "    return 0;\n",
    "}\n",
    "\"\"\")"
   ]
  },
  {
   "cell_type": "code",
   "execution_count": 32,
   "metadata": {},
   "outputs": [
    {
     "data": {
      "image/svg+xml": [
       "<svg height=\"65.601105\" id=\"svg2985\" version=\"1.1\" width=\"100\" xml:space=\"preserve\" xmlns=\"http://www.w3.org/2000/svg\" xmlns:cc=\"http://creativecommons.org/ns#\" xmlns:dc=\"http://purl.org/dc/elements/1.1/\" xmlns:rdf=\"http://www.w3.org/1999/02/22-rdf-syntax-ns#\" xmlns:svg=\"http://www.w3.org/2000/svg\"><metadata id=\"metadata2991\"><rdf:RDF><cc:Work rdf:about=\"\"><dc:format>image/svg+xml</dc:format><dc:type rdf:resource=\"http://purl.org/dc/dcmitype/StillImage\"/><dc:title/></cc:Work></rdf:RDF></metadata><defs id=\"defs2989\"/><path d=\"m 11.949881,24.966458 c 0.327011,-0.33954 0.615181,-0.721679 0.858246,-1.140153 0.431003,-0.741725 0.690356,-1.546096 0.774302,-2.374273 1.502244,-1.200292 3.217484,-2.129955 5.08558,-2.740124 -0.04631,-0.238054 -0.102739,-0.477361 -0.165385,-0.715414 -0.04891,-0.18919 -0.105244,-0.378381 -0.165384,-0.563812 0.517453,-0.16789 1.03616,-0.30947 1.563637,-0.427244 0.321999,-0.07137 0.643998,-0.106498 0.962239,-0.106498 1.606236,0 3.117251,0.885811 3.885288,2.360492 -0.33077,-0.02255 -0.669057,-0.0438 -1.003585,-0.0438 -1.287996,0 -2.578498,0.169143 -3.837677,0.502419 -1.869349,0.496154 -3.590854,1.329342 -5.09811,2.449448 -0.149097,0.805624 -0.437267,1.589948 -0.862005,2.320397 -0.363345,0.626458 -0.820659,1.187764 -1.335607,1.668883 1.067483,1.737792 2.494553,3.206208 4.182229,4.301256 -0.06014,-0.5588 -0.09272,-1.118853 -0.09021,-1.677653 0.425991,0.330769 0.875787,0.631469 1.341872,0.902099 -0.03007,-0.498661 -0.03378,-0.996068 -0.01002,-1.490969 0.800613,-0.962238 1.904431,-1.686423 3.214979,-2.00341 0.449797,-0.109004 0.900846,-0.162879 1.344378,-0.167891 1.172728,0.02005 2.230188,0.826924 2.518358,2.018446 0.342046,1.418299 -0.529983,2.845369 -1.947029,3.187414 -0.21049,0.05012 -0.422233,0.07638 -0.628963,0.07638 -0.229284,0 -0.453556,-0.03127 -0.669057,-0.0877 -0.481119,-0.135315 -0.984791,-0.206731 -1.497233,-0.206731 -0.437267,0 -0.882052,0.05262 -1.325584,0.15912 -0.918386,0.221766 -1.729022,0.659033 -2.389308,1.244144 0.02135,0.344552 0.07397,0.695368 0.157868,1.043678 0.314481,1.301779 1.029895,2.399332 1.983363,3.198691 0.329517,-0.02385 0.660286,-0.07517 0.992309,-0.155361 0.927157,-0.223019 1.750322,-0.651516 2.436919,-1.222845 0.641492,-0.484878 1.389482,-0.850729 2.221417,-1.052448 3.231267,-0.780566 5.21839,-4.034385 4.437824,-7.265652 -0.09893,-0.404691 -0.235548,-0.790589 -0.405944,-1.153934 0.456061,0.637733 0.805624,1.36693 1.018619,2.167542 0.699127,2.636132 -0.284411,5.321128 -2.286569,6.919847 -0.434761,0.348311 -0.915881,0.642746 -1.440852,0.877041 -1.826749,0.783071 -3.471826,1.903177 -4.858803,3.307694 -1.949535,1.776633 -2.974419,4.444089 -2.588521,7.170431 1.235373,-3.857724 4.351372,-7.026345 8.558659,-8.140187 4.918943,-1.303031 8.348171,-5.427626 9.020986,-10.167402 0.324505,1.677653 0.157867,3.45178 -0.593882,5.125674 -0.37838,0.843212 -0.764278,1.468416 -1.3544,2.119932 -1.665124,1.944523 -3.714892,3.222496 -6.090418,3.980509 -5.276024,1.680159 -8.660146,6.565273 -8.697734,11.823756 1.081266,-3.282637 3.504402,-6.079142 6.830891,-7.541294 -0.560053,1.846797 -0.529983,3.858978 0.140326,5.723314 0.655275,-3.744961 2.738872,-7.240593 6.092924,-9.589808 6.205686,-4.347614 8.066264,-12.624368 4.573138,-19.144536 1.935753,2.449449 3.098458,5.542895 3.098458,8.900706 0,3.29266 -1.115094,6.333483 -2.984442,8.760379 -0.137821,1.82675 -0.620193,3.55953 -1.380712,5.131938 5.613057,-1.963317 9.648695,-7.310757 9.648695,-13.582847 0,-5.871158 -3.534472,-10.930427 -8.58873,-13.164374 6.239515,1.80545 10.813907,7.57011 10.813907,14.382207 0,1.769115 -0.308217,3.466815 -0.873282,5.045487 -0.30947,0.768037 -0.33954,1.651342 -0.01884,2.487036 0.07768,0.202972 0.172902,0.393415 0.284412,0.571329 1.266697,-0.563812 2.401837,-1.394494 3.321477,-2.439425 2.374273,-2.695019 3.055858,-6.486339 1.769115,-9.837886 -2.227682,-5.809765 -6.86096,-10.438031 -12.675737,-12.659449 7.256881,0.740472 13.15435,6.144293 14.637801,13.158109 0.07387,-0.601399 0.11151,-1.214074 0.11151,-1.83552 0,-8.220372 -6.686806,-14.907178 -14.907178,-14.907178 -0.689104,0 -1.368183,0.04631 -2.032228,0.137821 1.30679,-0.393415 2.691261,-0.6064109 4.123342,-0.6064109 5.411338,0 10.128562,3.0207769 12.55671,7.4636129 C 53.476433,10.371255 47.652886,4.6930462 40.528813,4.6930462 c -3.475585,0 -6.642953,1.3531478 -9.002191,3.5607834 2.176313,-2.9581315 5.681968,-4.8813554 9.62489,-4.8813554 1.380712,0 2.705043,0.2355479 3.939164,0.6678035 -1.894407,-2.039745 -4.59945,-3.31897085 -7.596422,-3.31897085 -5.715796,0 -10.366615,4.65081905 -10.366615,10.36786815 0,1.23788 0.226777,2.429402 0.626457,3.529461 -1.274214,-0.444785 -2.626109,-0.67908 -4.009327,-0.67908 -1.042425,0 -2.102391,0.134062 -3.158598,0.414715 -1.24665,0.329516 -2.396825,0.840706 -3.431733,1.49598 -0.434761,0.674068 -0.675321,1.472175 -0.672815,2.300351 -0.286917,0.130303 -0.570076,0.269377 -0.850729,0.415968 -1.776633,0.922145 -3.354052,2.119931 -4.689659,3.534472 l 0.10775,0.431003 c 0.225525,0.850729 0.52873,1.665123 0.900846,2.434413\" id=\"path3017\" style=\"fill:#274479;fill-opacity:1;fill-rule:nonzero;stroke:none\"/><path d=\"m 21.622632,12.788879 c -0.02506,-0.333275 -0.03759,-0.664044 -0.03759,-1.002331 0,-3.3377649 1.241638,-6.3936237 3.286395,-8.7252978 -3.320224,0.9672501 -5.75589,4.0393968 -5.75589,7.6690908 0,0.892075 0.146591,1.750321 0.417221,2.549681 0.675321,-0.218007 1.374447,-0.380886 2.089861,-0.491143\" id=\"path3021\" style=\"fill:#274479;fill-opacity:1;fill-rule:nonzero;stroke:none\"/><path d=\"m 22.932309,12.646919 c 0.258101,-0.01504 0.518707,-0.02255 0.781819,-0.02255 0.75676,0 1.498486,0.06144 2.221417,0.180419 -0.0865,-0.568823 -0.130303,-1.151428 -0.130303,-1.746563 0,-5.1394554 3.345282,-9.5133804 7.974802,-11.058224114996 C 27.690879,0.4811181 22.902239,5.5742161 22.900986,11.786167 c 0,0.289423 0.01002,0.577593 0.03127,0.860752\" id=\"path3025\" style=\"fill:#274479;fill-opacity:1;fill-rule:nonzero;stroke:none\"/><path d=\"m 99.565319,37.240881 c -1.419553,-5.114397 -5.526607,-8.32687 -10.755019,-8.388263 -4.407754,-0.05142 -7.323286,2.262764 -10.936692,2.146243 -2.330421,-0.07518 -4.995371,-1.928236 -4.739776,-5.053005 0.154108,-1.885636 2.510841,-4.804927 7.294469,-5.01667 1.668882,-0.07267 3.068388,-0.410956 4.530539,-1.841785 1.567396,-1.536073 2.264017,-3.632199 2.088609,-5.664427 -0.353322,0.793095 -0.855741,1.536074 -1.513521,2.180072 -0.457314,0.44729 -0.963492,0.826924 -1.511015,1.133888 1.871854,-2.562211 1.820485,-6.1255 -0.196708,-8.6213059 0.76929,2.5584519 0.145338,5.4401549 -1.890648,7.4360479 -1.136394,1.116347 -2.450701,2.200118 -3.964222,2.692514 -1.779139,0.576341 -3.059617,0.902098 -4.331326,1.86559 -4.320049,3.270107 -3.625935,6.982493 -2.89298,8.824277 0.660286,1.657607 2.357986,4.262416 6.644207,4.643302 4.440329,0.393415 8.016147,-1.846796 11.105835,-1.678906 2.617338,0.14158 5.480248,1.202799 7.273169,5.342428 1.767863,4.075732 -0.115268,7.5225 -3.396651,7.250617 -2.851634,-0.235548 -3.57206,-0.780565 -4.946507,-1.952041 -1.026137,-0.763025 -3.037065,-1.819232 -5.337417,-2.727595 -2.32165,-0.917133 -4.855044,-1.797932 -7.459853,-0.442279 -2.483277,1.293008 -2.270282,2.926809 -6.438728,2.926809 -5.704521,0 -12.269793,-3.459297 -16.049837,-6.728152 -0.347057,0.602652 -0.622698,0.963492 -0.622698,0.963492 -0.181673,0.244318 -0.373369,0.483625 -0.577594,0.715414 -1.014861,1.152681 -2.294087,2.091115 -3.696098,2.715066 l -0.86827,0.384645 -0.49866,-0.806877 c -0.147844,-0.24056 -0.274388,-0.492396 -0.374622,-0.755508 -0.154108,-0.403438 -0.24933,-0.820659 -0.283158,-1.240385 -0.05763,-0.682839 0.281906,-2.836599 0.281906,-2.836599 -1.543591,4.322556 -5.101869,7.974802 -9.604844,9.548462 l -2.482024,0.86827 1.142658,-2.368008 C 35.278269,41.26399 35.708019,39.66903 35.83331,38.01393 l 0.02135,-0.275641 c -0.872029,1.02739 -1.878119,1.947029 -2.999478,2.732606 -3.005742,2.10615 -5.011658,5.262242 -5.645633,8.886924 l -0.707897,4.043155 -1.388229,-3.861483 c -0.454808,-1.266696 -0.647757,-2.621097 -0.578847,-3.966727 -1.296766,1.579925 -2.077332,3.594612 -2.077332,5.798489 0,1.106323 0.197961,2.167542 0.557547,3.148574 -1.98587,1.100059 -4.269933,1.726516 -6.700587,1.726516 -1.399506,0 -2.751401,-0.206731 -4.025615,-0.593881 -1.63756,1.266697 -3.6923395,2.019698 -5.9225275,2.019698 -0.3357812,0 -0.6652977,-0.01754 -0.9910555,-0.05012 -0.2618592,-0.04761 -0.5312358,-0.07147 -0.806877,-0.07147 -2.5233701,0 -4.568126747211,2.04601 -4.568126747211,4.56938 0,0.694115 0.155361417211,1.358159 0.433508457211,1.949535 l 1.57240789,0 c -0.040093,-0.216754 -0.061343,-0.439773 -0.061343,-0.66655 0,-1.795427 1.2930079,-3.302683 3.0157655,-3.6109 -1.0599658,0.893328 -1.6814115,2.211394 -1.6814115,3.6109 0,0.225524 0.017541,0.44729 0.048814,0.66655 l 1.6939406,0 c -0.040093,-0.216754 -0.061443,-0.439773 -0.061443,-0.66655 0,-1.795427 1.291755,-3.302683 3.0145126,-3.6109 -1.0599657,0.893328 -1.6801585,2.211394 -1.6801585,3.6109 0,0.225524 0.016338,0.44729 0.047611,0.66655 l 6.5940897,0 c -0.01133,-0.141579 -0.01754,-0.283159 -0.01754,-0.427244 0,-3.118504 2.537152,-5.656909 5.656909,-5.656909 0.259354,0 0.51996,0.02135 0.774302,0.06265 0.337034,0.04009 0.680332,0.06014 1.022378,0.06014 1.921971,0 3.741203,-0.622698 5.258483,-1.794173 l 0.443531,-0.344552 c 0,0 4.390213,2.108655 10.946715,0.07147 -1.985869,1.100059 -4.26868,1.725264 -6.699334,1.725264 -1.400759,0 -2.751401,-0.205478 -4.025615,-0.592629 -1.637559,1.266697 -3.693592,2.022204 -5.92378,2.022204 -0.403439,0 -0.800613,-0.02506 -1.190269,-0.07397 -0.19796,-0.03127 -0.39968,-0.04761 -0.606411,-0.04761 -2.52337,0 -4.569379,2.046009 -4.569379,4.568126 0,0.697874 0.157867,1.363171 0.436014,1.958306 l 1.563637,0 c -0.0413,-0.216754 -0.06264,-0.43852 -0.06264,-0.664045 0,-1.795427 1.291755,-3.302683 3.015765,-3.6109 -1.059966,0.892075 -1.681411,2.211394 -1.681411,3.6109 0,0.223019 0.01624,0.446038 0.04761,0.664045 l 1.69394,0 c -0.03879,-0.216754 -0.06014,-0.43852 -0.06014,-0.664045 0,-1.795427 1.291755,-3.302683 3.014513,-3.6109 -1.059966,0.892075 -1.681412,2.211394 -1.681412,3.6109 0,0.223019 0.01754,0.446038 0.04761,0.664045 l 25.533147,0 c 0.705391,-0.690356 1.143911,-1.653847 1.143911,-2.718825 0,-5.13695 -2.004663,-9.807816 -5.27477,-13.268366 3.743709,2.820311 6.020255,5.730832 6.944906,10.508195 0.283158,2.138725 2.112414,3.947934 4.327567,3.947934 l 5.866146,0 c 0.09893,-3.861483 3.0521,-6.091671 6.937388,-6.091671 l 0.005,0.007 c 0.432255,0 0.851982,0.04761 1.257926,0.141579 2.05478,0.522465 4.087008,0.191696 5.790972,-0.795601 -3.063377,-0.905857 -4.892632,-4.090766 -4.098284,-7.214282 0.07768,-0.3007 0.175408,-0.590123 0.293182,-0.865764 -0.446038,2.995719 1.450875,5.913757 4.447847,6.675529 0.654021,0.16789 1.058713,0.8382 0.890822,1.493474 -0.07016,0.274388 -0.226777,0.503672 -0.436014,0.666551 -2.08485,1.281731 -4.653325,1.734034 -7.205512,1.083771 -0.303206,-0.06265 -0.61894,-0.09642 -0.940939,-0.09642 -2.52337,0 -4.56938,2.046009 -4.56938,4.568126 0,0.697874 0.157867,1.363171 0.434762,1.958306 l 1.582431,0 c -0.03879,-0.216754 -0.06014,-0.43852 -0.06014,-0.664045 0,-1.795427 1.291755,-3.302683 3.014512,-3.6109 -1.059965,0.892075 -1.680158,2.211394 -1.680158,3.6109 0,0.223019 0.01634,0.446038 0.04761,0.664045 l 1.695193,0 c -0.0413,-0.216754 -0.06265,-0.43852 -0.06265,-0.664045 0,-1.795427 1.293008,-3.302683 3.015766,-3.6109 -1.059966,0.892075 -1.680159,2.211394 -1.680159,3.6109 0,0.223019 0.01634,0.446038 0.04761,0.664045 l 9.638672,0 5.570459,0 0,0.001 0.001,-0.001 6.77451,0 c 2.155013,0 3.037065,-1.527303 1.959558,-3.392893 L 89.26611,58.248 c 1.236627,-1.943271 1.953294,-4.25114 1.953294,-6.724393 0,-1.269203 -0.18919,-2.492047 -0.538754,-3.647234 0.552536,0.0877 1.1176,0.135314 1.692688,0.135314 5.940068,0 8.779172,-5.049246 7.19173,-10.771307\" id=\"path3029\" style=\"fill:#274479;fill-opacity:1;fill-rule:nonzero;stroke:none\"/></svg>"
      ],
      "text/plain": [
       "<IPython.core.display.SVG object>"
      ]
     },
     "execution_count": 32,
     "metadata": {},
     "output_type": "execute_result"
    }
   ],
   "source": [
    "from IPython.display import SVG\n",
    "\n",
    "SVG(url = 'https://upload.wikimedia.org/wikipedia/commons/f/fb/Banc_de_Binary_Lion.svg')"
   ]
  }
 ],
 "metadata": {
  "kernelspec": {
   "display_name": "Python 3",
   "language": "python",
   "name": "python3"
  },
  "language_info": {
   "codemirror_mode": {
    "name": "ipython",
    "version": 3
   },
   "file_extension": ".py",
   "mimetype": "text/x-python",
   "name": "python",
   "nbconvert_exporter": "python",
   "pygments_lexer": "ipython3",
   "version": "3.7.4"
  }
 },
 "nbformat": 4,
 "nbformat_minor": 2
}
