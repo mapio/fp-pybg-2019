{
 "cells": [
  {
   "cell_type": "markdown",
   "metadata": {},
   "source": [
    "# Funzioni come cittadini di prim'ordine"
   ]
  },
  {
   "cell_type": "code",
   "execution_count": 6,
   "metadata": {},
   "outputs": [
    {
     "data": {
      "text/plain": [
       "[2, 4, 6]"
      ]
     },
     "execution_count": 6,
     "metadata": {},
     "output_type": "execute_result"
    }
   ],
   "source": [
    "def double(x):\n",
    "    return x * 2\n",
    "\n",
    "list(map(double, [1, 2, 3]))"
   ]
  },
  {
   "cell_type": "code",
   "execution_count": 9,
   "metadata": {},
   "outputs": [
    {
     "data": {
      "text/plain": [
       "[0, 2, 4, 6, 8]"
      ]
     },
     "execution_count": 9,
     "metadata": {},
     "output_type": "execute_result"
    }
   ],
   "source": [
    "list(filter(lambda x: x % 2 == 0, range(10)))"
   ]
  },
  {
   "cell_type": "code",
   "execution_count": 10,
   "metadata": {},
   "outputs": [
    {
     "name": "stdout",
     "output_type": "stream",
     "text": [
      "Got Massimo…\n",
      "Hi Massimo!\n"
     ]
    }
   ],
   "source": [
    "# decoratori\n",
    "\n",
    "def make_verbose(f):\n",
    "    def verbose_f(arg):\n",
    "        print(f'Got {arg}…')\n",
    "        f(arg)\n",
    "    return verbose_f\n",
    "\n",
    "@make_verbose\n",
    "def sayhi(name):\n",
    "    print(f'Hi {name}!')\n",
    "    \n",
    "sayhi('Massimo')"
   ]
  },
  {
   "cell_type": "markdown",
   "metadata": {},
   "source": [
    "# La libreria standard\n",
    "\n",
    "Da [Functional Programming Modules](https://docs.python.org/3/library/functional.html)"
   ]
  },
  {
   "cell_type": "code",
   "execution_count": 23,
   "metadata": {},
   "outputs": [
    {
     "name": "stdout",
     "output_type": "stream",
     "text": [
      "CPU times: user 3.93 s, sys: 16.7 ms, total: 3.95 s\n",
      "Wall time: 3.96 s\n"
     ]
    },
    {
     "data": {
      "text/plain": [
       "14930352"
      ]
     },
     "execution_count": 23,
     "metadata": {},
     "output_type": "execute_result"
    }
   ],
   "source": [
    "def fib(n):\n",
    "    if n < 2: return 1\n",
    "    return fib(n - 1) + fib(n - 2)\n",
    "\n",
    "%time fib(35)"
   ]
  },
  {
   "cell_type": "code",
   "execution_count": 24,
   "metadata": {},
   "outputs": [
    {
     "name": "stdout",
     "output_type": "stream",
     "text": [
      "CPU times: user 30 µs, sys: 1 µs, total: 31 µs\n",
      "Wall time: 34.8 µs\n"
     ]
    },
    {
     "data": {
      "text/plain": [
       "14930352"
      ]
     },
     "execution_count": 24,
     "metadata": {},
     "output_type": "execute_result"
    }
   ],
   "source": [
    "from functools import lru_cache\n",
    "\n",
    "@lru_cache()\n",
    "def fib(n):\n",
    "    if n < 2: return 1\n",
    "    return fib(n - 1) + fib(n - 2)\n",
    "\n",
    "%time fib(35)"
   ]
  },
  {
   "cell_type": "code",
   "execution_count": 37,
   "metadata": {
    "scrolled": false
   },
   "outputs": [
    {
     "name": "stdout",
     "output_type": "stream",
     "text": [
      "['AGRUMICOLTURE', 'AGRUMICULTORE']\n",
      "['APICOLTURE', 'APICULTORE']\n",
      "['ARTEFECI', 'ARTEFICE']\n",
      "['AVICOLTURE', 'AVICULTORE']\n",
      "['BACHICOLTURE', 'BACHICULTORE']\n",
      "['BIETICOLTURE', 'BIETICULTORE']\n",
      "['CAMINO', 'CAMION']\n",
      "['CARTONO', 'CARTOON']\n",
      "['CEREALICOLTURE', 'CEREALICULTORE']\n",
      "['CONVENTINO', 'CONVENTION']\n",
      "['DEMODOSSALOGO', 'DEMODOSSOLOGA']\n",
      "['ENOPLIO', 'ENOPOLI']\n",
      "['FIORICOLTURE', 'FIORICULTORE']\n",
      "['FLORICOLTURE', 'FLORICULTORE']\n",
      "['FRUTTICOLTURE', 'FRUTTICULTORE']\n",
      "['FUNGHICOLTURE', 'FUNGHICULTORE']\n",
      "['FUSELLO', 'FUSELOL']\n",
      "['GARGARIZZO', 'GARGAROZZI']\n",
      "['GELSICOLTURE', 'GELSICULTORE']\n",
      "['LAGANE', 'LAGENA']\n",
      "['LEPADI', 'LEPIDA']\n",
      "['LIQUIDAMBAR', 'LIQUIDAMBRA']\n",
      "['MALNATO', 'MALNOTA']\n",
      "['MOLDAVO', 'MOLDOVA']\n",
      "['OPTINO', 'OPTION']\n",
      "['ORNITOGALO', 'ORNITOLOGA']\n",
      "['POLLICOLTURE', 'POLLICULTORE']\n",
      "['POMICOLTURE', 'POMICULTORE']\n",
      "['PONDARE', 'PONDERA']\n",
      "['QUALSIASI', 'QUALSISIA']\n",
      "['RIPIGNERE', 'RIPINGERE']\n",
      "['ROSICOLTURE', 'ROSICULTORE']\n",
      "['SERICOLTURE', 'SERICULTORE']\n",
      "['SILVICOLTURE', 'SILVICULTORE']\n",
      "['TABACCHICOLTURE', 'TABACCHICULTORE']\n",
      "['TARTUFICOLTURE', 'TARTUFICULTORE']\n",
      "['TRAMVAI', 'TRAMVIA']\n",
      "['UCRAINO', 'UCRONIA']\n",
      "['VITICOLTURE', 'VITICULTORE']\n"
     ]
    }
   ],
   "source": [
    "from itertools import groupby\n",
    "\n",
    "with open('zingarelli.txt') as input_file:\n",
    "    parole = [line.strip() for line in input_file]\n",
    "\n",
    "for firma, anagrammi in groupby(parole, lambda p: list(sorted(p))):\n",
    "    anagrammi = list(anagrammi)\n",
    "    if len(anagrammi) > 1: print(anagrammi)"
   ]
  }
 ],
 "metadata": {
  "kernelspec": {
   "display_name": "Python 3",
   "language": "python",
   "name": "python3"
  },
  "language_info": {
   "codemirror_mode": {
    "name": "ipython",
    "version": 3
   },
   "file_extension": ".py",
   "mimetype": "text/x-python",
   "name": "python",
   "nbconvert_exporter": "python",
   "pygments_lexer": "ipython3",
   "version": "3.7.4"
  }
 },
 "nbformat": 4,
 "nbformat_minor": 2
}
