{
 "cells": [
  {
   "cell_type": "markdown",
   "metadata": {},
   "source": [
    "# Funzioni come cittadini di prim'ordine\n",
    "\n",
    "Si veda anche [Functional Programming HOWTO](https://docs.python.org/3/howto/functional.html)."
   ]
  },
  {
   "cell_type": "code",
   "execution_count": 1,
   "metadata": {},
   "outputs": [
    {
     "data": {
      "text/plain": [
       "[2, 4, 6]"
      ]
     },
     "execution_count": 1,
     "metadata": {},
     "output_type": "execute_result"
    }
   ],
   "source": [
    "def double(x):\n",
    "    return x * 2\n",
    "\n",
    "list(map(double, [1, 2, 3]))"
   ]
  },
  {
   "cell_type": "code",
   "execution_count": 2,
   "metadata": {},
   "outputs": [
    {
     "data": {
      "text/plain": [
       "[0, 2, 4, 6, 8]"
      ]
     },
     "execution_count": 2,
     "metadata": {},
     "output_type": "execute_result"
    }
   ],
   "source": [
    "list(filter(lambda x: x % 2 == 0, range(10)))"
   ]
  },
  {
   "cell_type": "code",
   "execution_count": 3,
   "metadata": {},
   "outputs": [
    {
     "name": "stdout",
     "output_type": "stream",
     "text": [
      "Got Massimo…\n",
      "Hi Massimo!\n"
     ]
    }
   ],
   "source": [
    "# decoratori\n",
    "\n",
    "def make_verbose(f):\n",
    "    def verbose_f(arg):\n",
    "        print(f'Got {arg}…')\n",
    "        f(arg)\n",
    "    return verbose_f\n",
    "\n",
    "@make_verbose\n",
    "def sayhi(name):\n",
    "    \"\"\"Says hi to the given name\"\"\"\n",
    "    print(f'Hi {name}!')\n",
    "    \n",
    "sayhi('Massimo')"
   ]
  },
  {
   "cell_type": "code",
   "execution_count": 4,
   "metadata": {},
   "outputs": [
    {
     "name": "stdout",
     "output_type": "stream",
     "text": [
      "Help on function verbose_f in module __main__:\n",
      "\n",
      "verbose_f(arg)\n",
      "\n"
     ]
    }
   ],
   "source": [
    "help(sayhi)"
   ]
  },
  {
   "cell_type": "code",
   "execution_count": 5,
   "metadata": {},
   "outputs": [
    {
     "name": "stdout",
     "output_type": "stream",
     "text": [
      "Got Massimo…\n",
      "Hi Massimo!\n"
     ]
    }
   ],
   "source": [
    "from functools import wraps\n",
    "\n",
    "def make_verbose(f):\n",
    "    @wraps(f)\n",
    "    def verbose_f(arg):\n",
    "        print(f'Got {arg}…')\n",
    "        f(arg)\n",
    "    return verbose_f\n",
    "\n",
    "@make_verbose\n",
    "def sayhi(name):\n",
    "    \"\"\"Says hi to the given name\"\"\"\n",
    "    print(f'Hi {name}!')\n",
    "    \n",
    "sayhi('Massimo')"
   ]
  },
  {
   "cell_type": "code",
   "execution_count": 6,
   "metadata": {},
   "outputs": [
    {
     "name": "stdout",
     "output_type": "stream",
     "text": [
      "Help on function sayhi in module __main__:\n",
      "\n",
      "sayhi(name)\n",
      "    Says hi to the given name\n",
      "\n"
     ]
    }
   ],
   "source": [
    "help(sayhi)"
   ]
  },
  {
   "cell_type": "markdown",
   "metadata": {},
   "source": [
    "# La libreria standard\n",
    "\n",
    "Da [Functional Programming Modules](https://docs.python.org/3/library/functional.html)"
   ]
  },
  {
   "cell_type": "code",
   "execution_count": 7,
   "metadata": {},
   "outputs": [
    {
     "name": "stdout",
     "output_type": "stream",
     "text": [
      "CPU times: user 4.19 s, sys: 16.1 ms, total: 4.2 s\n",
      "Wall time: 4.21 s\n"
     ]
    },
    {
     "data": {
      "text/plain": [
       "14930352"
      ]
     },
     "execution_count": 7,
     "metadata": {},
     "output_type": "execute_result"
    }
   ],
   "source": [
    "def fib(n):\n",
    "    if n < 2: return 1\n",
    "    return fib(n - 1) + fib(n - 2)\n",
    "\n",
    "%time fib(35)"
   ]
  },
  {
   "cell_type": "code",
   "execution_count": 8,
   "metadata": {},
   "outputs": [
    {
     "name": "stdout",
     "output_type": "stream",
     "text": [
      "CPU times: user 20 µs, sys: 0 ns, total: 20 µs\n",
      "Wall time: 22.9 µs\n"
     ]
    },
    {
     "data": {
      "text/plain": [
       "14930352"
      ]
     },
     "execution_count": 8,
     "metadata": {},
     "output_type": "execute_result"
    }
   ],
   "source": [
    "from functools import lru_cache\n",
    "\n",
    "@lru_cache()\n",
    "def fib(n):\n",
    "    if n < 2: return 1\n",
    "    return fib(n - 1) + fib(n - 2)\n",
    "\n",
    "%time fib(35)"
   ]
  },
  {
   "cell_type": "code",
   "execution_count": 9,
   "metadata": {},
   "outputs": [
    {
     "data": {
      "text/plain": [
       "[('AAAAABBBEGILRTV', 'ABBARBAGLIAVATE'),\n",
       " ('AAAAABBBGILMORV', 'ABBARBAGLIAVAMO'),\n",
       " ('AAAAABBBGILNORV', 'ABBARBAGLIAVANO'),\n",
       " ('AAAAABBBGILRT', 'ABBARBAGLIATA'),\n",
       " ('AAAAABBBGILRV', 'ABBARBAGLIAVA'),\n",
       " ('AAAAABBCDRR', 'ABRACADABRA'),\n",
       " ('AAAAABBNRRST', 'SANTABARBARA'),\n",
       " ('AAAAABCCEIRTTTV', 'RACCIABATTAVATE'),\n",
       " ('AAAAABCCEITTTV', 'ACCIABATTAVATE'),\n",
       " ('AAAAABCCELRTU', 'BACCALAUREATA')]"
      ]
     },
     "execution_count": 9,
     "metadata": {},
     "output_type": "execute_result"
    }
   ],
   "source": [
    "from itertools import groupby\n",
    "\n",
    "with open('zingarelli.txt') as input_file:\n",
    "    parole = [line.strip() for line in input_file]\n",
    "\n",
    "sig_words = sorted((''.join(sorted(p)), p) for p in parole)\n",
    "sig_words[:10]"
   ]
  },
  {
   "cell_type": "code",
   "execution_count": 10,
   "metadata": {
    "scrolled": false
   },
   "outputs": [
    {
     "name": "stdout",
     "output_type": "stream",
     "text": [
      "['CANTERI', 'CARENTI', 'CARTINE', 'CENTRAI', 'CERANTI', 'CERNITA', 'CERTANI', 'CETRINA', 'CIANTRE', 'CINTARE', 'CINTERA', 'CITERNA', 'CREANTI', 'CRENATI', 'CRETINA', 'INCERTA', 'NACRITE', 'NARTECI', 'NATRICE', 'NECTRIA', 'RECANTI', 'RECINTA', 'TRACINE', 'TRINCEA']\n",
      "['CASTRINO', 'CASTRONI', 'CONTARSI', 'CORNASTI', 'CORNISTA', 'CRASTINO', 'CRISTONA', 'CRONISTA', 'INCASTRO', 'INCROSTA', 'RINTASCO', 'RISCONTA', 'RONCASTI', 'SCARNITO', 'SCARTINO', 'SCONTRAI', 'SCORANTI', 'SCORNATI', 'SCRINATO', 'STRICANO', 'STRONCAI', 'TORNISCA', 'TRASCINO']\n",
      "['APRIRESTE', 'ESTIRPARE', 'ESTIRPERA', 'PARERESTI', 'PRESTARIE', 'PRESTERAI', 'RAPERESTI', 'RAPIRESTE', 'RESPIRATE', 'RIPESTARE', 'RIPESTERA', 'RIPRETESA', 'RISAPRETE', 'RISPERATE', 'SPARIRETE', 'SPETRERAI', 'SPIETRARE', 'SPIETRERA', 'SPRETERAI', 'STERPERAI', 'STREPERAI']\n",
      "['ANTIMERO', 'ARTIMONE', 'ENORMITA', 'ENTRIAMO', 'MARONITE', 'MATERINO', 'MATRONEI', 'MERITANO', 'MINARETO', 'MINATORE', 'MINORATE', 'MONETARI', 'MONTERAI', 'NORMIATE', 'RIMENATO', 'RINOMATE', 'RITEMANO', 'TERNIAMO', 'TIMONARE', 'TIMONERA', 'TRAMENIO']\n",
      "['ESPATRIO', 'ESPIRATO', 'ESPORTAI', 'OPERASTI', 'OPERISTA', 'OSPITARE', 'OSPITERA', 'PERITOSA', 'PESATORI', 'PIETROSA', 'POETARSI', 'POSARETI', 'POSTERAI', 'POSTERIA', 'PROSIATE', 'PROTEASI', 'RIPESATO', 'RIPOSATE', 'SAPORITE', 'SOPRIATE', 'SPIATORE', 'STERPAIO']\n",
      "['APRISTE', 'ARPISTE', 'ESPATRI', 'ESTIRPA', 'PARESTI', 'PIASTRE', 'PRATESI', 'PRESTAI', 'RAPISTE', 'RIPESTA', 'SERPITA', 'SPARITE', 'SPERATI', 'SPETRAI', 'SPIETRA', 'SPIRATE', 'SPRETAI', 'STERPAI', 'STIPARE', 'STIPERA', 'STRAPIE']\n"
     ]
    }
   ],
   "source": [
    "from operator import itemgetter\n",
    "\n",
    "for firma, anagrammi in groupby(sig_words, itemgetter(0)):\n",
    "    anagrammi = list(anagrammi)\n",
    "    if len(anagrammi) > 20: print(list(map(itemgetter(1), anagrammi)))"
   ]
  }
 ],
 "metadata": {
  "kernelspec": {
   "display_name": "Python 3",
   "language": "python",
   "name": "python3"
  },
  "language_info": {
   "codemirror_mode": {
    "name": "ipython",
    "version": 3
   },
   "file_extension": ".py",
   "mimetype": "text/x-python",
   "name": "python",
   "nbconvert_exporter": "python",
   "pygments_lexer": "ipython3",
   "version": "3.7.4"
  }
 },
 "nbformat": 4,
 "nbformat_minor": 2
}
