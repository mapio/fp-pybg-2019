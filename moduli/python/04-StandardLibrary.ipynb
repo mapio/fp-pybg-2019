{
 "cells": [
  {
   "cell_type": "markdown",
   "metadata": {},
   "source": [
    "# Espressioni regolari\n",
    "\n",
    "Da [re](https://docs.python.org/3/library/re.html) e [Regular Expression HOWTO](https://docs.python.org/3.8/howto/regex.html) — per sperimentare [pythex](https://pythex.org)."
   ]
  },
  {
   "cell_type": "code",
   "execution_count": 29,
   "metadata": {},
   "outputs": [
    {
     "data": {
      "text/plain": [
       "('massimo', 'miapec', None, 'it')"
      ]
     },
     "execution_count": 29,
     "metadata": {},
     "output_type": "execute_result"
    }
   ],
   "source": [
    "import re\n",
    "\n",
    "r = re.compile(r'(.*)@.*\\.([^.]*pec[^.]*)(\\..+)?\\.(.*)$')\n",
    "r.match('massimo@dominio.miapec.it').groups()"
   ]
  },
  {
   "cell_type": "code",
   "execution_count": 30,
   "metadata": {},
   "outputs": [
    {
     "name": "stdout",
     "output_type": "stream",
     "text": [
      "cm3lazio@pec.lapostapec.it\" ('cm3lazio', 'lapostapec', None, 'it\"')\n",
      "demografici@pec.cassinadepecchi.gov.it\" ('demografici', 'cassinadepecchi', '.gov', 'it\"')\n",
      "aire@comune.pec.como.it\" ('aire', 'pec', '.como', 'it\"')\n",
      "ufficioprotocollo@comunefarainsabina.pecpa.it\" ('ufficioprotocollo', 'pecpa', None, 'it\"')\n",
      "amministrazionegerocarne@pec.personalpec.eu\" ('amministrazionegerocarne', 'personalpec', None, 'eu\"')\n",
      "pec@comunemeleti.casellapec.info\" ('pec', 'casellapec', None, 'info\"')\n",
      "comunemisterbianco@pec.pec-pa.it\" ('comunemisterbianco', 'pec-pa', None, 'it\"')\n",
      "uffprotocollo@comunemontopolidisabina.pecpa.it\" ('uffprotocollo', 'pecpa', None, 'it\"')\n",
      "protocollo@palazzolo.viapec.it\" ('protocollo', 'viapec', None, 'it\"')\n",
      "protocollo@pec.comune.pecetto.al.it\" ('protocollo', 'pecetto', '.al', 'it\"')\n",
      "info@pec.comune.pecetto.to.it\" ('info', 'pecetto', '.to', 'it\"')\n",
      "comune@comune.santaluciadelmela.pec.telecompost.it\" ('comune', 'pec', '.telecompost', 'it\"')\n",
      "affarigenerali@comune.teramo.pecpa.it\" ('affarigenerali', 'pecpa', None, 'it\"')\n"
     ]
    }
   ],
   "source": [
    "with open('emails.txt') as inf:\n",
    "    for line in inf:\n",
    "        m = r.match(line)\n",
    "        if m:\n",
    "            print(line.strip(), m.groups())"
   ]
  },
  {
   "cell_type": "code",
   "execution_count": 51,
   "metadata": {
    "scrolled": true
   },
   "outputs": [
    {
     "data": {
      "text/plain": [
       "['net', 'it', 'it', 'it', 'it', 'it', 'it', 'it', 'it', 'it']"
      ]
     },
     "execution_count": 51,
     "metadata": {},
     "output_type": "execute_result"
    }
   ],
   "source": [
    "r = re.compile(r'.*\\.([^.]+)\"$')\n",
    "tld = []\n",
    "with open('emails.txt') as inf:\n",
    "    for line in inf:\n",
    "        m = r.match(line)\n",
    "        if m: tld.append(m.group(1))\n",
    "\n",
    "tld[:10]"
   ]
  },
  {
   "cell_type": "code",
   "execution_count": 55,
   "metadata": {},
   "outputs": [
    {
     "data": {
      "text/plain": [
       "{'net': 211,\n",
       " 'it': 7468,\n",
       " 'IT': 30,\n",
       " 'eu': 39,\n",
       " 'com': 16,\n",
       " 'org': 17,\n",
       " 'at': 0,\n",
       " 'info': 7,\n",
       " 'biz': 1,\n",
       " 'NET': 0}"
      ]
     },
     "execution_count": 55,
     "metadata": {},
     "output_type": "execute_result"
    }
   ],
   "source": [
    "tld2num = dict()\n",
    "\n",
    "for d in tld:\n",
    "    try:\n",
    "        tld2num[d] += 1\n",
    "    except KeyError:\n",
    "        tld2num[d] = 0\n",
    "        \n",
    "tld2num"
   ]
  },
  {
   "cell_type": "markdown",
   "metadata": {},
   "source": [
    "# Collezioni evolute\n",
    "\n",
    "Da [collections](https://docs.python.org/3/library/collections.html)"
   ]
  },
  {
   "cell_type": "code",
   "execution_count": 56,
   "metadata": {},
   "outputs": [
    {
     "data": {
      "text/plain": [
       "defaultdict(<function __main__.<lambda>()>,\n",
       "            {'net': 212,\n",
       "             'it': 7469,\n",
       "             'IT': 31,\n",
       "             'eu': 40,\n",
       "             'com': 17,\n",
       "             'org': 18,\n",
       "             'at': 1,\n",
       "             'info': 8,\n",
       "             'biz': 2,\n",
       "             'NET': 1})"
      ]
     },
     "execution_count": 56,
     "metadata": {},
     "output_type": "execute_result"
    }
   ],
   "source": [
    "from collections import defaultdict\n",
    "\n",
    "tld2num = defaultdict(lambda: 0)\n",
    "\n",
    "for d in tld:\n",
    "    tld2num[d] += 1\n",
    "\n",
    "tld2num"
   ]
  },
  {
   "cell_type": "code",
   "execution_count": 64,
   "metadata": {
    "scrolled": false
   },
   "outputs": [
    {
     "name": "stdout",
     "output_type": "stream",
     "text": [
      "['ANTIMERO', 'ARTIMONE', 'ENORMITA', 'ENTRIAMO', 'MARONITE', 'MATERINO', 'MATRONEI', 'MERITANO', 'MINARETO', 'MINATORE', 'MINORATE', 'MONETARI', 'MONTERAI', 'NORMIATE', 'RIMENATO', 'RINOMATE', 'RITEMANO', 'TERNIAMO', 'TIMONARE', 'TIMONERA', 'TRAMENIO']\n",
      "['APRIRESTE', 'ESTIRPARE', 'ESTIRPERA', 'PARERESTI', 'PRESTARIE', 'PRESTERAI', 'RAPERESTI', 'RAPIRESTE', 'RESPIRATE', 'RIPESTARE', 'RIPESTERA', 'RIPRETESA', 'RISAPRETE', 'RISPERATE', 'SPARIRETE', 'SPETRERAI', 'SPIETRARE', 'SPIETRERA', 'SPRETERAI', 'STERPERAI', 'STREPERAI']\n",
      "['APRISTE', 'ARPISTE', 'ESPATRI', 'ESTIRPA', 'PARESTI', 'PIASTRE', 'PRATESI', 'PRESTAI', 'RAPISTE', 'RIPESTA', 'SERPITA', 'SPARITE', 'SPERATI', 'SPETRAI', 'SPIETRA', 'SPIRATE', 'SPRETAI', 'STERPAI', 'STIPARE', 'STIPERA', 'STRAPIE']\n",
      "['CANTERI', 'CARENTI', 'CARTINE', 'CENTRAI', 'CERANTI', 'CERNITA', 'CERTANI', 'CETRINA', 'CIANTRE', 'CINTARE', 'CINTERA', 'CITERNA', 'CREANTI', 'CRENATI', 'CRETINA', 'INCERTA', 'NACRITE', 'NARTECI', 'NATRICE', 'NECTRIA', 'RECANTI', 'RECINTA', 'TRACINE', 'TRINCEA']\n",
      "['CASTRINO', 'CASTRONI', 'CONTARSI', 'CORNASTI', 'CORNISTA', 'CRASTINO', 'CRISTONA', 'CRONISTA', 'INCASTRO', 'INCROSTA', 'RINTASCO', 'RISCONTA', 'RONCASTI', 'SCARNITO', 'SCARTINO', 'SCONTRAI', 'SCORANTI', 'SCORNATI', 'SCRINATO', 'STRICANO', 'STRONCAI', 'TORNISCA', 'TRASCINO']\n",
      "['ESPATRIO', 'ESPIRATO', 'ESPORTAI', 'OPERASTI', 'OPERISTA', 'OSPITARE', 'OSPITERA', 'PERITOSA', 'PESATORI', 'PIETROSA', 'POETARSI', 'POSARETI', 'POSTERAI', 'POSTERIA', 'PROSIATE', 'PROTEASI', 'RIPESATO', 'RIPOSATE', 'SAPORITE', 'SOPRIATE', 'SPIATORE', 'STERPAIO']\n"
     ]
    }
   ],
   "source": [
    "sig2words = defaultdict(list)\n",
    "\n",
    "with open('zingarelli.txt') as inf:\n",
    "    for line in inf:\n",
    "        word = line.strip()\n",
    "        sig = ''.join(sorted(word))\n",
    "        sig2words[sig].append(word)\n",
    "        \n",
    "for sig, words in sig2words.items():\n",
    "    if len(words) > 20: print(words)"
   ]
  },
  {
   "cell_type": "code",
   "execution_count": 66,
   "metadata": {},
   "outputs": [
    {
     "data": {
      "text/plain": [
       "Counter({'net': 212,\n",
       "         'it': 7469,\n",
       "         'IT': 31,\n",
       "         'eu': 40,\n",
       "         'com': 17,\n",
       "         'org': 18,\n",
       "         'at': 1,\n",
       "         'info': 8,\n",
       "         'biz': 2,\n",
       "         'NET': 1})"
      ]
     },
     "execution_count": 66,
     "metadata": {},
     "output_type": "execute_result"
    }
   ],
   "source": [
    "from collections import Counter\n",
    "\n",
    "tld2num = Counter(tld)\n",
    "tld2num"
   ]
  },
  {
   "cell_type": "code",
   "execution_count": 68,
   "metadata": {},
   "outputs": [
    {
     "data": {
      "text/plain": [
       "'Mario'"
      ]
     },
     "execution_count": 68,
     "metadata": {},
     "output_type": "execute_result"
    }
   ],
   "source": [
    "from collections import namedtuple\n",
    "\n",
    "User = namedtuple('User', 'first, last, email')\n",
    "\n",
    "u = User('Mario', 'Rossi', 'mariorossi@gmail.com')\n",
    "u.first"
   ]
  },
  {
   "cell_type": "markdown",
   "metadata": {},
   "source": [
    "# Formati di dati comuni\n",
    "\n",
    "Da [csv](https://docs.python.org/3/library/csv.html) e [json](https://docs.python.org/3/library/json.html)."
   ]
  },
  {
   "cell_type": "markdown",
   "metadata": {},
   "source": [
    "# Persistenza dei dati\n",
    "\n",
    "Da [sqlite3](https://docs.python.org/3/library/sqlite3.html), [zipfile](https://docs.python.org/3/library/zipfile.html) e [tarfile](https://docs.python.org/3/library/tarfile.html)."
   ]
  },
  {
   "cell_type": "markdown",
   "metadata": {},
   "source": [
    "# Supporto allo sviluppo e debugging\n",
    "\n",
    "Da [unittest](https://docs.python.org/3/library/unittest.html) e [timeit](https://docs.python.org/3/library/timeit.html).\n",
    "\n",
    "Una libreria esterna: [tqdm](https://github.com/tqdm/tqdm)."
   ]
  }
 ],
 "metadata": {
  "kernelspec": {
   "display_name": "Python 3",
   "language": "python",
   "name": "python3"
  },
  "language_info": {
   "codemirror_mode": {
    "name": "ipython",
    "version": 3
   },
   "file_extension": ".py",
   "mimetype": "text/x-python",
   "name": "python",
   "nbconvert_exporter": "python",
   "pygments_lexer": "ipython3",
   "version": "3.7.4"
  }
 },
 "nbformat": 4,
 "nbformat_minor": 2
}
