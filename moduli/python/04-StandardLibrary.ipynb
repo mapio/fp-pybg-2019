{
 "cells": [
  {
   "cell_type": "markdown",
   "metadata": {},
   "source": [
    "# Espressioni regolari\n",
    "\n",
    "Da  [re](https://docs.python.org/3/library/re.html)"
   ]
  },
  {
   "cell_type": "markdown",
   "metadata": {},
   "source": [
    "# Collezioni evolute\n",
    "\n",
    "Da [collections](https://docs.python.org/3/library/collections.html)"
   ]
  },
  {
   "cell_type": "markdown",
   "metadata": {},
   "source": [
    "# Persistenza dei dati\n",
    "\n",
    "Da [sqlite3](https://docs.python.org/3/library/sqlite3.html), [zipfile](https://docs.python.org/3/library/zipfile.html) e [tarfile](https://docs.python.org/3/library/tarfile.html)."
   ]
  },
  {
   "cell_type": "markdown",
   "metadata": {},
   "source": [
    "# Formati di dati comuni\n",
    "\n",
    "Da [csv](https://docs.python.org/3/library/csv.html) e [json](https://docs.python.org/3/library/json.html)."
   ]
  },
  {
   "cell_type": "markdown",
   "metadata": {},
   "source": [
    "# Supporto allo sviluppo e debugging\n",
    "\n",
    "Da [unittest](https://docs.python.org/3/library/unittest.html) e [timeit](https://docs.python.org/3/library/timeit.html).\n",
    "\n",
    "Una libreria esterna: [tqdm](https://github.com/tqdm/tqdm)."
   ]
  }
 ],
 "metadata": {
  "kernelspec": {
   "display_name": "Python 3",
   "language": "python",
   "name": "python3"
  },
  "language_info": {
   "codemirror_mode": {
    "name": "ipython",
    "version": 3
   },
   "file_extension": ".py",
   "mimetype": "text/x-python",
   "name": "python",
   "nbconvert_exporter": "python",
   "pygments_lexer": "ipython3",
   "version": "3.7.4"
  }
 },
 "nbformat": 4,
 "nbformat_minor": 2
}
