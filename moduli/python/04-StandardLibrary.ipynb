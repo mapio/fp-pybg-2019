{
 "cells": [
  {
   "cell_type": "markdown",
   "metadata": {},
   "source": [
    "# Espressioni regolari\n",
    "\n",
    "Da [re](https://docs.python.org/3/library/re.html) e [Regular Expression HOWTO](https://docs.python.org/3.8/howto/regex.html) — per sperimentare [pythex](https://pythex.org)."
   ]
  },
  {
   "cell_type": "code",
   "execution_count": 29,
   "metadata": {},
   "outputs": [
    {
     "data": {
      "text/plain": [
       "('massimo', 'miapec', None, 'it')"
      ]
     },
     "execution_count": 29,
     "metadata": {},
     "output_type": "execute_result"
    }
   ],
   "source": [
    "import re\n",
    "\n",
    "r = re.compile(r'(.*)@.*\\.([^.]*pec[^.]*)(\\..+)?\\.(.*)$')\n",
    "r.match('massimo@dominio.miapec.it').groups()"
   ]
  },
  {
   "cell_type": "code",
   "execution_count": 30,
   "metadata": {},
   "outputs": [
    {
     "name": "stdout",
     "output_type": "stream",
     "text": [
      "cm3lazio@pec.lapostapec.it\" ('cm3lazio', 'lapostapec', None, 'it\"')\n",
      "demografici@pec.cassinadepecchi.gov.it\" ('demografici', 'cassinadepecchi', '.gov', 'it\"')\n",
      "aire@comune.pec.como.it\" ('aire', 'pec', '.como', 'it\"')\n",
      "ufficioprotocollo@comunefarainsabina.pecpa.it\" ('ufficioprotocollo', 'pecpa', None, 'it\"')\n",
      "amministrazionegerocarne@pec.personalpec.eu\" ('amministrazionegerocarne', 'personalpec', None, 'eu\"')\n",
      "pec@comunemeleti.casellapec.info\" ('pec', 'casellapec', None, 'info\"')\n",
      "comunemisterbianco@pec.pec-pa.it\" ('comunemisterbianco', 'pec-pa', None, 'it\"')\n",
      "uffprotocollo@comunemontopolidisabina.pecpa.it\" ('uffprotocollo', 'pecpa', None, 'it\"')\n",
      "protocollo@palazzolo.viapec.it\" ('protocollo', 'viapec', None, 'it\"')\n",
      "protocollo@pec.comune.pecetto.al.it\" ('protocollo', 'pecetto', '.al', 'it\"')\n",
      "info@pec.comune.pecetto.to.it\" ('info', 'pecetto', '.to', 'it\"')\n",
      "comune@comune.santaluciadelmela.pec.telecompost.it\" ('comune', 'pec', '.telecompost', 'it\"')\n",
      "affarigenerali@comune.teramo.pecpa.it\" ('affarigenerali', 'pecpa', None, 'it\"')\n"
     ]
    }
   ],
   "source": [
    "with open('emails.txt') as inf:\n",
    "    for line in inf:\n",
    "        m = r.match(line)\n",
    "        if m:\n",
    "            print(line.strip(), m.groups())"
   ]
  },
  {
   "cell_type": "code",
   "execution_count": 51,
   "metadata": {
    "scrolled": true
   },
   "outputs": [
    {
     "data": {
      "text/plain": [
       "['net', 'it', 'it', 'it', 'it', 'it', 'it', 'it', 'it', 'it']"
      ]
     },
     "execution_count": 51,
     "metadata": {},
     "output_type": "execute_result"
    }
   ],
   "source": [
    "r = re.compile(r'.*\\.([^.]+)\"$')\n",
    "tld = []\n",
    "with open('emails.txt') as inf:\n",
    "    for line in inf:\n",
    "        m = r.match(line)\n",
    "        if m: tld.append(m.group(1))\n",
    "\n",
    "tld[:10]"
   ]
  },
  {
   "cell_type": "code",
   "execution_count": 55,
   "metadata": {},
   "outputs": [
    {
     "data": {
      "text/plain": [
       "{'net': 211,\n",
       " 'it': 7468,\n",
       " 'IT': 30,\n",
       " 'eu': 39,\n",
       " 'com': 16,\n",
       " 'org': 17,\n",
       " 'at': 0,\n",
       " 'info': 7,\n",
       " 'biz': 1,\n",
       " 'NET': 0}"
      ]
     },
     "execution_count": 55,
     "metadata": {},
     "output_type": "execute_result"
    }
   ],
   "source": [
    "tld2num = dict()\n",
    "\n",
    "for d in tld:\n",
    "    try:\n",
    "        tld2num[d] += 1\n",
    "    except KeyError:\n",
    "        tld2num[d] = 0\n",
    "        \n",
    "tld2num"
   ]
  },
  {
   "cell_type": "markdown",
   "metadata": {},
   "source": [
    "# Collezioni evolute\n",
    "\n",
    "Da [collections](https://docs.python.org/3/library/collections.html)."
   ]
  },
  {
   "cell_type": "code",
   "execution_count": 56,
   "metadata": {},
   "outputs": [
    {
     "data": {
      "text/plain": [
       "defaultdict(<function __main__.<lambda>()>,\n",
       "            {'net': 212,\n",
       "             'it': 7469,\n",
       "             'IT': 31,\n",
       "             'eu': 40,\n",
       "             'com': 17,\n",
       "             'org': 18,\n",
       "             'at': 1,\n",
       "             'info': 8,\n",
       "             'biz': 2,\n",
       "             'NET': 1})"
      ]
     },
     "execution_count": 56,
     "metadata": {},
     "output_type": "execute_result"
    }
   ],
   "source": [
    "from collections import defaultdict\n",
    "\n",
    "tld2num = defaultdict(lambda: 0)\n",
    "\n",
    "for d in tld:\n",
    "    tld2num[d] += 1\n",
    "\n",
    "tld2num"
   ]
  },
  {
   "cell_type": "code",
   "execution_count": 64,
   "metadata": {
    "scrolled": false
   },
   "outputs": [
    {
     "name": "stdout",
     "output_type": "stream",
     "text": [
      "['ANTIMERO', 'ARTIMONE', 'ENORMITA', 'ENTRIAMO', 'MARONITE', 'MATERINO', 'MATRONEI', 'MERITANO', 'MINARETO', 'MINATORE', 'MINORATE', 'MONETARI', 'MONTERAI', 'NORMIATE', 'RIMENATO', 'RINOMATE', 'RITEMANO', 'TERNIAMO', 'TIMONARE', 'TIMONERA', 'TRAMENIO']\n",
      "['APRIRESTE', 'ESTIRPARE', 'ESTIRPERA', 'PARERESTI', 'PRESTARIE', 'PRESTERAI', 'RAPERESTI', 'RAPIRESTE', 'RESPIRATE', 'RIPESTARE', 'RIPESTERA', 'RIPRETESA', 'RISAPRETE', 'RISPERATE', 'SPARIRETE', 'SPETRERAI', 'SPIETRARE', 'SPIETRERA', 'SPRETERAI', 'STERPERAI', 'STREPERAI']\n",
      "['APRISTE', 'ARPISTE', 'ESPATRI', 'ESTIRPA', 'PARESTI', 'PIASTRE', 'PRATESI', 'PRESTAI', 'RAPISTE', 'RIPESTA', 'SERPITA', 'SPARITE', 'SPERATI', 'SPETRAI', 'SPIETRA', 'SPIRATE', 'SPRETAI', 'STERPAI', 'STIPARE', 'STIPERA', 'STRAPIE']\n",
      "['CANTERI', 'CARENTI', 'CARTINE', 'CENTRAI', 'CERANTI', 'CERNITA', 'CERTANI', 'CETRINA', 'CIANTRE', 'CINTARE', 'CINTERA', 'CITERNA', 'CREANTI', 'CRENATI', 'CRETINA', 'INCERTA', 'NACRITE', 'NARTECI', 'NATRICE', 'NECTRIA', 'RECANTI', 'RECINTA', 'TRACINE', 'TRINCEA']\n",
      "['CASTRINO', 'CASTRONI', 'CONTARSI', 'CORNASTI', 'CORNISTA', 'CRASTINO', 'CRISTONA', 'CRONISTA', 'INCASTRO', 'INCROSTA', 'RINTASCO', 'RISCONTA', 'RONCASTI', 'SCARNITO', 'SCARTINO', 'SCONTRAI', 'SCORANTI', 'SCORNATI', 'SCRINATO', 'STRICANO', 'STRONCAI', 'TORNISCA', 'TRASCINO']\n",
      "['ESPATRIO', 'ESPIRATO', 'ESPORTAI', 'OPERASTI', 'OPERISTA', 'OSPITARE', 'OSPITERA', 'PERITOSA', 'PESATORI', 'PIETROSA', 'POETARSI', 'POSARETI', 'POSTERAI', 'POSTERIA', 'PROSIATE', 'PROTEASI', 'RIPESATO', 'RIPOSATE', 'SAPORITE', 'SOPRIATE', 'SPIATORE', 'STERPAIO']\n"
     ]
    }
   ],
   "source": [
    "sig2words = defaultdict(list)\n",
    "\n",
    "with open('zingarelli.txt') as inf:\n",
    "    for line in inf:\n",
    "        word = line.strip()\n",
    "        sig = ''.join(sorted(word))\n",
    "        sig2words[sig].append(word)\n",
    "        \n",
    "for sig, words in sig2words.items():\n",
    "    if len(words) > 20: print(words)"
   ]
  },
  {
   "cell_type": "code",
   "execution_count": 66,
   "metadata": {},
   "outputs": [
    {
     "data": {
      "text/plain": [
       "Counter({'net': 212,\n",
       "         'it': 7469,\n",
       "         'IT': 31,\n",
       "         'eu': 40,\n",
       "         'com': 17,\n",
       "         'org': 18,\n",
       "         'at': 1,\n",
       "         'info': 8,\n",
       "         'biz': 2,\n",
       "         'NET': 1})"
      ]
     },
     "execution_count": 66,
     "metadata": {},
     "output_type": "execute_result"
    }
   ],
   "source": [
    "from collections import Counter\n",
    "\n",
    "tld2num = Counter(tld)\n",
    "tld2num"
   ]
  },
  {
   "cell_type": "code",
   "execution_count": 76,
   "metadata": {},
   "outputs": [
    {
     "data": {
      "text/plain": [
       "'Mario'"
      ]
     },
     "execution_count": 76,
     "metadata": {},
     "output_type": "execute_result"
    }
   ],
   "source": [
    "from collections import namedtuple\n",
    "\n",
    "User = namedtuple('User', 'first, last, email')\n",
    "\n",
    "u = User('Mario', 'Rossi', 'mariorossi@gmail.com')\n",
    "u.first"
   ]
  },
  {
   "cell_type": "code",
   "execution_count": 77,
   "metadata": {},
   "outputs": [
    {
     "data": {
      "text/plain": [
       "User(first='Franco', last='Bruni', email='fra@bruni.it')"
      ]
     },
     "execution_count": 77,
     "metadata": {},
     "output_type": "execute_result"
    }
   ],
   "source": [
    "User._make(['Franco', 'Bruni', 'fra@bruni.it'])"
   ]
  },
  {
   "cell_type": "markdown",
   "metadata": {},
   "source": [
    "# Formati di dati comuni\n",
    "\n",
    "Da [csv](https://docs.python.org/3/library/csv.html) e [json](https://docs.python.org/3/library/json.html)."
   ]
  },
  {
   "cell_type": "code",
   "execution_count": 83,
   "metadata": {},
   "outputs": [
    {
     "data": {
      "text/plain": [
       "[Color(short='air_force_blue_raf', long='Air Force Blue (Raf)', hex='#5d8aa8', r='93', g='138', b='168'),\n",
       " Color(short='air_force_blue_usaf', long='Air Force Blue (Usaf)', hex='#00308f', r='0', g='48', b='143'),\n",
       " Color(short='air_superiority_blue', long='Air Superiority Blue', hex='#72a0c1', r='114', g='160', b='193'),\n",
       " Color(short='alabama_crimson', long='Alabama Crimson', hex='#a32638', r='163', g='38', b='56'),\n",
       " Color(short='alice_blue', long='Alice Blue', hex='#f0f8ff', r='240', g='248', b='255'),\n",
       " Color(short='alizarin_crimson', long='Alizarin Crimson', hex='#e32636', r='227', g='38', b='54'),\n",
       " Color(short='alloy_orange', long='Alloy Orange', hex='#c46210', r='196', g='98', b='16'),\n",
       " Color(short='almond', long='Almond', hex='#efdecd', r='239', g='222', b='205'),\n",
       " Color(short='amaranth', long='Amaranth', hex='#e52b50', r='229', g='43', b='80'),\n",
       " Color(short='amber', long='Amber', hex='#ffbf00', r='255', g='191', b='0')]"
      ]
     },
     "execution_count": 83,
     "metadata": {},
     "output_type": "execute_result"
    }
   ],
   "source": [
    "from urllib.request import urlopen\n",
    "import csv\n",
    "\n",
    "Color = namedtuple('Color', 'short, long, hex, r, g, b')\n",
    "\n",
    "with urlopen('https://raw.githubusercontent.com/codebrainz/color-names/master/output/colors.csv') as inf:\n",
    "    colors = list(map(Color._make, csv.reader(inf.read().decode('utf-8').splitlines())))\n",
    "\n",
    "colors[:10]    "
   ]
  },
  {
   "cell_type": "code",
   "execution_count": 100,
   "metadata": {},
   "outputs": [
    {
     "ename": "JSONDecodeError",
     "evalue": "Expecting property name enclosed in double quotes: line 6 column 3 (char 115)",
     "output_type": "error",
     "traceback": [
      "\u001b[0;31m---------------------------------------------------------------------------\u001b[0m",
      "\u001b[0;31mJSONDecodeError\u001b[0m                           Traceback (most recent call last)",
      "\u001b[0;32m<ipython-input-100-af5240475e4f>\u001b[0m in \u001b[0;36m<module>\u001b[0;34m\u001b[0m\n\u001b[1;32m      2\u001b[0m \u001b[0;34m\u001b[0m\u001b[0m\n\u001b[1;32m      3\u001b[0m \u001b[0;32mwith\u001b[0m \u001b[0murlopen\u001b[0m\u001b[0;34m(\u001b[0m\u001b[0;34m'https://raw.githubusercontent.com/codebrainz/color-names/master/output/colors.json'\u001b[0m\u001b[0;34m)\u001b[0m \u001b[0;32mas\u001b[0m \u001b[0minf\u001b[0m\u001b[0;34m:\u001b[0m\u001b[0;34m\u001b[0m\u001b[0;34m\u001b[0m\u001b[0m\n\u001b[0;32m----> 4\u001b[0;31m     \u001b[0mcolor_dict\u001b[0m \u001b[0;34m=\u001b[0m \u001b[0mloads\u001b[0m\u001b[0;34m(\u001b[0m\u001b[0minf\u001b[0m\u001b[0;34m.\u001b[0m\u001b[0mread\u001b[0m\u001b[0;34m(\u001b[0m\u001b[0;34m)\u001b[0m\u001b[0;34m.\u001b[0m\u001b[0mdecode\u001b[0m\u001b[0;34m(\u001b[0m\u001b[0;34m'utf-8'\u001b[0m\u001b[0;34m)\u001b[0m\u001b[0;34m)\u001b[0m\u001b[0;34m\u001b[0m\u001b[0;34m\u001b[0m\u001b[0m\n\u001b[0m",
      "\u001b[0;32m/usr/local/Cellar/python/3.7.4_1/Frameworks/Python.framework/Versions/3.7/lib/python3.7/json/__init__.py\u001b[0m in \u001b[0;36mloads\u001b[0;34m(s, encoding, cls, object_hook, parse_float, parse_int, parse_constant, object_pairs_hook, **kw)\u001b[0m\n\u001b[1;32m    346\u001b[0m             \u001b[0mparse_int\u001b[0m \u001b[0;32mis\u001b[0m \u001b[0;32mNone\u001b[0m \u001b[0;32mand\u001b[0m \u001b[0mparse_float\u001b[0m \u001b[0;32mis\u001b[0m \u001b[0;32mNone\u001b[0m \u001b[0;32mand\u001b[0m\u001b[0;34m\u001b[0m\u001b[0;34m\u001b[0m\u001b[0m\n\u001b[1;32m    347\u001b[0m             parse_constant is None and object_pairs_hook is None and not kw):\n\u001b[0;32m--> 348\u001b[0;31m         \u001b[0;32mreturn\u001b[0m \u001b[0m_default_decoder\u001b[0m\u001b[0;34m.\u001b[0m\u001b[0mdecode\u001b[0m\u001b[0;34m(\u001b[0m\u001b[0ms\u001b[0m\u001b[0;34m)\u001b[0m\u001b[0;34m\u001b[0m\u001b[0;34m\u001b[0m\u001b[0m\n\u001b[0m\u001b[1;32m    349\u001b[0m     \u001b[0;32mif\u001b[0m \u001b[0mcls\u001b[0m \u001b[0;32mis\u001b[0m \u001b[0;32mNone\u001b[0m\u001b[0;34m:\u001b[0m\u001b[0;34m\u001b[0m\u001b[0;34m\u001b[0m\u001b[0m\n\u001b[1;32m    350\u001b[0m         \u001b[0mcls\u001b[0m \u001b[0;34m=\u001b[0m \u001b[0mJSONDecoder\u001b[0m\u001b[0;34m\u001b[0m\u001b[0;34m\u001b[0m\u001b[0m\n",
      "\u001b[0;32m/usr/local/Cellar/python/3.7.4_1/Frameworks/Python.framework/Versions/3.7/lib/python3.7/json/decoder.py\u001b[0m in \u001b[0;36mdecode\u001b[0;34m(self, s, _w)\u001b[0m\n\u001b[1;32m    335\u001b[0m \u001b[0;34m\u001b[0m\u001b[0m\n\u001b[1;32m    336\u001b[0m         \"\"\"\n\u001b[0;32m--> 337\u001b[0;31m         \u001b[0mobj\u001b[0m\u001b[0;34m,\u001b[0m \u001b[0mend\u001b[0m \u001b[0;34m=\u001b[0m \u001b[0mself\u001b[0m\u001b[0;34m.\u001b[0m\u001b[0mraw_decode\u001b[0m\u001b[0;34m(\u001b[0m\u001b[0ms\u001b[0m\u001b[0;34m,\u001b[0m \u001b[0midx\u001b[0m\u001b[0;34m=\u001b[0m\u001b[0m_w\u001b[0m\u001b[0;34m(\u001b[0m\u001b[0ms\u001b[0m\u001b[0;34m,\u001b[0m \u001b[0;36m0\u001b[0m\u001b[0;34m)\u001b[0m\u001b[0;34m.\u001b[0m\u001b[0mend\u001b[0m\u001b[0;34m(\u001b[0m\u001b[0;34m)\u001b[0m\u001b[0;34m)\u001b[0m\u001b[0;34m\u001b[0m\u001b[0;34m\u001b[0m\u001b[0m\n\u001b[0m\u001b[1;32m    338\u001b[0m         \u001b[0mend\u001b[0m \u001b[0;34m=\u001b[0m \u001b[0m_w\u001b[0m\u001b[0;34m(\u001b[0m\u001b[0ms\u001b[0m\u001b[0;34m,\u001b[0m \u001b[0mend\u001b[0m\u001b[0;34m)\u001b[0m\u001b[0;34m.\u001b[0m\u001b[0mend\u001b[0m\u001b[0;34m(\u001b[0m\u001b[0;34m)\u001b[0m\u001b[0;34m\u001b[0m\u001b[0;34m\u001b[0m\u001b[0m\n\u001b[1;32m    339\u001b[0m         \u001b[0;32mif\u001b[0m \u001b[0mend\u001b[0m \u001b[0;34m!=\u001b[0m \u001b[0mlen\u001b[0m\u001b[0;34m(\u001b[0m\u001b[0ms\u001b[0m\u001b[0;34m)\u001b[0m\u001b[0;34m:\u001b[0m\u001b[0;34m\u001b[0m\u001b[0;34m\u001b[0m\u001b[0m\n",
      "\u001b[0;32m/usr/local/Cellar/python/3.7.4_1/Frameworks/Python.framework/Versions/3.7/lib/python3.7/json/decoder.py\u001b[0m in \u001b[0;36mraw_decode\u001b[0;34m(self, s, idx)\u001b[0m\n\u001b[1;32m    351\u001b[0m         \"\"\"\n\u001b[1;32m    352\u001b[0m         \u001b[0;32mtry\u001b[0m\u001b[0;34m:\u001b[0m\u001b[0;34m\u001b[0m\u001b[0;34m\u001b[0m\u001b[0m\n\u001b[0;32m--> 353\u001b[0;31m             \u001b[0mobj\u001b[0m\u001b[0;34m,\u001b[0m \u001b[0mend\u001b[0m \u001b[0;34m=\u001b[0m \u001b[0mself\u001b[0m\u001b[0;34m.\u001b[0m\u001b[0mscan_once\u001b[0m\u001b[0;34m(\u001b[0m\u001b[0ms\u001b[0m\u001b[0;34m,\u001b[0m \u001b[0midx\u001b[0m\u001b[0;34m)\u001b[0m\u001b[0;34m\u001b[0m\u001b[0;34m\u001b[0m\u001b[0m\n\u001b[0m\u001b[1;32m    354\u001b[0m         \u001b[0;32mexcept\u001b[0m \u001b[0mStopIteration\u001b[0m \u001b[0;32mas\u001b[0m \u001b[0merr\u001b[0m\u001b[0;34m:\u001b[0m\u001b[0;34m\u001b[0m\u001b[0;34m\u001b[0m\u001b[0m\n\u001b[1;32m    355\u001b[0m             \u001b[0;32mraise\u001b[0m \u001b[0mJSONDecodeError\u001b[0m\u001b[0;34m(\u001b[0m\u001b[0;34m\"Expecting value\"\u001b[0m\u001b[0;34m,\u001b[0m \u001b[0ms\u001b[0m\u001b[0;34m,\u001b[0m \u001b[0merr\u001b[0m\u001b[0;34m.\u001b[0m\u001b[0mvalue\u001b[0m\u001b[0;34m)\u001b[0m \u001b[0;32mfrom\u001b[0m \u001b[0;32mNone\u001b[0m\u001b[0;34m\u001b[0m\u001b[0;34m\u001b[0m\u001b[0m\n",
      "\u001b[0;31mJSONDecodeError\u001b[0m: Expecting property name enclosed in double quotes: line 6 column 3 (char 115)"
     ]
    }
   ],
   "source": [
    "from json import loads\n",
    "\n",
    "with urlopen('https://raw.githubusercontent.com/codebrainz/color-names/master/output/colors.json') as inf:\n",
    "    color_dict = loads(inf.read().decode('utf-8'))"
   ]
  },
  {
   "cell_type": "code",
   "execution_count": 138,
   "metadata": {},
   "outputs": [
    {
     "ename": "JSONDecodeError",
     "evalue": "Expecting property name enclosed in double quotes: line 6 column 3 (char 115)",
     "output_type": "error",
     "traceback": [
      "\u001b[0;31m---------------------------------------------------------------------------\u001b[0m",
      "\u001b[0;31mJSONDecodeError\u001b[0m                           Traceback (most recent call last)",
      "\u001b[0;32m<ipython-input-138-505715eb91fa>\u001b[0m in \u001b[0;36m<module>\u001b[0;34m\u001b[0m\n\u001b[1;32m      7\u001b[0m }\"\"\"\n\u001b[1;32m      8\u001b[0m \u001b[0;34m\u001b[0m\u001b[0m\n\u001b[0;32m----> 9\u001b[0;31m \u001b[0mloads\u001b[0m\u001b[0;34m(\u001b[0m\u001b[0mdata\u001b[0m\u001b[0;34m)\u001b[0m\u001b[0;34m\u001b[0m\u001b[0;34m\u001b[0m\u001b[0m\n\u001b[0m",
      "\u001b[0;32m/usr/local/Cellar/python/3.7.4_1/Frameworks/Python.framework/Versions/3.7/lib/python3.7/json/__init__.py\u001b[0m in \u001b[0;36mloads\u001b[0;34m(s, encoding, cls, object_hook, parse_float, parse_int, parse_constant, object_pairs_hook, **kw)\u001b[0m\n\u001b[1;32m    346\u001b[0m             \u001b[0mparse_int\u001b[0m \u001b[0;32mis\u001b[0m \u001b[0;32mNone\u001b[0m \u001b[0;32mand\u001b[0m \u001b[0mparse_float\u001b[0m \u001b[0;32mis\u001b[0m \u001b[0;32mNone\u001b[0m \u001b[0;32mand\u001b[0m\u001b[0;34m\u001b[0m\u001b[0;34m\u001b[0m\u001b[0m\n\u001b[1;32m    347\u001b[0m             parse_constant is None and object_pairs_hook is None and not kw):\n\u001b[0;32m--> 348\u001b[0;31m         \u001b[0;32mreturn\u001b[0m \u001b[0m_default_decoder\u001b[0m\u001b[0;34m.\u001b[0m\u001b[0mdecode\u001b[0m\u001b[0;34m(\u001b[0m\u001b[0ms\u001b[0m\u001b[0;34m)\u001b[0m\u001b[0;34m\u001b[0m\u001b[0;34m\u001b[0m\u001b[0m\n\u001b[0m\u001b[1;32m    349\u001b[0m     \u001b[0;32mif\u001b[0m \u001b[0mcls\u001b[0m \u001b[0;32mis\u001b[0m \u001b[0;32mNone\u001b[0m\u001b[0;34m:\u001b[0m\u001b[0;34m\u001b[0m\u001b[0;34m\u001b[0m\u001b[0m\n\u001b[1;32m    350\u001b[0m         \u001b[0mcls\u001b[0m \u001b[0;34m=\u001b[0m \u001b[0mJSONDecoder\u001b[0m\u001b[0;34m\u001b[0m\u001b[0;34m\u001b[0m\u001b[0m\n",
      "\u001b[0;32m/usr/local/Cellar/python/3.7.4_1/Frameworks/Python.framework/Versions/3.7/lib/python3.7/json/decoder.py\u001b[0m in \u001b[0;36mdecode\u001b[0;34m(self, s, _w)\u001b[0m\n\u001b[1;32m    335\u001b[0m \u001b[0;34m\u001b[0m\u001b[0m\n\u001b[1;32m    336\u001b[0m         \"\"\"\n\u001b[0;32m--> 337\u001b[0;31m         \u001b[0mobj\u001b[0m\u001b[0;34m,\u001b[0m \u001b[0mend\u001b[0m \u001b[0;34m=\u001b[0m \u001b[0mself\u001b[0m\u001b[0;34m.\u001b[0m\u001b[0mraw_decode\u001b[0m\u001b[0;34m(\u001b[0m\u001b[0ms\u001b[0m\u001b[0;34m,\u001b[0m \u001b[0midx\u001b[0m\u001b[0;34m=\u001b[0m\u001b[0m_w\u001b[0m\u001b[0;34m(\u001b[0m\u001b[0ms\u001b[0m\u001b[0;34m,\u001b[0m \u001b[0;36m0\u001b[0m\u001b[0;34m)\u001b[0m\u001b[0;34m.\u001b[0m\u001b[0mend\u001b[0m\u001b[0;34m(\u001b[0m\u001b[0;34m)\u001b[0m\u001b[0;34m)\u001b[0m\u001b[0;34m\u001b[0m\u001b[0;34m\u001b[0m\u001b[0m\n\u001b[0m\u001b[1;32m    338\u001b[0m         \u001b[0mend\u001b[0m \u001b[0;34m=\u001b[0m \u001b[0m_w\u001b[0m\u001b[0;34m(\u001b[0m\u001b[0ms\u001b[0m\u001b[0;34m,\u001b[0m \u001b[0mend\u001b[0m\u001b[0;34m)\u001b[0m\u001b[0;34m.\u001b[0m\u001b[0mend\u001b[0m\u001b[0;34m(\u001b[0m\u001b[0;34m)\u001b[0m\u001b[0;34m\u001b[0m\u001b[0;34m\u001b[0m\u001b[0m\n\u001b[1;32m    339\u001b[0m         \u001b[0;32mif\u001b[0m \u001b[0mend\u001b[0m \u001b[0;34m!=\u001b[0m \u001b[0mlen\u001b[0m\u001b[0;34m(\u001b[0m\u001b[0ms\u001b[0m\u001b[0;34m)\u001b[0m\u001b[0;34m:\u001b[0m\u001b[0;34m\u001b[0m\u001b[0;34m\u001b[0m\u001b[0m\n",
      "\u001b[0;32m/usr/local/Cellar/python/3.7.4_1/Frameworks/Python.framework/Versions/3.7/lib/python3.7/json/decoder.py\u001b[0m in \u001b[0;36mraw_decode\u001b[0;34m(self, s, idx)\u001b[0m\n\u001b[1;32m    351\u001b[0m         \"\"\"\n\u001b[1;32m    352\u001b[0m         \u001b[0;32mtry\u001b[0m\u001b[0;34m:\u001b[0m\u001b[0;34m\u001b[0m\u001b[0;34m\u001b[0m\u001b[0m\n\u001b[0;32m--> 353\u001b[0;31m             \u001b[0mobj\u001b[0m\u001b[0;34m,\u001b[0m \u001b[0mend\u001b[0m \u001b[0;34m=\u001b[0m \u001b[0mself\u001b[0m\u001b[0;34m.\u001b[0m\u001b[0mscan_once\u001b[0m\u001b[0;34m(\u001b[0m\u001b[0ms\u001b[0m\u001b[0;34m,\u001b[0m \u001b[0midx\u001b[0m\u001b[0;34m)\u001b[0m\u001b[0;34m\u001b[0m\u001b[0;34m\u001b[0m\u001b[0m\n\u001b[0m\u001b[1;32m    354\u001b[0m         \u001b[0;32mexcept\u001b[0m \u001b[0mStopIteration\u001b[0m \u001b[0;32mas\u001b[0m \u001b[0merr\u001b[0m\u001b[0;34m:\u001b[0m\u001b[0;34m\u001b[0m\u001b[0;34m\u001b[0m\u001b[0m\n\u001b[1;32m    355\u001b[0m             \u001b[0;32mraise\u001b[0m \u001b[0mJSONDecodeError\u001b[0m\u001b[0;34m(\u001b[0m\u001b[0;34m\"Expecting value\"\u001b[0m\u001b[0;34m,\u001b[0m \u001b[0ms\u001b[0m\u001b[0;34m,\u001b[0m \u001b[0merr\u001b[0m\u001b[0;34m.\u001b[0m\u001b[0mvalue\u001b[0m\u001b[0;34m)\u001b[0m \u001b[0;32mfrom\u001b[0m \u001b[0;32mNone\u001b[0m\u001b[0;34m\u001b[0m\u001b[0;34m\u001b[0m\u001b[0m\n",
      "\u001b[0;31mJSONDecodeError\u001b[0m: Expecting property name enclosed in double quotes: line 6 column 3 (char 115)"
     ]
    }
   ],
   "source": [
    "data = \"\"\"{\n",
    "  \"air_force_blue_raf\": {\n",
    "    \"name\": \"Air Force Blue (Raf)\",\n",
    "    \"hex\": \"#5d8aa8\",\n",
    "    \"rgb\": [93, 138, 168],\n",
    "  },\n",
    "}\"\"\"\n",
    "\n",
    "loads(data)"
   ]
  },
  {
   "cell_type": "code",
   "execution_count": 139,
   "metadata": {},
   "outputs": [
    {
     "data": {
      "text/plain": [
       "[',\\n  }', ',\\n}']"
      ]
     },
     "execution_count": 139,
     "metadata": {},
     "output_type": "execute_result"
    }
   ],
   "source": [
    "import re\n",
    "\n",
    "wrong = re.compile(r',\\s*\\}')\n",
    "wrong.findall(data)"
   ]
  },
  {
   "cell_type": "code",
   "execution_count": 141,
   "metadata": {},
   "outputs": [
    {
     "name": "stdout",
     "output_type": "stream",
     "text": [
      "{\n",
      "  \"air_force_blue_raf\": {\n",
      "    \"name\": \"Air Force Blue (Raf)\",\n",
      "    \"hex\": \"#5d8aa8\",\n",
      "    \"rgb\": [93, 138, 168]}}\n"
     ]
    }
   ],
   "source": [
    "print(re.sub(wrong, '}', data))"
   ]
  },
  {
   "cell_type": "code",
   "execution_count": 142,
   "metadata": {},
   "outputs": [
    {
     "data": {
      "text/plain": [
       "{'air_force_blue_raf': {'name': 'Air Force Blue (Raf)',\n",
       "  'hex': '#5d8aa8',\n",
       "  'rgb': [93, 138, 168]}}"
      ]
     },
     "execution_count": 142,
     "metadata": {},
     "output_type": "execute_result"
    }
   ],
   "source": [
    "loads(re.sub(s, '\\n}', data))"
   ]
  },
  {
   "cell_type": "code",
   "execution_count": 145,
   "metadata": {
    "scrolled": false
   },
   "outputs": [
    {
     "data": {
      "text/plain": [
       "[('air_force_blue_raf',\n",
       "  {'name': 'Air Force Blue (Raf)', 'hex': '#5d8aa8', 'rgb': [93, 138, 168]}),\n",
       " ('air_force_blue_usaf',\n",
       "  {'name': 'Air Force Blue (Usaf)', 'hex': '#00308f', 'rgb': [0, 48, 143]}),\n",
       " ('air_superiority_blue',\n",
       "  {'name': 'Air Superiority Blue', 'hex': '#72a0c1', 'rgb': [114, 160, 193]}),\n",
       " ('alabama_crimson',\n",
       "  {'name': 'Alabama Crimson', 'hex': '#a32638', 'rgb': [163, 38, 56]}),\n",
       " ('alice_blue',\n",
       "  {'name': 'Alice Blue', 'hex': '#f0f8ff', 'rgb': [240, 248, 255]}),\n",
       " ('alizarin_crimson',\n",
       "  {'name': 'Alizarin Crimson', 'hex': '#e32636', 'rgb': [227, 38, 54]}),\n",
       " ('alloy_orange',\n",
       "  {'name': 'Alloy Orange', 'hex': '#c46210', 'rgb': [196, 98, 16]}),\n",
       " ('almond', {'name': 'Almond', 'hex': '#efdecd', 'rgb': [239, 222, 205]}),\n",
       " ('amaranth', {'name': 'Amaranth', 'hex': '#e52b50', 'rgb': [229, 43, 80]}),\n",
       " ('amber', {'name': 'Amber', 'hex': '#ffbf00', 'rgb': [255, 191, 0]})]"
      ]
     },
     "execution_count": 145,
     "metadata": {},
     "output_type": "execute_result"
    }
   ],
   "source": [
    "with urlopen('https://raw.githubusercontent.com/codebrainz/color-names/master/output/colors.json') as inf:\n",
    "    color_dict = loads(re.sub(s, '}', inf.read().decode('utf-8')))\n",
    "    \n",
    "list(color_dict.items())[:10]"
   ]
  },
  {
   "cell_type": "markdown",
   "metadata": {},
   "source": [
    "# Persistenza dei dati\n",
    "\n",
    "## Compressione\n",
    "\n",
    "[gzip](https://docs.python.org/3/library/gzip.html) e [zipfile](https://docs.python.org/3/library/zipfile.html)."
   ]
  },
  {
   "cell_type": "code",
   "execution_count": 151,
   "metadata": {},
   "outputs": [],
   "source": [
    "import gzip\n",
    "\n",
    "with gzip.open('test.gz', 'w') as ouf:\n",
    "    ouf.write('Questa è una prova'.encode('utf-8'))"
   ]
  },
  {
   "cell_type": "code",
   "execution_count": 152,
   "metadata": {},
   "outputs": [
    {
     "name": "stdout",
     "output_type": "stream",
     "text": [
      "Questa è una prova"
     ]
    }
   ],
   "source": [
    "! gzcat test.gz"
   ]
  },
  {
   "cell_type": "code",
   "execution_count": 176,
   "metadata": {},
   "outputs": [],
   "source": [
    "from os import remove\n",
    "from shutil import copyfileobj\n",
    "from tempfile import NamedTemporaryFile\n",
    "from urllib.request import urlopen\n",
    "\n",
    "with urlopen('https://www.sqlitetutorial.net/wp-content/uploads/2018/03/chinook.zip') as inf:\n",
    "    with NamedTemporaryFile(delete = False) as tmp:\n",
    "        copyfileobj(inf, tmp)"
   ]
  },
  {
   "cell_type": "code",
   "execution_count": 177,
   "metadata": {},
   "outputs": [
    {
     "name": "stdout",
     "output_type": "stream",
     "text": [
      "Archive:  /var/folders/23/yqhr033n6rl4q23_2fry24j80000gn/T/tmpm8ubt2_8\n",
      "  Length      Date    Time    Name\n",
      "---------  ---------- -----   ----\n",
      "   884736  11-29-2015 10:53   chinook.db\n",
      "---------                     -------\n",
      "   884736                     1 file\n"
     ]
    }
   ],
   "source": [
    "%%bash -s \"$tmp.name\"\n",
    "\n",
    "unzip -l \"$1\""
   ]
  },
  {
   "cell_type": "code",
   "execution_count": 178,
   "metadata": {},
   "outputs": [],
   "source": [
    "import zipfile\n",
    "\n",
    "with zipfile.ZipFile(tmp.name) as inf:\n",
    "    for entry in inf.infolist():\n",
    "        if entry.filename.endswith('.db'):\n",
    "            inf.extract(entry)"
   ]
  },
  {
   "cell_type": "code",
   "execution_count": 179,
   "metadata": {},
   "outputs": [
    {
     "name": "stdout",
     "output_type": "stream",
     "text": [
      "chinook.db\r\n"
     ]
    }
   ],
   "source": [
    "! ls *.db"
   ]
  },
  {
   "cell_type": "code",
   "execution_count": 182,
   "metadata": {},
   "outputs": [],
   "source": [
    "try:\n",
    "    remove(tmp.name)\n",
    "except FileNotFoundError:\n",
    "    pass"
   ]
  },
  {
   "cell_type": "markdown",
   "metadata": {},
   "source": [
    "## DB\n",
    "\n",
    "Da [sqlite3](https://docs.python.org/3/library/sqlite3.html); si veda l'[esempio](https://www.sqlitetutorial.net/sqlite-sample-database/) con [dati](https://www.sqlitetutorial.net/wp-content/uploads/2018/03/chinook.zip) e [schema](https://www.sqlitetutorial.net/wp-content/uploads/2018/03/sqlite-sample-database-diagram-color.pdf)."
   ]
  },
  {
   "cell_type": "code",
   "execution_count": 253,
   "metadata": {},
   "outputs": [],
   "source": [
    "import sqlite3\n",
    "\n",
    "import sqlite3\n",
    "\n",
    "conn = sqlite3.connect('chinook.db')\n",
    "cur = conn.cursor()"
   ]
  },
  {
   "cell_type": "code",
   "execution_count": 254,
   "metadata": {},
   "outputs": [
    {
     "name": "stdout",
     "output_type": "stream",
     "text": [
      "(12, 'Classical')\n",
      "(13, 'Classical 101 - Deep Cuts')\n",
      "(14, 'Classical 101 - Next Steps')\n",
      "(15, 'Classical 101 - The Basics')\n"
     ]
    }
   ],
   "source": [
    "for row in cur.execute('SELECT * FROM playlists WHERE Name LIKE ?', ['Classical%']):\n",
    "    print(row)"
   ]
  },
  {
   "cell_type": "code",
   "execution_count": 260,
   "metadata": {
    "scrolled": false
   },
   "outputs": [
    {
     "name": "stdout",
     "output_type": "stream",
     "text": [
      "Playlist: Classical 101 - Deep Cuts\n",
      "\n",
      "\tBach: Orchestral Suites Nos. 1 - 4\n",
      "\tBartok: Violin & Viola Concertos\n",
      "\tBeethoven: Symphony No. 6 'Pastoral' Etc.\n",
      "\tCharpentier: Divertissements, Airs & Concerts\n",
      "\tEnglish Renaissance\n",
      "\tGreat Recordings of the Century - Shubert: Schwanengesang, 4 Lieder\n",
      "\tGreat Recordings of the Century: Paganini's 24 Caprices\n",
      "\tGórecki: Symphony No. 3\n",
      "\tJ.S. Bach: Chaconne, Suite in E Minor, Partita in E Major & Prelude, Fugue and Allegro\n",
      "\tKoyaanisqatsi (Soundtrack from the Motion Picture)\n",
      "\tLiszt - 12 Études D'Execution Transcendante\n",
      "\tLocatelli: Concertos for Violin, Strings and Continuo, Vol. 3\n",
      "\tMendelssohn: A Midsummer Night's Dream\n",
      "\tMonteverdi: L'Orfeo\n",
      "\tMozart: Chamber Music\n",
      "\tNielsen: The Six Symphonies\n",
      "\tProkofiev: Symphony No.5 & Stravinksy: Le Sacre Du Printemps\n",
      "\tPurcell: Music for the Queen Mary\n",
      "\tPurcell: The Fairy Queen\n",
      "\tRespighi:Pines of Rome\n",
      "\tSchubert: The Late String Quartets & String Quintet (3 CD's)\n",
      "\tSouth American Getaway\n",
      "\tSzymanowski: Piano Works, Vol. 1\n",
      "\tThe Ultimate Relexation Album\n",
      "\tWeill: The Seven Deadly Sins\n",
      "\n",
      "\n",
      "Playlist: Classical 101 - Next Steps\n",
      "\n",
      "\tAdams, John: The Chairman Dances\n",
      "\tArmada: Music from the Courts of England and Spain\n",
      "\tBach: The Brandenburg Concertos\n",
      "\tBach: Toccata & Fugue in D Minor\n",
      "\tBeethoven Piano Sonatas: Moonlight & Pastorale\n",
      "\tBerlioz: Symphonie Fantastique\n",
      "\tBizet: Carmen Highlights\n",
      "\tChopin: Piano Concertos Nos. 1 & 2\n",
      "\tElgar: Cello Concerto & Vaughan Williams: Fantasias\n",
      "\tEnglish Renaissance\n",
      "\tGreat Recordings of the Century - Mahler: Das Lied von der Erde\n",
      "\tGrieg: Peer Gynt Suites & Sibelius: Pelléas et Mélisande\n",
      "\tHandel: Music for the Royal Fireworks (Original Version 1749)\n",
      "\tMascagni: Cavalleria Rusticana\n",
      "\tMozart Gala: Famous Arias\n",
      "\tMozart: Symphonies Nos. 40 & 41\n",
      "\tPalestrina: Missa Papae Marcelli & Allegri: Miserere\n",
      "\tProkofiev: Romeo & Juliet\n",
      "\tProkofiev: Symphony No.1\n",
      "\tSCRIABIN: Vers la flamme\n",
      "\tScheherazade\n",
      "\tSibelius: Finlandia\n",
      "\tStrauss: Waltzes\n",
      "\tTchaikovsky: 1812 Festival Overture, Op.49, Capriccio Italien & Beethoven: Wellington's Victory\n",
      "\tThe World of Classical Favourites\n",
      "\n",
      "\n",
      "Playlist: Classical 101 - The Basics\n",
      "\n",
      "\tA Copland Celebration, Vol. I\n",
      "\tA Soprano Inspired\n",
      "\tAdorate Deum: Gregorian Chant from the Proper of the Mass\n",
      "\tAllegri: Miserere\n",
      "\tBach: Goldberg Variations\n",
      "\tBach: The Cello Suites\n",
      "\tBach: Violin Concertos\n",
      "\tBeethoven: Symhonies Nos. 5 & 6\n",
      "\tCarmina Burana\n",
      "\tFauré: Requiem, Ravel: Pavane & Others\n",
      "\tGreat Opera Choruses\n",
      "\tGreat Performances - Barber's Adagio and Other Romantic Favorites for Strings\n",
      "\tHandel: The Messiah (Highlights)\n",
      "\tHaydn: Symphonies 99 - 104\n",
      "\tHolst: The Planets, Op. 32 & Vaughan Williams: Fantasies\n",
      "\tMozart: Wind Concertos\n",
      "\tPachelbel: Canon & Gigue\n",
      "\tPavarotti's Opera Made Easy\n",
      "\tPuccini: Madama Butterfly - Highlights\n",
      "\tSir Neville Marriner: A Celebration\n",
      "\tTchaikovsky: The Nutcracker\n",
      "\tThe Last Night of the Proms\n",
      "\tThe World of Classical Favourites\n",
      "\tVivaldi: The Four Seasons\n",
      "\tWagner: Favourite Overtures\n"
     ]
    }
   ],
   "source": [
    "cur.row_factory = sqlite3.Row\n",
    "\n",
    "query = \"\"\"\n",
    "SELECT albums.Title as aTitle, playlists.Name as pName\n",
    "    FROM playlists \n",
    "        JOIN playlist_track USING(PlaylistId) \n",
    "        JOIN tracks USING(TrackId) \n",
    "        JOIN albums USING(AlbumId) \n",
    "    WHERE playlists.Name LIKE 'Classical 101%'\n",
    "    ORDER BY pName, aTitle\n",
    "\"\"\"\n",
    "\n",
    "prev = None\n",
    "for row in cur.execute(query):\n",
    "    pName = row[\"pName\"]\n",
    "    if pName != prev:\n",
    "        if prev: print('\\n')\n",
    "        print(f'Playlist: {pName}\\n')\n",
    "        prev = pName\n",
    "    print(f'\\t{row[\"aTitle\"]}')\n"
   ]
  },
  {
   "cell_type": "markdown",
   "metadata": {},
   "source": [
    "# Supporto allo sviluppo e debugging\n",
    "\n",
    "Da [unittest](https://docs.python.org/3/library/unittest.html) e [timeit](https://docs.python.org/3/library/timeit.html).\n",
    "\n",
    "Una libreria esterna: [tqdm](https://github.com/tqdm/tqdm)."
   ]
  }
 ],
 "metadata": {
  "kernelspec": {
   "display_name": "Python 3",
   "language": "python",
   "name": "python3"
  },
  "language_info": {
   "codemirror_mode": {
    "name": "ipython",
    "version": 3
   },
   "file_extension": ".py",
   "mimetype": "text/x-python",
   "name": "python",
   "nbconvert_exporter": "python",
   "pygments_lexer": "ipython3",
   "version": "3.7.4"
  }
 },
 "nbformat": 4,
 "nbformat_minor": 2
}
