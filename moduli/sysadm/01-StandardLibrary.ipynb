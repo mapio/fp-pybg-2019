{
 "cells": [
  {
   "cell_type": "markdown",
   "metadata": {},
   "source": [
    "# Filesystem e accesso ai servizi dell'OS\n",
    "  \n",
    "Da [File and Directory Access](https://docs.python.org/3/library/filesys.html),\n",
    "  [Generic Operating System Services](https://docs.python.org/3/library/allos.html) e\n",
    "  [Subprocess management](https://docs.python.org/3/library/subprocess.html).\n",
    " \n",
    "## Path orientati ad oggetti"
   ]
  },
  {
   "cell_type": "code",
   "execution_count": 195,
   "metadata": {},
   "outputs": [],
   "source": [
    "from pathlib import Path"
   ]
  },
  {
   "cell_type": "code",
   "execution_count": 120,
   "metadata": {},
   "outputs": [
    {
     "data": {
      "text/plain": [
       "(PosixPath('.'),\n",
       " PosixPath('/Users/santini/Documents/Activities/Teaching/Courses/pybg/repo/moduli/sysadm'),\n",
       " PosixPath('santini/Documents/Activities'))"
      ]
     },
     "execution_count": 120,
     "metadata": {},
     "output_type": "execute_result"
    }
   ],
   "source": [
    "# relativo e assoluto\n",
    "\n",
    "(\n",
    "    Path(), \n",
    "    Path().absolute(), \n",
    "    Path('/Users/santini/Documents/Activities').relative_to('/Users')\n",
    ")"
   ]
  },
  {
   "cell_type": "code",
   "execution_count": 121,
   "metadata": {},
   "outputs": [
    {
     "data": {
      "text/plain": [
       "PosixPath('~santini/Documents/Dropbox')"
      ]
     },
     "execution_count": 121,
     "metadata": {},
     "output_type": "execute_result"
    }
   ],
   "source": [
    "# overloading di / \n",
    "\n",
    "Path('~santini') / 'Documents' / 'Dropbox'"
   ]
  },
  {
   "cell_type": "code",
   "execution_count": 122,
   "metadata": {},
   "outputs": [
    {
     "data": {
      "text/plain": [
       "[PosixPath('/etc/syslog.conf'), PosixPath('/etc/syslog.conf~previous')]"
      ]
     },
     "execution_count": 122,
     "metadata": {},
     "output_type": "execute_result"
    }
   ],
   "source": [
    "# globbing (ache ricorsivo)\n",
    "\n",
    "list(Path('/etc').glob('sys*'))"
   ]
  },
  {
   "cell_type": "code",
   "execution_count": 123,
   "metadata": {},
   "outputs": [
    {
     "data": {
      "text/plain": [
       "[PosixPath('01-StandardLibrary.ipynb'),\n",
       " PosixPath('02-Fabric.ipynb'),\n",
       " PosixPath('.ipynb_checkpoints/Fabric-checkpoint.ipynb'),\n",
       " PosixPath('.ipynb_checkpoints/01-StandardLibrary-checkpoint.ipynb')]"
      ]
     },
     "execution_count": 123,
     "metadata": {},
     "output_type": "execute_result"
    }
   ],
   "source": [
    "list(Path().rglob('*.ipynb'))"
   ]
  },
  {
   "cell_type": "code",
   "execution_count": 124,
   "metadata": {},
   "outputs": [
    {
     "data": {
      "text/plain": [
       "[PosixPath('docker'),\n",
       " PosixPath('.nodel'),\n",
       " PosixPath('01-StandardLibrary.ipynb'),\n",
       " PosixPath('.ipynb_checkpoints'),\n",
       " PosixPath('02-Fabric.ipynb')]"
      ]
     },
     "execution_count": 124,
     "metadata": {},
     "output_type": "execute_result"
    }
   ],
   "source": [
    "# listing \n",
    "\n",
    "list(Path().iterdir())"
   ]
  },
  {
   "cell_type": "code",
   "execution_count": 137,
   "metadata": {},
   "outputs": [
    {
     "data": {
      "text/plain": [
       "(PosixPath('/Users/santini'),\n",
       " PosixPath('/Users/santini/Documents/Activities/Teaching/Courses/pybg/repo/moduli/sysadm'))"
      ]
     },
     "execution_count": 137,
     "metadata": {},
     "output_type": "execute_result"
    }
   ],
   "source": [
    "# home e cwd (sono metodi statici)\n",
    "\n",
    "Path.home(), Path.cwd() "
   ]
  },
  {
   "cell_type": "code",
   "execution_count": 135,
   "metadata": {},
   "outputs": [
    {
     "data": {
      "text/plain": [
       "PosixPath('/Users/admin')"
      ]
     },
     "execution_count": 135,
     "metadata": {},
     "output_type": "execute_result"
    }
   ],
   "source": [
    "# espansione tilde\n",
    "\n",
    "Path('~admin').expanduser()"
   ]
  },
  {
   "cell_type": "code",
   "execution_count": 126,
   "metadata": {},
   "outputs": [
    {
     "data": {
      "text/plain": [
       "(False, True, True, True)"
      ]
     },
     "execution_count": 126,
     "metadata": {},
     "output_type": "execute_result"
    }
   ],
   "source": [
    "# query\n",
    "\n",
    "(\n",
    "    Path('/pippo').exists(),\n",
    "    Path('/Users').is_dir(),\n",
    "    Path('/Users/santini/.bashrc').is_file(),\n",
    "    Path('/Users/santini/.bash_profile').is_symlink(),\n",
    ")"
   ]
  },
  {
   "cell_type": "code",
   "execution_count": 127,
   "metadata": {},
   "outputs": [
    {
     "data": {
      "text/plain": [
       "('file.tar.gz', 'file.tar', ['.tar', '.gz'], '.gz')"
      ]
     },
     "execution_count": 127,
     "metadata": {},
     "output_type": "execute_result"
    }
   ],
   "source": [
    "# parti del nome\n",
    "\n",
    "p = Path('/dir/file.tar.gz')\n",
    "\n",
    "p.name, p.stem, p.suffixes, p.suffix"
   ]
  },
  {
   "cell_type": "code",
   "execution_count": 128,
   "metadata": {},
   "outputs": [
    {
     "data": {
      "text/plain": [
       "(PosixPath('/dir/newname.ext'), PosixPath('/dir/file.tar.newsuff'))"
      ]
     },
     "execution_count": 128,
     "metadata": {},
     "output_type": "execute_result"
    }
   ],
   "source": [
    "# rimpiazzare nome e suffisso \n",
    "\n",
    "p.with_name('newname.ext'), p.with_suffix('.newsuff')"
   ]
  },
  {
   "cell_type": "code",
   "execution_count": 129,
   "metadata": {},
   "outputs": [
    {
     "data": {
      "text/plain": [
       "('/', 'Users', 'santini', '.bash_profile')"
      ]
     },
     "execution_count": 129,
     "metadata": {},
     "output_type": "execute_result"
    }
   ],
   "source": [
    "# parti\n",
    "\n",
    "p = Path('/Users/santini/.bash_profile')\n",
    "\n",
    "p.parts"
   ]
  },
  {
   "cell_type": "code",
   "execution_count": 130,
   "metadata": {},
   "outputs": [
    {
     "data": {
      "text/plain": [
       "(PosixPath('/Users/santini'),\n",
       " [PosixPath('/Users/santini'), PosixPath('/Users'), PosixPath('/')])"
      ]
     },
     "execution_count": 130,
     "metadata": {},
     "output_type": "execute_result"
    }
   ],
   "source": [
    "# parti della directory \n",
    "\n",
    "p.parent, list(p.parents) "
   ]
  },
  {
   "cell_type": "code",
   "execution_count": 196,
   "metadata": {},
   "outputs": [
    {
     "data": {
      "text/plain": [
       "('santini',\n",
       " 'staff',\n",
       " os.stat_result(st_mode=33216, st_ino=41664083, st_dev=16777220, st_nlink=1, st_uid=501, st_gid=20, st_size=3374, st_atime=1571344159, st_mtime=1557902501, st_ctime=1572017256))"
      ]
     },
     "execution_count": 196,
     "metadata": {},
     "output_type": "execute_result"
    }
   ],
   "source": [
    "# permessi\n",
    "\n",
    "p = Path('~/.bashrc').expanduser()\n",
    "\n",
    "p.owner(), p.group(), p.stat()"
   ]
  },
  {
   "cell_type": "code",
   "execution_count": 197,
   "metadata": {},
   "outputs": [
    {
     "name": "stdout",
     "output_type": "stream",
     "text": [
      "0o100000\n",
      "0o100700\n"
     ]
    }
   ],
   "source": [
    "# modificare i permessi \n",
    "\n",
    "old_mode = p.stat().st_mode\n",
    "\n",
    "p.chmod(0o000)\n",
    "print(oct(p.stat().st_mode))\n",
    "\n",
    "p.chmod(old_mode)\n",
    "print(oct(p.stat().st_mode))"
   ]
  },
  {
   "cell_type": "code",
   "execution_count": 168,
   "metadata": {},
   "outputs": [],
   "source": [
    "# tutta una serie di manipolazioni\n",
    "\n",
    "# p.rename, p.replace, p.mkdir, p.link_to…"
   ]
  },
  {
   "cell_type": "code",
   "execution_count": 198,
   "metadata": {},
   "outputs": [
    {
     "name": "stdout",
     "output_type": "stream",
     "text": [
      "Nel mezzo del cammin di nostra vita\n",
      "mi ritrovai per una selva oscura\n",
      "ché la diritta via era smarrita.\n"
     ]
    }
   ],
   "source": [
    "# scrivere e leggere\n",
    "\n",
    "p = Path('/tmp/test.txt')\n",
    "p.write_text(\"\"\"\n",
    "Nel mezzo del cammin di nostra vita\n",
    "mi ritrovai per una selva oscura\n",
    "ché la diritta via era smarrita.\n",
    "\"\"\")\n",
    "\n",
    "print(p.read_text().strip())"
   ]
  },
  {
   "cell_type": "markdown",
   "metadata": {},
   "source": [
    "## FIle e directory temporanee"
   ]
  },
  {
   "cell_type": "code",
   "execution_count": 199,
   "metadata": {},
   "outputs": [],
   "source": [
    "from tempfile import TemporaryFile, TemporaryDirectory, NamedTemporaryFile"
   ]
  },
  {
   "cell_type": "code",
   "execution_count": 200,
   "metadata": {},
   "outputs": [
    {
     "name": "stdout",
     "output_type": "stream",
     "text": [
      "b'123'\n"
     ]
    }
   ],
   "source": [
    "with TemporaryFile() as tmp:\n",
    "    tmp.write(b'123')\n",
    "    tmp.seek(0)\n",
    "    print(tmp.read())"
   ]
  },
  {
   "cell_type": "code",
   "execution_count": 201,
   "metadata": {},
   "outputs": [
    {
     "data": {
      "text/plain": [
       "False"
      ]
     },
     "execution_count": 201,
     "metadata": {},
     "output_type": "execute_result"
    }
   ],
   "source": [
    "with TemporaryDirectory() as tmp:\n",
    "    (Path(tmp) / 'file.txt').write_text('ciao')\n",
    "\n",
    "Path(tmp).is_dir()"
   ]
  },
  {
   "cell_type": "code",
   "execution_count": 202,
   "metadata": {},
   "outputs": [
    {
     "name": "stdout",
     "output_type": "stream",
     "text": [
      "/var/folders/23/yqhr033n6rl4q23_2fry24j80000gn/T/tmp2ugdyb3n\n"
     ]
    }
   ],
   "source": [
    "with NamedTemporaryFile() as tmp:\n",
    "    print(tmp.name)"
   ]
  },
  {
   "cell_type": "markdown",
   "metadata": {},
   "source": [
    "## Operazioni ad alto livello su gruppi di file"
   ]
  },
  {
   "cell_type": "code",
   "execution_count": 203,
   "metadata": {},
   "outputs": [],
   "source": [
    "import shutil"
   ]
  },
  {
   "cell_type": "code",
   "execution_count": 213,
   "metadata": {},
   "outputs": [
    {
     "data": {
      "text/plain": [
       "[PosixPath('docker-copy/build_image.sh'),\n",
       " PosixPath('docker-copy/Dockerfile'),\n",
       " PosixPath('docker-copy/run_slaves.sh'),\n",
       " PosixPath('docker-copy/controller_rsa.pub'),\n",
       " PosixPath('docker-copy/run_controller.sh')]"
      ]
     },
     "execution_count": 213,
     "metadata": {},
     "output_type": "execute_result"
    }
   ],
   "source": [
    "shutil.copytree('docker', 'docker-copy')\n",
    "\n",
    "list(Path('docker-copy').iterdir())"
   ]
  },
  {
   "cell_type": "code",
   "execution_count": 214,
   "metadata": {},
   "outputs": [
    {
     "data": {
      "text/plain": [
       "False"
      ]
     },
     "execution_count": 214,
     "metadata": {},
     "output_type": "execute_result"
    }
   ],
   "source": [
    "shutil.rmtree('docker-copy')\n",
    "\n",
    "Path('docker-copy').is_dir()"
   ]
  },
  {
   "cell_type": "code",
   "execution_count": 217,
   "metadata": {},
   "outputs": [
    {
     "data": {
      "text/plain": [
       "'/Users/santini/.local/share/dir-venv/ee639860a61f45b0491eb86d7b9bb81c-moduli/bin/python'"
      ]
     },
     "execution_count": 217,
     "metadata": {},
     "output_type": "execute_result"
    }
   ],
   "source": [
    "# il comodo which \n",
    "\n",
    "shutil.which('python')"
   ]
  },
  {
   "cell_type": "markdown",
   "metadata": {},
   "source": [
    "## Eseguire altri programmi"
   ]
  },
  {
   "cell_type": "code",
   "execution_count": 218,
   "metadata": {},
   "outputs": [],
   "source": [
    "import subprocess"
   ]
  },
  {
   "cell_type": "code",
   "execution_count": 220,
   "metadata": {},
   "outputs": [
    {
     "data": {
      "text/plain": [
       "CompletedProcess(args=['ls', '-l'], returncode=0)"
      ]
     },
     "execution_count": 220,
     "metadata": {},
     "output_type": "execute_result"
    }
   ],
   "source": [
    "subprocess.run(['ls', '-l'])"
   ]
  },
  {
   "cell_type": "code",
   "execution_count": 238,
   "metadata": {},
   "outputs": [
    {
     "name": "stdout",
     "output_type": "stream",
     "text": [
      "total 40\n",
      "-rw-r--r-- 1 santini staff 14634 Oct 25 20:49 01-StandardLibrary.ipynb\n",
      "-rw-r--r-- 1 santini staff 23736 Oct 25 16:43 02-Fabric.ipynb\n",
      "drwxr-xr-x 6 santini staff   192 Oct 25 20:42 docker\n",
      "\n"
     ]
    }
   ],
   "source": [
    "# catturare l'output (come testo)\n",
    "\n",
    "result = subprocess.run(['ls', '-l'], capture_output = True, text = True)\n",
    "print(result.stdout)"
   ]
  },
  {
   "cell_type": "code",
   "execution_count": 239,
   "metadata": {},
   "outputs": [
    {
     "name": "stdout",
     "output_type": "stream",
     "text": [
      "total 40\n",
      "-rw-r--r-- 1 santini staff 14634 Oct 25 20:49 01-StandardLibrary.ipynb\n",
      "-rw-r--r-- 1 santini staff 23736 Oct 25 16:43 02-Fabric.ipynb\n",
      "drwxr-xr-x 6 santini staff   192 Oct 25 20:42 docker\n",
      "\n"
     ]
    }
   ],
   "source": [
    "# fare il parsing del comando come fa la shell\n",
    "\n",
    "print(subprocess.run('ls -l', shell = True, capture_output = True, text = True).stdout)"
   ]
  },
  {
   "cell_type": "code",
   "execution_count": 240,
   "metadata": {},
   "outputs": [
    {
     "data": {
      "text/plain": [
       "'      3      20\\n'"
      ]
     },
     "execution_count": 240,
     "metadata": {},
     "output_type": "execute_result"
    }
   ],
   "source": [
    "angiolieri = \"\"\"S'i fosse fuoco, arderei 'l mondo;\n",
    "s'i fosse vento, lo tempestarei;\n",
    "s'i fosse acqua, i' l'annegherei;\n",
    "\"\"\".replace(\"'\", ' ')\n",
    "\n",
    "subprocess.run('wc -lw', shell = True, input = angiolieri, text = True, capture_output = True).stdout"
   ]
  },
  {
   "cell_type": "markdown",
   "metadata": {},
   "source": [
    "# Aspetti di rete\n",
    "\n",
    "Da [Networking and Interprocess Communication](https://docs.python.org/3/library/ipc.html), [Internet Data Handling](https://docs.python.org/3/library/netdata.html), \n",
    " e [Internet Protocols and Support](https://docs.python.org/3/library/internet.html)."
   ]
  },
  {
   "cell_type": "code",
   "execution_count": null,
   "metadata": {},
   "outputs": [],
   "source": []
  },
  {
   "cell_type": "code",
   "execution_count": null,
   "metadata": {},
   "outputs": [],
   "source": []
  },
  {
   "cell_type": "code",
   "execution_count": null,
   "metadata": {},
   "outputs": [],
   "source": []
  },
  {
   "cell_type": "code",
   "execution_count": null,
   "metadata": {},
   "outputs": [],
   "source": []
  },
  {
   "cell_type": "code",
   "execution_count": null,
   "metadata": {},
   "outputs": [],
   "source": []
  },
  {
   "cell_type": "code",
   "execution_count": null,
   "metadata": {},
   "outputs": [],
   "source": []
  },
  {
   "cell_type": "code",
   "execution_count": null,
   "metadata": {},
   "outputs": [],
   "source": []
  },
  {
   "cell_type": "markdown",
   "metadata": {},
   "source": [
    "    \n",
    "# Gestione del software Python\n",
    "\n",
    "Da [Software Packaging and Distribution](https://docs.python.org/3/library/distribution.html)."
   ]
  },
  {
   "cell_type": "code",
   "execution_count": null,
   "metadata": {},
   "outputs": [],
   "source": []
  }
 ],
 "metadata": {
  "kernelspec": {
   "display_name": "Python 3",
   "language": "python",
   "name": "python3"
  },
  "language_info": {
   "codemirror_mode": {
    "name": "ipython",
    "version": 3
   },
   "file_extension": ".py",
   "mimetype": "text/x-python",
   "name": "python",
   "nbconvert_exporter": "python",
   "pygments_lexer": "ipython3",
   "version": "3.7.4"
  }
 },
 "nbformat": 4,
 "nbformat_minor": 2
}
