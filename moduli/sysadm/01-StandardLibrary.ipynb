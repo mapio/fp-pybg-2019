{
 "cells": [
  {
   "cell_type": "markdown",
   "metadata": {},
   "source": [
    "# Filesystem e accesso ai servizi dell'OS\n",
    "  \n",
    "Da [File and Directory Access](https://docs.python.org/3/library/filesys.html),\n",
    "  [Generic Operating System Services](https://docs.python.org/3/library/allos.html) e\n",
    "  [Subprocess management](https://docs.python.org/3/library/subprocess.html).\n",
    " \n",
    "## Path orientati ad oggetti"
   ]
  },
  {
   "cell_type": "code",
   "execution_count": 1,
   "metadata": {},
   "outputs": [],
   "source": [
    "from pathlib import Path"
   ]
  },
  {
   "cell_type": "code",
   "execution_count": 2,
   "metadata": {},
   "outputs": [
    {
     "data": {
      "text/plain": [
       "(PosixPath('.'),\n",
       " PosixPath('/Users/santini/Documents/Activities/Teaching/Courses/pybg/repo/moduli/sysadm'),\n",
       " PosixPath('santini/Documents/Activities'))"
      ]
     },
     "execution_count": 2,
     "metadata": {},
     "output_type": "execute_result"
    }
   ],
   "source": [
    "# relativo e assoluto\n",
    "\n",
    "(\n",
    "    Path(), \n",
    "    Path().absolute(), \n",
    "    Path('/Users/santini/Documents/Activities').relative_to('/Users')\n",
    ")"
   ]
  },
  {
   "cell_type": "code",
   "execution_count": 3,
   "metadata": {},
   "outputs": [
    {
     "data": {
      "text/plain": [
       "PosixPath('~santini/Documents/Dropbox')"
      ]
     },
     "execution_count": 3,
     "metadata": {},
     "output_type": "execute_result"
    }
   ],
   "source": [
    "# overloading di / \n",
    "\n",
    "Path('~santini') / 'Documents' / 'Dropbox'"
   ]
  },
  {
   "cell_type": "code",
   "execution_count": 4,
   "metadata": {},
   "outputs": [
    {
     "data": {
      "text/plain": [
       "[PosixPath('/etc/syslog.conf'), PosixPath('/etc/syslog.conf~previous')]"
      ]
     },
     "execution_count": 4,
     "metadata": {},
     "output_type": "execute_result"
    }
   ],
   "source": [
    "# globbing (ache ricorsivo)\n",
    "\n",
    "list(Path('/etc').glob('sys*'))"
   ]
  },
  {
   "cell_type": "code",
   "execution_count": 5,
   "metadata": {},
   "outputs": [
    {
     "data": {
      "text/plain": [
       "[PosixPath('01-StandardLibrary.ipynb'),\n",
       " PosixPath('02-Fabric.ipynb'),\n",
       " PosixPath('.ipynb_checkpoints/Fabric-checkpoint.ipynb'),\n",
       " PosixPath('.ipynb_checkpoints/01-StandardLibrary-checkpoint.ipynb')]"
      ]
     },
     "execution_count": 5,
     "metadata": {},
     "output_type": "execute_result"
    }
   ],
   "source": [
    "list(Path().rglob('*.ipynb'))"
   ]
  },
  {
   "cell_type": "code",
   "execution_count": 6,
   "metadata": {},
   "outputs": [
    {
     "data": {
      "text/plain": [
       "[PosixPath('docker'),\n",
       " PosixPath('.nodel'),\n",
       " PosixPath('01-StandardLibrary.ipynb'),\n",
       " PosixPath('.ipynb_checkpoints'),\n",
       " PosixPath('02-Fabric.ipynb')]"
      ]
     },
     "execution_count": 6,
     "metadata": {},
     "output_type": "execute_result"
    }
   ],
   "source": [
    "# listing \n",
    "\n",
    "list(Path().iterdir())"
   ]
  },
  {
   "cell_type": "code",
   "execution_count": 7,
   "metadata": {},
   "outputs": [
    {
     "data": {
      "text/plain": [
       "(PosixPath('/Users/santini'),\n",
       " PosixPath('/Users/santini/Documents/Activities/Teaching/Courses/pybg/repo/moduli/sysadm'))"
      ]
     },
     "execution_count": 7,
     "metadata": {},
     "output_type": "execute_result"
    }
   ],
   "source": [
    "# home e cwd (sono metodi statici)\n",
    "\n",
    "Path.home(), Path.cwd() "
   ]
  },
  {
   "cell_type": "code",
   "execution_count": 8,
   "metadata": {},
   "outputs": [
    {
     "data": {
      "text/plain": [
       "PosixPath('/Users/admin')"
      ]
     },
     "execution_count": 8,
     "metadata": {},
     "output_type": "execute_result"
    }
   ],
   "source": [
    "# espansione tilde\n",
    "\n",
    "Path('~admin').expanduser()"
   ]
  },
  {
   "cell_type": "code",
   "execution_count": 9,
   "metadata": {},
   "outputs": [
    {
     "data": {
      "text/plain": [
       "(False, True, True, True)"
      ]
     },
     "execution_count": 9,
     "metadata": {},
     "output_type": "execute_result"
    }
   ],
   "source": [
    "# query\n",
    "\n",
    "(\n",
    "    Path('/pippo').exists(),\n",
    "    Path('/Users').is_dir(),\n",
    "    Path('/Users/santini/.bashrc').is_file(),\n",
    "    Path('/Users/santini/.bash_profile').is_symlink(),\n",
    ")"
   ]
  },
  {
   "cell_type": "code",
   "execution_count": 10,
   "metadata": {},
   "outputs": [
    {
     "data": {
      "text/plain": [
       "('file.tar.gz', 'file.tar', ['.tar', '.gz'], '.gz')"
      ]
     },
     "execution_count": 10,
     "metadata": {},
     "output_type": "execute_result"
    }
   ],
   "source": [
    "# parti del nome\n",
    "\n",
    "p = Path('/dir/file.tar.gz')\n",
    "\n",
    "p.name, p.stem, p.suffixes, p.suffix"
   ]
  },
  {
   "cell_type": "code",
   "execution_count": 11,
   "metadata": {},
   "outputs": [
    {
     "data": {
      "text/plain": [
       "(PosixPath('/dir/newname.ext'), PosixPath('/dir/file.tar.newsuff'))"
      ]
     },
     "execution_count": 11,
     "metadata": {},
     "output_type": "execute_result"
    }
   ],
   "source": [
    "# rimpiazzare nome e suffisso \n",
    "\n",
    "p.with_name('newname.ext'), p.with_suffix('.newsuff')"
   ]
  },
  {
   "cell_type": "code",
   "execution_count": 12,
   "metadata": {},
   "outputs": [
    {
     "data": {
      "text/plain": [
       "('/', 'Users', 'santini', '.bash_profile')"
      ]
     },
     "execution_count": 12,
     "metadata": {},
     "output_type": "execute_result"
    }
   ],
   "source": [
    "# parti\n",
    "\n",
    "p = Path('/Users/santini/.bash_profile')\n",
    "\n",
    "p.parts"
   ]
  },
  {
   "cell_type": "code",
   "execution_count": 13,
   "metadata": {},
   "outputs": [
    {
     "data": {
      "text/plain": [
       "(PosixPath('/Users/santini'),\n",
       " [PosixPath('/Users/santini'), PosixPath('/Users'), PosixPath('/')])"
      ]
     },
     "execution_count": 13,
     "metadata": {},
     "output_type": "execute_result"
    }
   ],
   "source": [
    "# parti della directory \n",
    "\n",
    "p.parent, list(p.parents) "
   ]
  },
  {
   "cell_type": "code",
   "execution_count": 14,
   "metadata": {},
   "outputs": [
    {
     "data": {
      "text/plain": [
       "('santini',\n",
       " 'staff',\n",
       " os.stat_result(st_mode=33216, st_ino=41664083, st_dev=16777220, st_nlink=1, st_uid=501, st_gid=20, st_size=3374, st_atime=1571344159, st_mtime=1557902501, st_ctime=1572032566))"
      ]
     },
     "execution_count": 14,
     "metadata": {},
     "output_type": "execute_result"
    }
   ],
   "source": [
    "# permessi\n",
    "\n",
    "p = Path('~/.bashrc').expanduser()\n",
    "\n",
    "p.owner(), p.group(), p.stat()"
   ]
  },
  {
   "cell_type": "code",
   "execution_count": 15,
   "metadata": {},
   "outputs": [
    {
     "name": "stdout",
     "output_type": "stream",
     "text": [
      "0o100000\n",
      "0o100700\n"
     ]
    }
   ],
   "source": [
    "# modificare i permessi \n",
    "\n",
    "old_mode = p.stat().st_mode\n",
    "\n",
    "p.chmod(0o000)\n",
    "print(oct(p.stat().st_mode))\n",
    "\n",
    "p.chmod(old_mode)\n",
    "print(oct(p.stat().st_mode))"
   ]
  },
  {
   "cell_type": "code",
   "execution_count": 16,
   "metadata": {},
   "outputs": [],
   "source": [
    "# tutta una serie di manipolazioni\n",
    "\n",
    "# p.rename, p.replace, p.mkdir, p.link_to…"
   ]
  },
  {
   "cell_type": "code",
   "execution_count": 17,
   "metadata": {},
   "outputs": [
    {
     "name": "stdout",
     "output_type": "stream",
     "text": [
      "Nel mezzo del cammin di nostra vita\n",
      "mi ritrovai per una selva oscura\n",
      "ché la diritta via era smarrita.\n"
     ]
    }
   ],
   "source": [
    "# scrivere e leggere\n",
    "\n",
    "p = Path('/tmp/test.txt')\n",
    "p.write_text(\"\"\"\n",
    "Nel mezzo del cammin di nostra vita\n",
    "mi ritrovai per una selva oscura\n",
    "ché la diritta via era smarrita.\n",
    "\"\"\")\n",
    "\n",
    "print(p.read_text().strip())"
   ]
  },
  {
   "cell_type": "markdown",
   "metadata": {},
   "source": [
    "## FIle e directory temporanee"
   ]
  },
  {
   "cell_type": "code",
   "execution_count": 18,
   "metadata": {},
   "outputs": [],
   "source": [
    "from tempfile import TemporaryFile, TemporaryDirectory, NamedTemporaryFile"
   ]
  },
  {
   "cell_type": "code",
   "execution_count": 19,
   "metadata": {},
   "outputs": [
    {
     "name": "stdout",
     "output_type": "stream",
     "text": [
      "b'123'\n"
     ]
    }
   ],
   "source": [
    "with TemporaryFile() as tmp:\n",
    "    tmp.write(b'123')\n",
    "    tmp.seek(0)\n",
    "    print(tmp.read())"
   ]
  },
  {
   "cell_type": "code",
   "execution_count": 20,
   "metadata": {},
   "outputs": [
    {
     "data": {
      "text/plain": [
       "False"
      ]
     },
     "execution_count": 20,
     "metadata": {},
     "output_type": "execute_result"
    }
   ],
   "source": [
    "with TemporaryDirectory() as tmp:\n",
    "    (Path(tmp) / 'file.txt').write_text('ciao')\n",
    "\n",
    "Path(tmp).is_dir()"
   ]
  },
  {
   "cell_type": "code",
   "execution_count": 21,
   "metadata": {},
   "outputs": [
    {
     "name": "stdout",
     "output_type": "stream",
     "text": [
      "/var/folders/23/yqhr033n6rl4q23_2fry24j80000gn/T/tmpewszlm_6\n"
     ]
    }
   ],
   "source": [
    "with NamedTemporaryFile() as tmp:\n",
    "    print(tmp.name)"
   ]
  },
  {
   "cell_type": "markdown",
   "metadata": {},
   "source": [
    "## Operazioni ad alto livello su gruppi di file"
   ]
  },
  {
   "cell_type": "code",
   "execution_count": 22,
   "metadata": {},
   "outputs": [],
   "source": [
    "import shutil"
   ]
  },
  {
   "cell_type": "code",
   "execution_count": 23,
   "metadata": {},
   "outputs": [
    {
     "data": {
      "text/plain": [
       "[PosixPath('docker-copy/build_image.sh'),\n",
       " PosixPath('docker-copy/Dockerfile'),\n",
       " PosixPath('docker-copy/run_slaves.sh'),\n",
       " PosixPath('docker-copy/run_controller.sh')]"
      ]
     },
     "execution_count": 23,
     "metadata": {},
     "output_type": "execute_result"
    }
   ],
   "source": [
    "shutil.copytree('docker', 'docker-copy')\n",
    "\n",
    "list(Path('docker-copy').iterdir())"
   ]
  },
  {
   "cell_type": "code",
   "execution_count": 24,
   "metadata": {},
   "outputs": [
    {
     "data": {
      "text/plain": [
       "False"
      ]
     },
     "execution_count": 24,
     "metadata": {},
     "output_type": "execute_result"
    }
   ],
   "source": [
    "shutil.rmtree('docker-copy')\n",
    "\n",
    "Path('docker-copy').is_dir()"
   ]
  },
  {
   "cell_type": "code",
   "execution_count": 25,
   "metadata": {},
   "outputs": [
    {
     "data": {
      "text/plain": [
       "'/Users/santini/.local/share/dir-venv/ee639860a61f45b0491eb86d7b9bb81c-moduli/bin/python'"
      ]
     },
     "execution_count": 25,
     "metadata": {},
     "output_type": "execute_result"
    }
   ],
   "source": [
    "# il comodo which \n",
    "\n",
    "shutil.which('python')"
   ]
  },
  {
   "cell_type": "markdown",
   "metadata": {},
   "source": [
    "## Eseguire altri programmi"
   ]
  },
  {
   "cell_type": "code",
   "execution_count": 26,
   "metadata": {},
   "outputs": [],
   "source": [
    "import subprocess"
   ]
  },
  {
   "cell_type": "code",
   "execution_count": 27,
   "metadata": {},
   "outputs": [
    {
     "data": {
      "text/plain": [
       "CompletedProcess(args=['ls', '-l'], returncode=0)"
      ]
     },
     "execution_count": 27,
     "metadata": {},
     "output_type": "execute_result"
    }
   ],
   "source": [
    "subprocess.run(['ls', '-l'])"
   ]
  },
  {
   "cell_type": "code",
   "execution_count": 28,
   "metadata": {},
   "outputs": [
    {
     "name": "stdout",
     "output_type": "stream",
     "text": [
      "total 44\n",
      "-rw-r--r-- 1 santini staff 20384 Oct 25 21:42 01-StandardLibrary.ipynb\n",
      "-rw-r--r-- 1 santini staff 23736 Oct 25 16:43 02-Fabric.ipynb\n",
      "drwxr-xr-x 6 santini staff   192 Oct 25 20:42 docker\n",
      "\n"
     ]
    }
   ],
   "source": [
    "# catturare l'output (come testo)\n",
    "\n",
    "result = subprocess.run(['ls', '-l'], capture_output = True, text = True)\n",
    "print(result.stdout)"
   ]
  },
  {
   "cell_type": "code",
   "execution_count": 29,
   "metadata": {},
   "outputs": [
    {
     "name": "stdout",
     "output_type": "stream",
     "text": [
      "total 44\n",
      "-rw-r--r-- 1 santini staff 20384 Oct 25 21:42 01-StandardLibrary.ipynb\n",
      "-rw-r--r-- 1 santini staff 23736 Oct 25 16:43 02-Fabric.ipynb\n",
      "drwxr-xr-x 6 santini staff   192 Oct 25 20:42 docker\n",
      "\n"
     ]
    }
   ],
   "source": [
    "# fare il parsing del comando come fa la shell\n",
    "\n",
    "print(subprocess.run('ls -l', shell = True, capture_output = True, text = True).stdout)"
   ]
  },
  {
   "cell_type": "code",
   "execution_count": 30,
   "metadata": {},
   "outputs": [
    {
     "data": {
      "text/plain": [
       "'      3      20\\n'"
      ]
     },
     "execution_count": 30,
     "metadata": {},
     "output_type": "execute_result"
    }
   ],
   "source": [
    "angiolieri = \"\"\"S'i fosse fuoco, arderei 'l mondo;\n",
    "s'i fosse vento, lo tempestarei;\n",
    "s'i fosse acqua, i' l'annegherei;\n",
    "\"\"\".replace(\"'\", ' ')\n",
    "\n",
    "subprocess.run('wc -lw', shell = True, input = angiolieri, text = True, capture_output = True).stdout"
   ]
  },
  {
   "cell_type": "markdown",
   "metadata": {},
   "source": [
    "# Aspetti di rete\n",
    "\n",
    "Da [Internet Data Handling](https://docs.python.org/3/library/netdata.html), \n",
    " e [Internet Protocols and Support](https://docs.python.org/3/library/internet.html).\n",
    " \n",
    "## Mandare email"
   ]
  },
  {
   "cell_type": "code",
   "execution_count": 32,
   "metadata": {},
   "outputs": [],
   "source": [
    "# per prova…\n",
    "\n",
    "# lanciare 'python -m smtpd -c DebuggingServer -n localhost:1025' da shell…\n",
    "\n",
    "import smtplib\n",
    "\n",
    "with smtplib.SMTP('localhost', 1025) as server:\n",
    "    server.sendmail('from@me.info', ['to@you.info'], 'Subject: Test\\n\\nHello dear')"
   ]
  },
  {
   "cell_type": "code",
   "execution_count": 33,
   "metadata": {},
   "outputs": [],
   "source": [
    "# Un messaggio html (con fallback testuale)\n",
    "\n",
    "from email.mime.text import MIMEText\n",
    "from email.mime.multipart import MIMEMultipart\n",
    "\n",
    "# testo\n",
    "\n",
    "text = \"\"\"\\\n",
    "Ciao, \n",
    "    quarda che bellissimo sito http://homes.di.unimi.it/santini/pybg/ \n",
    "credo che possa interessarti!\n",
    "\n",
    "A presto,\n",
    "    Massimo\n",
    "\"\"\"\n",
    "part1 = MIMEText(text, 'plain')\n",
    "\n",
    "# html\n",
    "\n",
    "html = \"\"\"\\\n",
    "<html>\n",
    "  <body>\n",
    "    <p>\n",
    "        Ciao,<br/>\n",
    "        quarda che <strong>belissimo</strong> sito <a href=\"http://homes.di.unimi.it/santini/pybg/\">http://homes.di.unimi.it/santini/pybg/</a> credo che possa interessarti!\n",
    "    </p>\n",
    "    <p>\n",
    "        A presto,<br/>\n",
    "        Massimo\n",
    "    </p>\n",
    "  </body>\n",
    "</html>\n",
    "\"\"\"\n",
    "part2 = MIMEText(html, 'html')\n",
    "\n",
    "# preparo il messaggio\n",
    "\n",
    "sender_email = 'massimo.santini@gmail.com'\n",
    "receiver_email = 'massimo.santini@gmail.com'\n",
    "\n",
    "message = MIMEMultipart('alternative')\n",
    "message['Subject'] = 'multipart test'\n",
    "message['From'] = sender_email\n",
    "message['To'] = receiver_email\n",
    "\n",
    "message.attach(part1)\n",
    "message.attach(part2)"
   ]
  },
  {
   "cell_type": "code",
   "execution_count": 34,
   "metadata": {},
   "outputs": [],
   "source": [
    "# invio il messaggio\n",
    "\n",
    "from os import environ\n",
    "import ssl\n",
    "\n",
    "context = ssl.create_default_context()\n",
    "with smtplib.SMTP_SSL('smtp.gmail.com', 465, context = context) as server:\n",
    "    server.login(sender_email, environ['GMAIL_PW'])\n",
    "    server.sendmail(\n",
    "        sender_email, receiver_email, message.as_string()\n",
    "    )"
   ]
  },
  {
   "cell_type": "markdown",
   "metadata": {},
   "source": [
    "## Lavorare con gli IP"
   ]
  },
  {
   "cell_type": "code",
   "execution_count": 36,
   "metadata": {},
   "outputs": [
    {
     "data": {
      "text/plain": [
       "'159.149.130.139'"
      ]
     },
     "execution_count": 36,
     "metadata": {},
     "output_type": "execute_result"
    }
   ],
   "source": [
    "import socket\n",
    "\n",
    "socket.gethostbyname('homes.di.unimi.it')"
   ]
  },
  {
   "cell_type": "code",
   "execution_count": 38,
   "metadata": {},
   "outputs": [
    {
     "data": {
      "text/plain": [
       "IPv4Address('159.149.130.139')"
      ]
     },
     "execution_count": 38,
     "metadata": {},
     "output_type": "execute_result"
    }
   ],
   "source": [
    "import ipaddress\n",
    "\n",
    "addr = ipaddress.ip_address(socket.gethostbyname('homes.di.unimi.it'))\n",
    "addr"
   ]
  },
  {
   "cell_type": "code",
   "execution_count": 44,
   "metadata": {},
   "outputs": [
    {
     "data": {
      "text/plain": [
       "'139.130.149.159.in-addr.arpa'"
      ]
     },
     "execution_count": 44,
     "metadata": {},
     "output_type": "execute_result"
    }
   ],
   "source": [
    "addr.reverse_pointer"
   ]
  },
  {
   "cell_type": "code",
   "execution_count": 47,
   "metadata": {},
   "outputs": [
    {
     "data": {
      "text/plain": [
       "IPv4Network('159.149.130.128/28')"
      ]
     },
     "execution_count": 47,
     "metadata": {},
     "output_type": "execute_result"
    }
   ],
   "source": [
    "netw = ipaddress.ip_network('159.149.130.128/28')\n",
    "netw"
   ]
  },
  {
   "cell_type": "code",
   "execution_count": 56,
   "metadata": {},
   "outputs": [
    {
     "data": {
      "text/plain": [
       "(IPv4Address('159.149.130.128'), IPv4Address('159.149.130.143'))"
      ]
     },
     "execution_count": 56,
     "metadata": {},
     "output_type": "execute_result"
    }
   ],
   "source": [
    "netw.network_address, netw.broadcast_address"
   ]
  },
  {
   "cell_type": "code",
   "execution_count": 58,
   "metadata": {},
   "outputs": [
    {
     "data": {
      "text/plain": [
       "(IPv4Address('0.0.0.15'), IPv4Address('255.255.255.240'))"
      ]
     },
     "execution_count": 58,
     "metadata": {},
     "output_type": "execute_result"
    }
   ],
   "source": [
    "netw.hostmask, netw.netmask"
   ]
  },
  {
   "cell_type": "code",
   "execution_count": 60,
   "metadata": {},
   "outputs": [
    {
     "data": {
      "text/plain": [
       "True"
      ]
     },
     "execution_count": 60,
     "metadata": {},
     "output_type": "execute_result"
    }
   ],
   "source": [
    "addr in netw"
   ]
  },
  {
   "cell_type": "code",
   "execution_count": 61,
   "metadata": {},
   "outputs": [
    {
     "data": {
      "text/plain": [
       "(16,\n",
       " [IPv4Address('159.149.130.129'),\n",
       "  IPv4Address('159.149.130.130'),\n",
       "  IPv4Address('159.149.130.131'),\n",
       "  IPv4Address('159.149.130.132'),\n",
       "  IPv4Address('159.149.130.133'),\n",
       "  IPv4Address('159.149.130.134'),\n",
       "  IPv4Address('159.149.130.135'),\n",
       "  IPv4Address('159.149.130.136'),\n",
       "  IPv4Address('159.149.130.137'),\n",
       "  IPv4Address('159.149.130.138'),\n",
       "  IPv4Address('159.149.130.139'),\n",
       "  IPv4Address('159.149.130.140'),\n",
       "  IPv4Address('159.149.130.141'),\n",
       "  IPv4Address('159.149.130.142')])"
      ]
     },
     "execution_count": 61,
     "metadata": {},
     "output_type": "execute_result"
    }
   ],
   "source": [
    "netw.num_addresses, list(netw.hosts())"
   ]
  },
  {
   "cell_type": "markdown",
   "metadata": {},
   "source": [
    "    \n",
    "# Gestione del software Python\n",
    "\n",
    "Da [Creating Standalone Applications with zipapp](https://docs.python.org/3/library/zipapp.html#creating-standalone-applications-with-zipapp), usando [click](https://click.palletsprojects.com/)."
   ]
  },
  {
   "cell_type": "code",
   "execution_count": 6,
   "metadata": {},
   "outputs": [],
   "source": [
    "! rm -rf greet* && mkdir greet"
   ]
  },
  {
   "cell_type": "code",
   "execution_count": 7,
   "metadata": {},
   "outputs": [
    {
     "name": "stdout",
     "output_type": "stream",
     "text": [
      "Writing greet/greeter.py\n"
     ]
    }
   ],
   "source": [
    "%%writefile greet/greeter.py\n",
    "\n",
    "import click\n",
    "\n",
    "@click.command()\n",
    "@click.option('--count', default=1, help='Number of greetings.')\n",
    "@click.option('--name', prompt='Your name',\n",
    "              help='The person to greet.')\n",
    "def hello(count, name):\n",
    "    for x in range(count):\n",
    "        click.echo(f'Hello {name}!')"
   ]
  },
  {
   "cell_type": "code",
   "execution_count": 8,
   "metadata": {},
   "outputs": [
    {
     "name": "stdout",
     "output_type": "stream",
     "text": [
      "Writing greet/__main__.py\n"
     ]
    }
   ],
   "source": [
    "%%writefile greet/__main__.py\n",
    "\n",
    "from greeter import hello\n",
    "\n",
    "hello()"
   ]
  },
  {
   "cell_type": "code",
   "execution_count": 9,
   "metadata": {},
   "outputs": [
    {
     "name": "stdout",
     "output_type": "stream",
     "text": [
      "Collecting click\n",
      "  Using cached https://files.pythonhosted.org/packages/fa/37/45185cb5abbc30d7257104c434fe0b07e5a195a6847506c074527aa599ec/Click-7.0-py2.py3-none-any.whl\n",
      "Installing collected packages: click\n",
      "Successfully installed click-7.0\n"
     ]
    }
   ],
   "source": [
    "! pip install click --target greet && rm -rf greet/*.dist-info"
   ]
  },
  {
   "cell_type": "code",
   "execution_count": 12,
   "metadata": {},
   "outputs": [
    {
     "name": "stdout",
     "output_type": "stream",
     "text": [
      "__main__.py  click  greeter.py\r\n"
     ]
    }
   ],
   "source": [
    "! ls greet"
   ]
  },
  {
   "cell_type": "code",
   "execution_count": 10,
   "metadata": {},
   "outputs": [],
   "source": [
    "! python -m zipapp -p '/usr/bin/env python3' greet"
   ]
  },
  {
   "cell_type": "code",
   "execution_count": 11,
   "metadata": {},
   "outputs": [
    {
     "name": "stdout",
     "output_type": "stream",
     "text": [
      "Hello Massimo!\r\n",
      "Hello Massimo!\r\n",
      "Hello Massimo!\r\n"
     ]
    }
   ],
   "source": [
    "! ./greet.pyz --name Massimo --count 3"
   ]
  }
 ],
 "metadata": {
  "kernelspec": {
   "display_name": "Python 3",
   "language": "python",
   "name": "python3"
  },
  "language_info": {
   "codemirror_mode": {
    "name": "ipython",
    "version": 3
   },
   "file_extension": ".py",
   "mimetype": "text/x-python",
   "name": "python",
   "nbconvert_exporter": "python",
   "pygments_lexer": "ipython3",
   "version": "3.7.4"
  }
 },
 "nbformat": 4,
 "nbformat_minor": 2
}
