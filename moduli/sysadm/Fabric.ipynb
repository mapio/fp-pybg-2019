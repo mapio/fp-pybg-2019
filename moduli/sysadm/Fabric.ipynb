{
 "cells": [
  {
   "cell_type": "code",
   "execution_count": 3,
   "metadata": {},
   "outputs": [
    {
     "name": "stdout",
     "output_type": "stream",
     "text": [
      " 09:16:50 up 1 day, 10:50,  load average: 0.10, 0.05, 0.01\n",
      " 09:16:50 up 1 day, 10:50,  load average: 0.10, 0.05, 0.01\n",
      " 09:16:51 up 1 day, 10:50,  load average: 0.10, 0.05, 0.01\n",
      " 09:16:51 up 1 day, 10:50,  load average: 0.10, 0.05, 0.01\n"
     ]
    }
   ],
   "source": [
    "! for n in 0 1 2 3; do ssh slave$n uptime; done"
   ]
  },
  {
   "cell_type": "code",
   "execution_count": null,
   "metadata": {},
   "outputs": [],
   "source": []
  }
 ],
 "metadata": {
  "kernelspec": {
   "display_name": "Python 3",
   "language": "python",
   "name": "python3"
  },
  "language_info": {
   "codemirror_mode": {
    "name": "ipython",
    "version": 3
   },
   "file_extension": ".py",
   "mimetype": "text/x-python",
   "name": "python",
   "nbconvert_exporter": "python",
   "pygments_lexer": "ipython3",
   "version": "3.8.0"
  }
 },
 "nbformat": 4,
 "nbformat_minor": 2
}
