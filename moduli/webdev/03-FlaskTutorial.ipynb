{
 "cells": [
  {
   "cell_type": "markdown",
   "metadata": {},
   "source": [
    "# Un esempio più sostanzioso\n",
    "\n",
    "Seguiamo il [Tutorial](https://flask.palletsprojects.com/en/1.1.x/tutorial/) ufficiale…\n",
    "\n",
    "Per prima cosa, reperiamo i sorgenti da GitHub"
   ]
  },
  {
   "cell_type": "code",
   "execution_count": 1,
   "metadata": {},
   "outputs": [],
   "source": [
    "! rm -rf flaskr && mkdir -p flaskr && \\\n",
    "    curl -sL https://github.com/pallets/flask/archive/master.tar.gz \\\n",
    "       | tar -C ./flaskr --strip 3 --wildcards -zxf - '*/examples/tutorial'"
   ]
  },
  {
   "cell_type": "markdown",
   "metadata": {},
   "source": [
    "… e poi apriamo un editor, che da Jupyter è troppo intricato!"
   ]
  },
  {
   "cell_type": "code",
   "execution_count": 2,
   "metadata": {},
   "outputs": [],
   "source": [
    "! code flaskr"
   ]
  },
  {
   "cell_type": "code",
   "execution_count": null,
   "metadata": {},
   "outputs": [],
   "source": []
  }
 ],
 "metadata": {
  "kernelspec": {
   "display_name": "Python 3",
   "language": "python",
   "name": "python3"
  },
  "language_info": {
   "codemirror_mode": {
    "name": "ipython",
    "version": 3
   },
   "file_extension": ".py",
   "mimetype": "text/x-python",
   "name": "python",
   "nbconvert_exporter": "python",
   "pygments_lexer": "ipython3",
   "version": "3.7.4"
  }
 },
 "nbformat": 4,
 "nbformat_minor": 2
}
