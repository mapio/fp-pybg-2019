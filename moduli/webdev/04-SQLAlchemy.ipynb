{
 "cells": [
  {
   "cell_type": "markdown",
   "metadata": {},
   "source": [
    "# Un ORM\n",
    "\n",
    "Il più diffuso è [SQLAlchemy](https://docs.sqlalchemy.org/)"
   ]
  },
  {
   "cell_type": "code",
   "execution_count": 1,
   "metadata": {},
   "outputs": [],
   "source": [
    "from sqlalchemy import create_engine\n",
    "\n",
    "engine = create_engine('sqlite:///:memory:', echo = True)"
   ]
  },
  {
   "cell_type": "code",
   "execution_count": 2,
   "metadata": {},
   "outputs": [],
   "source": [
    "from sqlalchemy.ext.declarative import declarative_base\n",
    "\n",
    "Base = declarative_base()"
   ]
  },
  {
   "cell_type": "code",
   "execution_count": 3,
   "metadata": {},
   "outputs": [],
   "source": [
    "from sqlalchemy import Column, Integer, String, Sequence\n",
    "\n",
    "class User(Base):\n",
    "    __tablename__ = 'user'\n",
    "\n",
    "    id = Column(Integer, Sequence('user_id_seq'), primary_key = True)\n",
    "    username = Column(String)\n",
    "    password = Column(String)\n",
    "    \n",
    "    def __repr__(self):\n",
    "        return f'<User: {self.username}>'"
   ]
  },
  {
   "cell_type": "code",
   "execution_count": 4,
   "metadata": {},
   "outputs": [
    {
     "name": "stdout",
     "output_type": "stream",
     "text": [
      "2019-10-28 22:36:59,997 INFO sqlalchemy.engine.base.Engine SELECT CAST('test plain returns' AS VARCHAR(60)) AS anon_1\n",
      "2019-10-28 22:36:59,998 INFO sqlalchemy.engine.base.Engine ()\n",
      "2019-10-28 22:37:00,000 INFO sqlalchemy.engine.base.Engine SELECT CAST('test unicode returns' AS VARCHAR(60)) AS anon_1\n",
      "2019-10-28 22:37:00,001 INFO sqlalchemy.engine.base.Engine ()\n",
      "2019-10-28 22:37:00,003 INFO sqlalchemy.engine.base.Engine PRAGMA main.table_info(\"user\")\n",
      "2019-10-28 22:37:00,004 INFO sqlalchemy.engine.base.Engine ()\n",
      "2019-10-28 22:37:00,005 INFO sqlalchemy.engine.base.Engine PRAGMA temp.table_info(\"user\")\n",
      "2019-10-28 22:37:00,006 INFO sqlalchemy.engine.base.Engine ()\n",
      "2019-10-28 22:37:00,008 INFO sqlalchemy.engine.base.Engine \n",
      "CREATE TABLE user (\n",
      "\tid INTEGER NOT NULL, \n",
      "\tusername VARCHAR, \n",
      "\tpassword VARCHAR, \n",
      "\tPRIMARY KEY (id)\n",
      ")\n",
      "\n",
      "\n",
      "2019-10-28 22:37:00,009 INFO sqlalchemy.engine.base.Engine ()\n",
      "2019-10-28 22:37:00,011 INFO sqlalchemy.engine.base.Engine COMMIT\n"
     ]
    }
   ],
   "source": [
    "Base.metadata.create_all(engine)"
   ]
  },
  {
   "cell_type": "code",
   "execution_count": 5,
   "metadata": {},
   "outputs": [],
   "source": [
    "example_user = User()"
   ]
  },
  {
   "cell_type": "code",
   "execution_count": 6,
   "metadata": {},
   "outputs": [
    {
     "data": {
      "text/plain": [
       "<User: Mapio>"
      ]
     },
     "execution_count": 6,
     "metadata": {},
     "output_type": "execute_result"
    }
   ],
   "source": [
    "example_user.username = 'Mapio'\n",
    "example_user.password = 'mypw'\n",
    "\n",
    "example_user"
   ]
  },
  {
   "cell_type": "code",
   "execution_count": 7,
   "metadata": {},
   "outputs": [],
   "source": [
    "from sqlalchemy.orm import sessionmaker\n",
    "\n",
    "Session = sessionmaker(bind = engine)\n",
    "session =  Session()"
   ]
  },
  {
   "cell_type": "code",
   "execution_count": 8,
   "metadata": {},
   "outputs": [],
   "source": [
    "session.add(example_user)"
   ]
  },
  {
   "cell_type": "code",
   "execution_count": 9,
   "metadata": {},
   "outputs": [],
   "source": [
    "session.add_all([\n",
    "    User(username = 'Mickey', password = 'm0us3'),\n",
    "    User(username = 'Donald', password = 'dukk')\n",
    "])"
   ]
  },
  {
   "cell_type": "code",
   "execution_count": 10,
   "metadata": {},
   "outputs": [
    {
     "name": "stdout",
     "output_type": "stream",
     "text": [
      "2019-10-28 22:37:00,094 INFO sqlalchemy.engine.base.Engine BEGIN (implicit)\n",
      "2019-10-28 22:37:00,097 INFO sqlalchemy.engine.base.Engine INSERT INTO user (username, password) VALUES (?, ?)\n",
      "2019-10-28 22:37:00,101 INFO sqlalchemy.engine.base.Engine ('Mapio', 'mypw')\n",
      "2019-10-28 22:37:00,103 INFO sqlalchemy.engine.base.Engine INSERT INTO user (username, password) VALUES (?, ?)\n",
      "2019-10-28 22:37:00,105 INFO sqlalchemy.engine.base.Engine ('Mickey', 'm0us3')\n",
      "2019-10-28 22:37:00,107 INFO sqlalchemy.engine.base.Engine INSERT INTO user (username, password) VALUES (?, ?)\n",
      "2019-10-28 22:37:00,109 INFO sqlalchemy.engine.base.Engine ('Donald', 'dukk')\n",
      "2019-10-28 22:37:00,111 INFO sqlalchemy.engine.base.Engine COMMIT\n"
     ]
    }
   ],
   "source": [
    "session.commit()"
   ]
  },
  {
   "cell_type": "code",
   "execution_count": 11,
   "metadata": {},
   "outputs": [
    {
     "name": "stdout",
     "output_type": "stream",
     "text": [
      "2019-10-28 22:37:00,122 INFO sqlalchemy.engine.base.Engine BEGIN (implicit)\n",
      "2019-10-28 22:37:00,125 INFO sqlalchemy.engine.base.Engine SELECT user.id AS user_id, user.username AS user_username, user.password AS user_password \n",
      "FROM user ORDER BY user.username\n",
      "2019-10-28 22:37:00,128 INFO sqlalchemy.engine.base.Engine ()\n"
     ]
    },
    {
     "data": {
      "text/plain": [
       "[<User: Donald>, <User: Mapio>, <User: Mickey>]"
      ]
     },
     "execution_count": 11,
     "metadata": {},
     "output_type": "execute_result"
    }
   ],
   "source": [
    "session.query(User).order_by(User.username).all()"
   ]
  },
  {
   "cell_type": "code",
   "execution_count": 12,
   "metadata": {},
   "outputs": [
    {
     "name": "stdout",
     "output_type": "stream",
     "text": [
      "2019-10-28 22:37:00,143 INFO sqlalchemy.engine.base.Engine SELECT user.id AS user_id, user.username AS user_username, user.password AS user_password \n",
      "FROM user \n",
      "WHERE user.username = ?\n",
      " LIMIT ? OFFSET ?\n",
      "2019-10-28 22:37:00,145 INFO sqlalchemy.engine.base.Engine ('Donald', 1, 0)\n"
     ]
    },
    {
     "data": {
      "text/plain": [
       "<User: Donald>"
      ]
     },
     "execution_count": 12,
     "metadata": {},
     "output_type": "execute_result"
    }
   ],
   "source": [
    "session.query(User).filter_by(username = 'Donald').first()"
   ]
  },
  {
   "cell_type": "code",
   "execution_count": 13,
   "metadata": {
    "scrolled": false
   },
   "outputs": [],
   "source": [
    "from sqlalchemy import Text, DateTime, ForeignKey\n",
    "from sqlalchemy.orm import relationship\n",
    "from sqlalchemy.sql import func\n",
    "\n",
    "class Post(Base):\n",
    "    __tablename__ = 'post'\n",
    "\n",
    "    id = Column(Integer, Sequence('user_id_seq'), primary_key = True)\n",
    "    title = Column(String)\n",
    "    created = Column(DateTime, server_default = func.now())\n",
    "    body = Column(Text)\n",
    "\n",
    "    author_id = Column(Integer, ForeignKey('user.id'))\n",
    "    user = relationship(\"User\", back_populates = 'posts')\n",
    "\n",
    "    def __repr__(self):\n",
    "        return f'<Post: {self.title}>'\n",
    "    \n",
    "User.posts = relationship('Post', order_by = Post.id, back_populates = 'user')"
   ]
  },
  {
   "cell_type": "code",
   "execution_count": 14,
   "metadata": {},
   "outputs": [
    {
     "name": "stdout",
     "output_type": "stream",
     "text": [
      "2019-10-28 22:37:00,173 INFO sqlalchemy.engine.base.Engine PRAGMA main.table_info(\"user\")\n",
      "2019-10-28 22:37:00,175 INFO sqlalchemy.engine.base.Engine ()\n",
      "2019-10-28 22:37:00,177 INFO sqlalchemy.engine.base.Engine PRAGMA main.table_info(\"post\")\n",
      "2019-10-28 22:37:00,177 INFO sqlalchemy.engine.base.Engine ()\n",
      "2019-10-28 22:37:00,179 INFO sqlalchemy.engine.base.Engine PRAGMA temp.table_info(\"post\")\n",
      "2019-10-28 22:37:00,181 INFO sqlalchemy.engine.base.Engine ()\n",
      "2019-10-28 22:37:00,182 INFO sqlalchemy.engine.base.Engine \n",
      "CREATE TABLE post (\n",
      "\tid INTEGER NOT NULL, \n",
      "\ttitle VARCHAR, \n",
      "\tcreated DATETIME DEFAULT (CURRENT_TIMESTAMP), \n",
      "\tbody TEXT, \n",
      "\tauthor_id INTEGER, \n",
      "\tPRIMARY KEY (id), \n",
      "\tFOREIGN KEY(author_id) REFERENCES user (id)\n",
      ")\n",
      "\n",
      "\n",
      "2019-10-28 22:37:00,184 INFO sqlalchemy.engine.base.Engine ()\n",
      "2019-10-28 22:37:00,185 INFO sqlalchemy.engine.base.Engine COMMIT\n"
     ]
    }
   ],
   "source": [
    "Base.metadata.create_all(engine)"
   ]
  },
  {
   "cell_type": "code",
   "execution_count": null,
   "metadata": {},
   "outputs": [],
   "source": [
    "CREATE TABLE user (\n",
    "  id INTEGER PRIMARY KEY AUTOINCREMENT,\n",
    "  username TEXT UNIQUE NOT NULL,\n",
    "  password TEXT NOT NULL\n",
    ");\n",
    "\n",
    "CREATE TABLE post (\n",
    "  id INTEGER PRIMARY KEY AUTOINCREMENT,\n",
    "  author_id INTEGER NOT NULL,\n",
    "  created TIMESTAMP NOT NULL DEFAULT CURRENT_TIMESTAMP,\n",
    "  title TEXT NOT NULL,\n",
    "  body TEXT NOT NULL,\n",
    "  FOREIGN KEY (author_id) REFERENCES user (id)\n",
    ");\n"
   ]
  },
  {
   "cell_type": "code",
   "execution_count": 15,
   "metadata": {
    "scrolled": false
   },
   "outputs": [],
   "source": [
    "example_post = Post()"
   ]
  },
  {
   "cell_type": "code",
   "execution_count": 16,
   "metadata": {},
   "outputs": [],
   "source": [
    "example_post.title = 'This is new!'\n",
    "example_post.body = \"\"\"\\\n",
    "Now this is a very\n",
    "interesting story…\n",
    "\"\"\"\n",
    "example_post.user = example_user"
   ]
  },
  {
   "cell_type": "code",
   "execution_count": 17,
   "metadata": {},
   "outputs": [
    {
     "name": "stdout",
     "output_type": "stream",
     "text": [
      "2019-10-28 22:38:08,956 INFO sqlalchemy.engine.base.Engine INSERT INTO post (title, body, author_id) VALUES (?, ?, ?)\n",
      "2019-10-28 22:38:08,957 INFO sqlalchemy.engine.base.Engine ('This is new!', 'Now this is a very\\ninteresting story…\\n', 1)\n",
      "2019-10-28 22:38:08,960 INFO sqlalchemy.engine.base.Engine COMMIT\n"
     ]
    }
   ],
   "source": [
    "session.add(example_post)\n",
    "session.commit()"
   ]
  },
  {
   "cell_type": "code",
   "execution_count": 18,
   "metadata": {},
   "outputs": [
    {
     "data": {
      "text/plain": [
       "[<Post: This is new!>]"
      ]
     },
     "execution_count": 18,
     "metadata": {},
     "output_type": "execute_result"
    }
   ],
   "source": [
    "example_user.posts"
   ]
  },
  {
   "cell_type": "code",
   "execution_count": 30,
   "metadata": {},
   "outputs": [
    {
     "name": "stdout",
     "output_type": "stream",
     "text": [
      "2019-10-28 22:46:57,776 INFO sqlalchemy.engine.base.Engine select * from user\n",
      "2019-10-28 22:46:57,777 INFO sqlalchemy.engine.base.Engine ()\n",
      "2019-10-28 22:46:57,778 INFO sqlalchemy.engine.base.Engine select * from post\n",
      "2019-10-28 22:46:57,779 INFO sqlalchemy.engine.base.Engine ()\n"
     ]
    },
    {
     "data": {
      "text/plain": [
       "[(1, 'This is new!', '2019-10-28 21:38:08', 'Now this is a very\\ninteresting story…\\n', 1)]"
      ]
     },
     "execution_count": 30,
     "metadata": {},
     "output_type": "execute_result"
    }
   ],
   "source": [
    "list(engine.execute('select * from user'))\n",
    "list(engine.execute('select * from post'))"
   ]
  },
  {
   "cell_type": "code",
   "execution_count": null,
   "metadata": {},
   "outputs": [],
   "source": []
  }
 ],
 "metadata": {
  "kernelspec": {
   "display_name": "Python 3",
   "language": "python",
   "name": "python3"
  },
  "language_info": {
   "codemirror_mode": {
    "name": "ipython",
    "version": 3
   },
   "file_extension": ".py",
   "mimetype": "text/x-python",
   "name": "python",
   "nbconvert_exporter": "python",
   "pygments_lexer": "ipython3",
   "version": "3.7.4"
  }
 },
 "nbformat": 4,
 "nbformat_minor": 2
}
