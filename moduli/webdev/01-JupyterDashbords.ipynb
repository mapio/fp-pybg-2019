{
 "cells": [
  {
   "cell_type": "markdown",
   "metadata": {},
   "source": [
    "# Widgets"
   ]
  },
  {
   "cell_type": "code",
   "execution_count": 1,
   "metadata": {},
   "outputs": [
    {
     "data": {
      "application/vnd.jupyter.widget-view+json": {
       "model_id": "3fb17ba8c4b043e5862928631cd28c53",
       "version_major": 2,
       "version_minor": 0
      },
      "text/plain": [
       "interactive(children=(IntSlider(value=5, description='x', max=10, min=1), IntSlider(value=2, description='y', …"
      ]
     },
     "metadata": {},
     "output_type": "display_data"
    }
   ],
   "source": [
    "from ipywidgets import interact, fixed\n",
    "\n",
    "@interact(x = (1, 10), y = (1, 4))\n",
    "def sum(x, y):\n",
    "    return x + y"
   ]
  },
  {
   "cell_type": "code",
   "execution_count": 2,
   "metadata": {},
   "outputs": [
    {
     "data": {
      "application/vnd.jupyter.widget-view+json": {
       "model_id": "0f8b6222afe34f44926b7a06280e4e85",
       "version_major": 2,
       "version_minor": 0
      },
      "text/plain": [
       "interactive(children=(IntSlider(value=5, description='x', max=10, min=1), Output()), _dom_classes=('widget-int…"
      ]
     },
     "metadata": {},
     "output_type": "display_data"
    }
   ],
   "source": [
    "@interact(x = (1, 10), y = fixed(3))\n",
    "def sum(x, y):\n",
    "    return x + y"
   ]
  },
  {
   "cell_type": "code",
   "execution_count": 3,
   "metadata": {},
   "outputs": [
    {
     "data": {
      "application/vnd.jupyter.widget-view+json": {
       "model_id": "eb8076ba3f3840929f8c035671877281",
       "version_major": 2,
       "version_minor": 0
      },
      "text/plain": [
       "HBox(children=(IntSlider(value=1, max=10, min=1), IntSlider(value=2, max=4, min=2), Output()))"
      ]
     },
     "metadata": {},
     "output_type": "display_data"
    }
   ],
   "source": [
    "from ipywidgets import widgets \n",
    "\n",
    "def prod(x, y):\n",
    "    display(x * y)\n",
    "\n",
    "x = widgets.IntSlider(min = 1, max = 10)\n",
    "y = widgets.IntSlider(min = 2, max = 4)\n",
    "\n",
    "out = widgets.interactive_output(prod, {'x': x, 'y': y})\n",
    "\n",
    "widgets.HBox([x, y, out])"
   ]
  },
  {
   "cell_type": "code",
   "execution_count": 4,
   "metadata": {
    "scrolled": true
   },
   "outputs": [
    {
     "data": {
      "application/vnd.jupyter.widget-view+json": {
       "model_id": "20429219db634501b4e199308f27a457",
       "version_major": 2,
       "version_minor": 0
      },
      "text/plain": [
       "Dropdown(description=\"Fascia d'età:\", options=('Minorenne', 'Maggiorenne'), value='Minorenne')"
      ]
     },
     "metadata": {},
     "output_type": "display_data"
    },
    {
     "data": {
      "application/vnd.jupyter.widget-view+json": {
       "model_id": "8b6bdf3d267b44538b814dc4cd75fe69",
       "version_major": 2,
       "version_minor": 0
      },
      "text/plain": [
       "IntRangeSlider(value=(3, 6), description='Anni:', max=17)"
      ]
     },
     "metadata": {},
     "output_type": "display_data"
    }
   ],
   "source": [
    "from ipywidgets import interact\n",
    "\n",
    "fascia = widgets.Dropdown(description = \"Fascia d'età:\", options = ['Minorenne', 'Maggiorenne'])\n",
    "\n",
    "eta = widgets.IntRangeSlider(\n",
    "    value = [3, 6],\n",
    "    min = 0,\n",
    "    max = 17,\n",
    "    step = 1,\n",
    "    description = 'Anni:',\n",
    "    readout = True,\n",
    ")\n",
    "\n",
    "def update_range(*args):\n",
    "    if fascia.value == 'Minorenne':\n",
    "        eta.min = 0\n",
    "        eta.max = 17\n",
    "        eta.value = [3, 6]\n",
    "    else:\n",
    "        eta.max = 100\n",
    "        eta.min = 18\n",
    "        eta.value = [40, 60]\n",
    "    \n",
    "fascia.observe(update_range, 'value')\n",
    "\n",
    "display(fascia, eta)"
   ]
  },
  {
   "cell_type": "code",
   "execution_count": 8,
   "metadata": {},
   "outputs": [
    {
     "data": {
      "application/vnd.jupyter.widget-view+json": {
       "model_id": "93c12340738841a4bf58b3410975a5b0",
       "version_major": 2,
       "version_minor": 0
      },
      "text/plain": [
       "interactive(children=(FloatSlider(value=1.0, continuous_update=False, description='a', max=2.0), Output()), _d…"
      ]
     },
     "metadata": {},
     "output_type": "display_data"
    }
   ],
   "source": [
    "%matplotlib inline\n",
    "\n",
    "from ipywidgets import interactive\n",
    "\n",
    "import numpy as np\n",
    "import matplotlib.pylab as plt\n",
    "\n",
    "x = np.linspace(-2, 2, num = 500)\n",
    "\n",
    "def parabola(a):\n",
    "    plt.figure(2)\n",
    "    plt.plot(x, a * x ** 2)\n",
    "    plt.ylim(-.1, 4.5)\n",
    "    plt.show()\n",
    "\n",
    "a = widgets.FloatSlider(\n",
    "    min = 0, \n",
    "    max = 2, \n",
    "    value = 1, \n",
    "    continuous_update = False\n",
    ")\n",
    "\n",
    "interactive_plot = interactive(parabola, a = a)\n",
    "output = interactive_plot.children[-1]\n",
    "#output.layout.height = '350px'\n",
    "interactive_plot"
   ]
  },
  {
   "cell_type": "markdown",
   "metadata": {},
   "source": [
    "## Da qui?\n",
    "\n",
    "Ci sono molti widget, vedi [Widget List](https://ipywidgets.readthedocs.io/en/latest/examples/Widget%20List.html), la cui apparenza può essere sistemata in modo molto accurato.\n",
    "vedi [Using Layout Templates](https://ipywidgets.readthedocs.io/en/latest/examples/Layout%20Templates.html).\n",
    "\n",
    "Una volta preparato un notebook con la forma desiderata, si può usare [voilà](https://voila.readthedocs.io/) per far \"saparire\" il notebook, come negli esempi della [voilà gallery](https://voila-gallery.org/services/gallery/)."
   ]
  }
 ],
 "metadata": {
  "kernelspec": {
   "display_name": "Python 3",
   "language": "python",
   "name": "python3"
  },
  "language_info": {
   "codemirror_mode": {
    "name": "ipython",
    "version": 3
   },
   "file_extension": ".py",
   "mimetype": "text/x-python",
   "name": "python",
   "nbconvert_exporter": "python",
   "pygments_lexer": "ipython3",
   "version": "3.7.4"
  },
  "widgets": {
   "application/vnd.jupyter.widget-state+json": {
    "state": {
     "009bcdb930d745658823f71b10c6dec0": {
      "model_module": "@jupyter-widgets/base",
      "model_module_version": "1.2.0",
      "model_name": "LayoutModel",
      "state": {}
     },
     "14d6552f686c453e880c23784af17cf2": {
      "model_module": "@jupyter-widgets/controls",
      "model_module_version": "1.5.0",
      "model_name": "DropdownModel",
      "state": {
       "_options_labels": [
        "Minorenne",
        "Maggiorenne"
       ],
       "description": "Fascia d'età:",
       "index": 0,
       "layout": "IPY_MODEL_bbaa3e6ca4634a10b6cd245f25a7c2ff",
       "style": "IPY_MODEL_21118e59c53b47d795a2446419a64965"
      }
     },
     "1e743328cb084315aa50d55dd2d9a597": {
      "model_module": "@jupyter-widgets/base",
      "model_module_version": "1.2.0",
      "model_name": "LayoutModel",
      "state": {}
     },
     "21118e59c53b47d795a2446419a64965": {
      "model_module": "@jupyter-widgets/controls",
      "model_module_version": "1.5.0",
      "model_name": "DescriptionStyleModel",
      "state": {
       "description_width": ""
      }
     },
     "246d2f79b3d64ade9b87b1b3da04df37": {
      "model_module": "@jupyter-widgets/controls",
      "model_module_version": "1.5.0",
      "model_name": "SliderStyleModel",
      "state": {
       "description_width": ""
      }
     },
     "276f569c14dc4aba9a1e5a4643040a1d": {
      "model_module": "@jupyter-widgets/base",
      "model_module_version": "1.2.0",
      "model_name": "LayoutModel",
      "state": {}
     },
     "2965ba81f9644e468a494bb937b29d60": {
      "model_module": "@jupyter-widgets/output",
      "model_module_version": "1.0.0",
      "model_name": "OutputModel",
      "state": {
       "layout": "IPY_MODEL_cd2ef0347b0e45269e9c9f273dec8e52",
       "outputs": [
        {
         "data": {
          "text/plain": "8"
         },
         "metadata": {},
         "output_type": "display_data"
        }
       ]
      }
     },
     "2e589b12a80540f89bc43cff2b0a077a": {
      "model_module": "@jupyter-widgets/controls",
      "model_module_version": "1.5.0",
      "model_name": "SliderStyleModel",
      "state": {
       "description_width": ""
      }
     },
     "31f842cad568408597da0b4e67811a29": {
      "model_module": "@jupyter-widgets/base",
      "model_module_version": "1.2.0",
      "model_name": "LayoutModel",
      "state": {}
     },
     "352fbcc6f51c4252b0ab1a6bd9754473": {
      "model_module": "@jupyter-widgets/controls",
      "model_module_version": "1.5.0",
      "model_name": "SliderStyleModel",
      "state": {
       "description_width": ""
      }
     },
     "359b4f70f7a54135ae707fc04f885a54": {
      "model_module": "@jupyter-widgets/controls",
      "model_module_version": "1.5.0",
      "model_name": "IntSliderModel",
      "state": {
       "layout": "IPY_MODEL_f3918ba7b9124b92af13f9bddc1fe739",
       "max": 4,
       "min": 2,
       "style": "IPY_MODEL_246d2f79b3d64ade9b87b1b3da04df37",
       "value": 2
      }
     },
     "3b9e9dee3a744116bcb24268a84e3ace": {
      "model_module": "@jupyter-widgets/controls",
      "model_module_version": "1.5.0",
      "model_name": "IntSliderModel",
      "state": {
       "layout": "IPY_MODEL_276f569c14dc4aba9a1e5a4643040a1d",
       "max": 10,
       "min": 1,
       "style": "IPY_MODEL_72a9f4cd8e9f49c3b475649b7191984a",
       "value": 1
      }
     },
     "3f66f24e31b74f90ba03cf523c1c6f38": {
      "model_module": "@jupyter-widgets/base",
      "model_module_version": "1.2.0",
      "model_name": "LayoutModel",
      "state": {}
     },
     "48c0085859714f90bfea57a3d392c3fe": {
      "model_module": "@jupyter-widgets/controls",
      "model_module_version": "1.5.0",
      "model_name": "IntSliderModel",
      "state": {
       "description": "x",
       "layout": "IPY_MODEL_eed3f35476b04b4ca68f5d810c596370",
       "max": 10,
       "min": 1,
       "style": "IPY_MODEL_2e589b12a80540f89bc43cff2b0a077a",
       "value": 5
      }
     },
     "50bf5ff604914cbe94ec193277cba94c": {
      "model_module": "@jupyter-widgets/controls",
      "model_module_version": "1.5.0",
      "model_name": "HBoxModel",
      "state": {
       "children": [
        "IPY_MODEL_3b9e9dee3a744116bcb24268a84e3ace",
        "IPY_MODEL_359b4f70f7a54135ae707fc04f885a54",
        "IPY_MODEL_b62bf19fa9784ffca1270942e1e73f5c"
       ],
       "layout": "IPY_MODEL_1e743328cb084315aa50d55dd2d9a597"
      }
     },
     "5920ff6270ef4f029d3b2e2839916957": {
      "model_module": "@jupyter-widgets/base",
      "model_module_version": "1.2.0",
      "model_name": "LayoutModel",
      "state": {}
     },
     "6068b06b4abc4a70804189c5448b2b8a": {
      "model_module": "@jupyter-widgets/controls",
      "model_module_version": "1.5.0",
      "model_name": "SliderStyleModel",
      "state": {
       "description_width": ""
      }
     },
     "72a9f4cd8e9f49c3b475649b7191984a": {
      "model_module": "@jupyter-widgets/controls",
      "model_module_version": "1.5.0",
      "model_name": "SliderStyleModel",
      "state": {
       "description_width": ""
      }
     },
     "76a6e3bb704b40feafaba885e9b0473a": {
      "model_module": "@jupyter-widgets/base",
      "model_module_version": "1.2.0",
      "model_name": "LayoutModel",
      "state": {}
     },
     "78af860443864c1397a1bbe937ebdad3": {
      "model_module": "@jupyter-widgets/controls",
      "model_module_version": "1.5.0",
      "model_name": "VBoxModel",
      "state": {
       "_dom_classes": [
        "widget-interact"
       ],
       "children": [
        "IPY_MODEL_48c0085859714f90bfea57a3d392c3fe",
        "IPY_MODEL_2965ba81f9644e468a494bb937b29d60"
       ],
       "layout": "IPY_MODEL_009bcdb930d745658823f71b10c6dec0"
      }
     },
     "7a26baea93a740eca2ebc5d3991686cf": {
      "model_module": "@jupyter-widgets/output",
      "model_module_version": "1.0.0",
      "model_name": "OutputModel",
      "state": {
       "layout": "IPY_MODEL_8e71af77a43343fd946d7ff3be52fa76",
       "outputs": [
        {
         "data": {
          "text/plain": "7"
         },
         "metadata": {},
         "output_type": "display_data"
        }
       ]
      }
     },
     "7f9ba6bc1f1340a88f4c3590379d7991": {
      "model_module": "@jupyter-widgets/output",
      "model_module_version": "1.0.0",
      "model_name": "OutputModel",
      "state": {
       "layout": "IPY_MODEL_b3771be5986044d4bfa813a3a061da66",
       "outputs": [
        {
         "data": {
          "image/png": "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\n",
          "text/plain": "<Figure size 432x288 with 1 Axes>"
         },
         "metadata": {
          "needs_background": "light"
         },
         "output_type": "display_data"
        }
       ]
      }
     },
     "83c613eb79624786beaaef23bf24eddc": {
      "model_module": "@jupyter-widgets/controls",
      "model_module_version": "1.5.0",
      "model_name": "VBoxModel",
      "state": {
       "_dom_classes": [
        "widget-interact"
       ],
       "children": [
        "IPY_MODEL_c027413046774147bf2541967450c4eb",
        "IPY_MODEL_ee5f1ee00d514823862c86093ea07b8d",
        "IPY_MODEL_7a26baea93a740eca2ebc5d3991686cf"
       ],
       "layout": "IPY_MODEL_cc1d31382312468b9e26066aff5f631e"
      }
     },
     "88663d6f58ae4101bdfdbb73d23bd552": {
      "model_module": "@jupyter-widgets/base",
      "model_module_version": "1.2.0",
      "model_name": "LayoutModel",
      "state": {}
     },
     "8e71af77a43343fd946d7ff3be52fa76": {
      "model_module": "@jupyter-widgets/base",
      "model_module_version": "1.2.0",
      "model_name": "LayoutModel",
      "state": {}
     },
     "98cabe59e88c4b18ab88edd7d8aabf7d": {
      "model_module": "@jupyter-widgets/base",
      "model_module_version": "1.2.0",
      "model_name": "LayoutModel",
      "state": {}
     },
     "9e5329551f224998aca7f73ca9d8769f": {
      "model_module": "@jupyter-widgets/controls",
      "model_module_version": "1.5.0",
      "model_name": "SliderStyleModel",
      "state": {
       "description_width": ""
      }
     },
     "b3771be5986044d4bfa813a3a061da66": {
      "model_module": "@jupyter-widgets/base",
      "model_module_version": "1.2.0",
      "model_name": "LayoutModel",
      "state": {}
     },
     "b62bf19fa9784ffca1270942e1e73f5c": {
      "model_module": "@jupyter-widgets/output",
      "model_module_version": "1.0.0",
      "model_name": "OutputModel",
      "state": {
       "layout": "IPY_MODEL_31f842cad568408597da0b4e67811a29",
       "outputs": [
        {
         "data": {
          "text/plain": "2"
         },
         "metadata": {},
         "output_type": "display_data"
        }
       ]
      }
     },
     "bbaa3e6ca4634a10b6cd245f25a7c2ff": {
      "model_module": "@jupyter-widgets/base",
      "model_module_version": "1.2.0",
      "model_name": "LayoutModel",
      "state": {}
     },
     "c027413046774147bf2541967450c4eb": {
      "model_module": "@jupyter-widgets/controls",
      "model_module_version": "1.5.0",
      "model_name": "IntSliderModel",
      "state": {
       "description": "x",
       "layout": "IPY_MODEL_5920ff6270ef4f029d3b2e2839916957",
       "max": 10,
       "min": 1,
       "style": "IPY_MODEL_6068b06b4abc4a70804189c5448b2b8a",
       "value": 5
      }
     },
     "c884082885c14b64965e59455c3c0457": {
      "model_module": "@jupyter-widgets/controls",
      "model_module_version": "1.5.0",
      "model_name": "IntRangeSliderModel",
      "state": {
       "_model_name": "IntRangeSliderModel",
       "_view_name": "IntRangeSliderView",
       "description": "Anni:",
       "layout": "IPY_MODEL_3f66f24e31b74f90ba03cf523c1c6f38",
       "max": 17,
       "style": "IPY_MODEL_352fbcc6f51c4252b0ab1a6bd9754473",
       "value": [
        3,
        6
       ]
      }
     },
     "cc1d31382312468b9e26066aff5f631e": {
      "model_module": "@jupyter-widgets/base",
      "model_module_version": "1.2.0",
      "model_name": "LayoutModel",
      "state": {}
     },
     "cd2ef0347b0e45269e9c9f273dec8e52": {
      "model_module": "@jupyter-widgets/base",
      "model_module_version": "1.2.0",
      "model_name": "LayoutModel",
      "state": {}
     },
     "d8d607724e6b49b5b51b0dce9494f61a": {
      "model_module": "@jupyter-widgets/controls",
      "model_module_version": "1.5.0",
      "model_name": "VBoxModel",
      "state": {
       "_dom_classes": [
        "widget-interact"
       ],
       "children": [
        "IPY_MODEL_ec6bdc42463a49139c80702095fb5949",
        "IPY_MODEL_7f9ba6bc1f1340a88f4c3590379d7991"
       ],
       "layout": "IPY_MODEL_88663d6f58ae4101bdfdbb73d23bd552"
      }
     },
     "ec6bdc42463a49139c80702095fb5949": {
      "model_module": "@jupyter-widgets/controls",
      "model_module_version": "1.5.0",
      "model_name": "FloatSliderModel",
      "state": {
       "continuous_update": false,
       "description": "a",
       "layout": "IPY_MODEL_76a6e3bb704b40feafaba885e9b0473a",
       "max": 2,
       "step": 0.1,
       "style": "IPY_MODEL_9e5329551f224998aca7f73ca9d8769f",
       "value": 1
      }
     },
     "ee5f1ee00d514823862c86093ea07b8d": {
      "model_module": "@jupyter-widgets/controls",
      "model_module_version": "1.5.0",
      "model_name": "IntSliderModel",
      "state": {
       "description": "y",
       "layout": "IPY_MODEL_98cabe59e88c4b18ab88edd7d8aabf7d",
       "max": 4,
       "min": 1,
       "style": "IPY_MODEL_fa141fb863684b0b8c0296ef8c25dfa1",
       "value": 2
      }
     },
     "eed3f35476b04b4ca68f5d810c596370": {
      "model_module": "@jupyter-widgets/base",
      "model_module_version": "1.2.0",
      "model_name": "LayoutModel",
      "state": {}
     },
     "f3918ba7b9124b92af13f9bddc1fe739": {
      "model_module": "@jupyter-widgets/base",
      "model_module_version": "1.2.0",
      "model_name": "LayoutModel",
      "state": {}
     },
     "fa141fb863684b0b8c0296ef8c25dfa1": {
      "model_module": "@jupyter-widgets/controls",
      "model_module_version": "1.5.0",
      "model_name": "SliderStyleModel",
      "state": {
       "description_width": ""
      }
     }
    },
    "version_major": 2,
    "version_minor": 0
   }
  }
 },
 "nbformat": 4,
 "nbformat_minor": 2
}
