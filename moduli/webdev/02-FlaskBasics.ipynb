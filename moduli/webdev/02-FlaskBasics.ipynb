{
 "cells": [
  {
   "cell_type": "code",
   "execution_count": 1,
   "metadata": {},
   "outputs": [],
   "source": [
    "%%bash\n",
    "\n",
    "./clean.sh\n",
    "curl -sLO https://raw.githubusercontent.com/eficode/wait-for/master/wait-for\n",
    "chmod u+x wait-for"
   ]
  },
  {
   "cell_type": "code",
   "execution_count": 2,
   "metadata": {},
   "outputs": [],
   "source": [
    "import os\n",
    "import subprocess\n",
    "import webbrowser\n",
    "import threading \n",
    "\n",
    "def run_flask_and_curl(app, cmd):\n",
    "    stdout = None\n",
    "    result = subprocess.Popen(\n",
    "        f'./wait-for localhost:5000 -- {cmd}', \n",
    "        shell = True,\n",
    "        stdout = subprocess.PIPE,\n",
    "        text = True\n",
    "    )\n",
    "    try:\n",
    "        subprocess.run(\n",
    "            f'flask run', \n",
    "            shell = True, \n",
    "            env = {'FLASK_APP': app, 'PATH': os.environ['PATH']},\n",
    "            timeout = 1.5\n",
    "        )\n",
    "    except (KeyboardInterrupt, subprocess.TimeoutExpired):\n",
    "        pass\n",
    "    try:\n",
    "        stdout = result.communicate()[0]\n",
    "    except KeyboardInterrupt:\n",
    "        pass\n",
    "    return stdout\n",
    "\n",
    "def run_flask_and_brwose(app, url, debug = False):\n",
    "    threading.Timer(1, lambda: webbrowser.open_new(url)).start()\n",
    "    try:\n",
    "        subprocess.run(\n",
    "            f'flask run', \n",
    "            shell = True, \n",
    "            env = {'FLASK_APP': app, 'PATH': os.environ['PATH'], 'FLASK_DEBUG': '1' if debug else '0'},\n",
    "        )\n",
    "    except KeyboardInterrupt:\n",
    "        pass"
   ]
  },
  {
   "cell_type": "markdown",
   "metadata": {},
   "source": [
    "# Flask\n",
    "\n",
    "Piuttosto che il gigantesco Django, meglio il  *micro* framweork [Flask](https://flask.palletsprojects.com/)."
   ]
  },
  {
   "cell_type": "code",
   "execution_count": 3,
   "metadata": {},
   "outputs": [
    {
     "name": "stdout",
     "output_type": "stream",
     "text": [
      "Writing app_simple.py\n"
     ]
    }
   ],
   "source": [
    "%%writefile app_simple.py\n",
    "\n",
    "from flask import Flask\n",
    "\n",
    "app = Flask(__name__)\n",
    "\n",
    "@app.route('/')\n",
    "def hello():\n",
    "    return 'Hello, world!' "
   ]
  },
  {
   "cell_type": "code",
   "execution_count": 4,
   "metadata": {},
   "outputs": [
    {
     "data": {
      "text/plain": [
       "'Hello, world!'"
      ]
     },
     "execution_count": 4,
     "metadata": {},
     "output_type": "execute_result"
    }
   ],
   "source": [
    "run_flask_and_curl('app_simple.py', 'curl http://localhost:5000/')"
   ]
  },
  {
   "cell_type": "code",
   "execution_count": 5,
   "metadata": {},
   "outputs": [
    {
     "data": {
      "text/plain": [
       "'<!DOCTYPE HTML PUBLIC \"-//W3C//DTD HTML 3.2 Final//EN\">\\n<title>404 Not Found</title>\\n<h1>Not Found</h1>\\n<p>The requested URL was not found on the server. If you entered the URL manually please check your spelling and try again.</p>\\n'"
      ]
     },
     "execution_count": 5,
     "metadata": {},
     "output_type": "execute_result"
    }
   ],
   "source": [
    "run_flask_and_curl('app_simple.py', 'curl http://localhost:5000/te')"
   ]
  },
  {
   "cell_type": "code",
   "execution_count": 6,
   "metadata": {},
   "outputs": [
    {
     "name": "stdout",
     "output_type": "stream",
     "text": [
      "Writing app_debug.py\n"
     ]
    }
   ],
   "source": [
    "%%writefile app_debug.py\n",
    "\n",
    "from flask import Flask\n",
    "\n",
    "X = 0 \n",
    "\n",
    "app = Flask(__name__)\n",
    "\n",
    "@app.route('/')\n",
    "def hello():\n",
    "    return f'Hello, {1/X}!'"
   ]
  },
  {
   "cell_type": "code",
   "execution_count": 7,
   "metadata": {},
   "outputs": [],
   "source": [
    "run_flask_and_brwose('app_debug.py', 'http://localhost:5000/')"
   ]
  },
  {
   "cell_type": "code",
   "execution_count": 8,
   "metadata": {},
   "outputs": [],
   "source": [
    "run_flask_and_brwose('app_debug.py', 'http://localhost:5000/', debug = True)"
   ]
  },
  {
   "cell_type": "code",
   "execution_count": 9,
   "metadata": {},
   "outputs": [
    {
     "name": "stdout",
     "output_type": "stream",
     "text": [
      "Writing app_get.py\n"
     ]
    }
   ],
   "source": [
    "%%writefile app_get.py\n",
    "\n",
    "from flask import Flask, request, escape\n",
    "\n",
    "app = Flask(__name__)\n",
    "\n",
    "@app.route('/getme', methods = ['GET'])\n",
    "def getme():\n",
    "    name = request.args.get('name', '[default]')\n",
    "    return f'Your name is: {escape(name)}'"
   ]
  },
  {
   "cell_type": "code",
   "execution_count": 10,
   "metadata": {},
   "outputs": [
    {
     "data": {
      "text/plain": [
       "'Your name is: Pino'"
      ]
     },
     "execution_count": 10,
     "metadata": {},
     "output_type": "execute_result"
    }
   ],
   "source": [
    "run_flask_and_curl('app_get.py', 'curl -X GET \"http://127.0.0.1:5000/getme?name=Pino\"')"
   ]
  },
  {
   "cell_type": "code",
   "execution_count": 11,
   "metadata": {},
   "outputs": [
    {
     "name": "stdout",
     "output_type": "stream",
     "text": [
      "Writing app_post.py\n"
     ]
    }
   ],
   "source": [
    "%%writefile app_post.py\n",
    "\n",
    "from flask import Flask, request, escape\n",
    "\n",
    "app = Flask(__name__)\n",
    "\n",
    "@app.route('/postme', methods = ['POST'])\n",
    "def postme():\n",
    "    name = request.form.get('name', '[default]')\n",
    "    return f'Your name is: {escape(name)}'"
   ]
  },
  {
   "cell_type": "code",
   "execution_count": 12,
   "metadata": {},
   "outputs": [
    {
     "data": {
      "text/plain": [
       "'Your name is: Pino'"
      ]
     },
     "execution_count": 12,
     "metadata": {},
     "output_type": "execute_result"
    }
   ],
   "source": [
    "run_flask_and_curl('app_post.py', 'curl -X POST -d name=Pino http://127.0.0.1:5000/postme')"
   ]
  },
  {
   "cell_type": "code",
   "execution_count": 13,
   "metadata": {},
   "outputs": [
    {
     "name": "stdout",
     "output_type": "stream",
     "text": [
      "Writing app_varroutes.py\n"
     ]
    }
   ],
   "source": [
    "%%writefile app_varroutes.py\n",
    "\n",
    "from flask import Flask\n",
    "\n",
    "app = Flask(__name__)\n",
    "\n",
    "@app.route('/product/<int:post_id>')\n",
    "def post(post_id):\n",
    "    return f'Product {post_id}'\n"
   ]
  },
  {
   "cell_type": "code",
   "execution_count": 14,
   "metadata": {},
   "outputs": [
    {
     "data": {
      "text/plain": [
       "'Product 123'"
      ]
     },
     "execution_count": 14,
     "metadata": {},
     "output_type": "execute_result"
    }
   ],
   "source": [
    "run_flask_and_curl('app_varroutes.py', 'curl http://127.0.0.1:5000/product/123')"
   ]
  },
  {
   "cell_type": "code",
   "execution_count": 15,
   "metadata": {},
   "outputs": [],
   "source": [
    "! mkdir -p tplapp/templates/"
   ]
  },
  {
   "cell_type": "code",
   "execution_count": 16,
   "metadata": {},
   "outputs": [
    {
     "name": "stdout",
     "output_type": "stream",
     "text": [
      "Writing tplapp/templates/hello.html\n"
     ]
    }
   ],
   "source": [
    "%%writefile tplapp/templates/hello.html\n",
    "\n",
    "<!doctype html>\n",
    "<title>Hello from Flask</title>\n",
    "{% if name %}\n",
    "  <h1>Hello {{ name }}!</h1>\n",
    "{% else %}\n",
    "  <h1>Hello, World!</h1>\n",
    "{% endif %}"
   ]
  },
  {
   "cell_type": "code",
   "execution_count": 17,
   "metadata": {},
   "outputs": [
    {
     "name": "stdout",
     "output_type": "stream",
     "text": [
      "Writing tplapp/__init__.py\n"
     ]
    }
   ],
   "source": [
    "%%writefile tplapp/__init__.py\n",
    "\n",
    "from flask import Flask, render_template\n",
    "\n",
    "app = Flask(__name__)\n",
    "\n",
    "@app.route('/hello/')\n",
    "@app.route('/hello/<name>')\n",
    "def hello(name = None):\n",
    "    return render_template('hello.html', name = name)"
   ]
  },
  {
   "cell_type": "code",
   "execution_count": 18,
   "metadata": {},
   "outputs": [],
   "source": [
    "run_flask_and_brwose('tplapp', 'http://localhost:5000/hello/World')"
   ]
  }
 ],
 "metadata": {
  "kernelspec": {
   "display_name": "Python 3",
   "language": "python",
   "name": "python3"
  },
  "language_info": {
   "codemirror_mode": {
    "name": "ipython",
    "version": 3
   },
   "file_extension": ".py",
   "mimetype": "text/x-python",
   "name": "python",
   "nbconvert_exporter": "python",
   "pygments_lexer": "ipython3",
   "version": "3.7.4"
  }
 },
 "nbformat": 4,
 "nbformat_minor": 2
}
